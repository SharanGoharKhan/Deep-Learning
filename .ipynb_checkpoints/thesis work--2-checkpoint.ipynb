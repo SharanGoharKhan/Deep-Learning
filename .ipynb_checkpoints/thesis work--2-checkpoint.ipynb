{
 "cells": [
  {
   "cell_type": "markdown",
   "metadata": {},
   "source": [
    "# Thesis work--2\n",
    "# A new method for multivariate regression problem for improving fitness in Genetic Programming"
   ]
  },
  {
   "cell_type": "markdown",
   "metadata": {},
   "source": [
    "### Importing the libraries"
   ]
  },
  {
   "cell_type": "code",
   "execution_count": 39,
   "metadata": {},
   "outputs": [],
   "source": [
    "import numpy as np\n",
    "import matplotlib.pyplot as plt\n",
    "import pandas as pd\n",
    "from random import randrange, uniform\n",
    "from sklearn.utils import check_random_state\n",
    "from sklearn.metrics import mean_squared_error\n",
    "from sklearn.model_selection import train_test_split\n",
    "from gplearn.genetic import SymbolicRegressor\n",
    "from matplotlib.pyplot import figure"
   ]
  },
  {
   "cell_type": "markdown",
   "metadata": {},
   "source": [
    "### Global variables and functions for tuning"
   ]
  },
  {
   "cell_type": "code",
   "execution_count": 2,
   "metadata": {},
   "outputs": [],
   "source": [
    "FEATURES = 2\n",
    "NUMBER_OF_GENERATION = 20\n",
    "ROWS = 300\n",
    "POPULATION_SIZE = 400\n",
    "TEST_SIZE = .2\n",
    "NUMBER_OF_REGIONS = 3\n",
    "formula = lambda X: X[:, 0]**2 - X[:, 1]**2 + X[:, 1] - 1"
   ]
  },
  {
   "cell_type": "markdown",
   "metadata": {},
   "source": [
    "### Generating Training Samples"
   ]
  },
  {
   "cell_type": "code",
   "execution_count": 4,
   "metadata": {},
   "outputs": [],
   "source": [
    "rng = check_random_state(0)\n",
    "X = rng.uniform(-1, 1, ROWS).reshape(ROWS//FEATURES, FEATURES)\n",
    "Y = formula(X)"
   ]
  },
  {
   "cell_type": "markdown",
   "metadata": {},
   "source": [
    "### Splitting the dataset into the Training set and Test set"
   ]
  },
  {
   "cell_type": "code",
   "execution_count": 5,
   "metadata": {},
   "outputs": [],
   "source": [
    "X_train, X_test, y_train, y_test = train_test_split(X, Y, test_size = 0.2, random_state = 0)"
   ]
  },
  {
   "cell_type": "markdown",
   "metadata": {},
   "source": [
    "### Applying PCA"
   ]
  },
  {
   "cell_type": "code",
   "execution_count": 6,
   "metadata": {},
   "outputs": [],
   "source": [
    "from sklearn.decomposition import PCA\n",
    "pca = PCA(n_components = 1)\n",
    "#print(X_train)\n",
    "X_train_pca = pca.fit_transform(X_train)\n",
    "X_test_pca = pca.transform(X_test)\n",
    "explained_variance = pca.explained_variance_ratio_\n",
    "#print(X_train_pca)\n",
    "#print(X_test_pca)\n",
    "# print(np.shape(X_train),np.shape(X_test))\n",
    "#print(explained_variance)"
   ]
  },
  {
   "cell_type": "markdown",
   "metadata": {},
   "source": [
    "### Calculating DV"
   ]
  },
  {
   "cell_type": "code",
   "execution_count": 7,
   "metadata": {},
   "outputs": [
    {
     "name": "stdout",
     "output_type": "stream",
     "text": [
      "{0: [2, 3, 7, 10, 12, 14, 19, 22, 24, 25, 29, 31, 33, 35, 37, 41, 44, 49, 51, 53, 54, 56, 62, 64, 67, 72, 74, 78, 79, 82, 84, 86, 90, 94, 97, 99, 101, 103, 110, 113], 1: [0, 1, 5, 9, 11, 17, 18, 27, 36, 40, 46, 47, 48, 58, 59, 60, 65, 66, 69, 70, 75, 76, 79, 81, 87, 88, 89, 91, 92, 95, 98, 105, 106, 107, 108, 111, 114, 115, 116, 117], 2: [4, 6, 8, 11, 13, 15, 16, 20, 21, 23, 26, 28, 30, 32, 34, 38, 39, 42, 43, 45, 50, 52, 55, 57, 61, 63, 68, 71, 73, 77, 80, 83, 85, 93, 96, 100, 102, 104, 109, 112]}\n"
     ]
    }
   ],
   "source": [
    "# sort X_train_pca and y_train by index\n",
    "sorted_indexes = np.argsort(X_train_pca,axis=0)\n",
    "sorted_x_train_pca = X_train_pca[sorted_indexes]\n",
    "sorted_y_train = y_train[sorted_indexes]\n",
    "\n",
    "# Finding Change of Slope\n",
    "slope1 = []\n",
    "slope2 = []\n",
    "for itr in range(1,len(sorted_x_train_pca)):\n",
    "    slope1.append((sorted_y_train[itr]-sorted_y_train[itr-1])/(sorted_x_train_pca[itr]-sorted_x_train_pca[itr-1]))\n",
    "for itr in range(1,len(slope1)):\n",
    "    slope2.append((slope1[itr]-slope1[itr-1])/(sorted_x_train_pca[itr]-sorted_x_train_pca[itr-1]))\n",
    "\n",
    "# normalize slope2 \n",
    "normalized_slope2 = (slope2-min(slope2))/(max(slope2)-min(slope2))\n",
    "\n",
    "# Calculating Quantiles\n",
    "normalized_slope2 = np.reshape(normalized_slope2,len(normalized_slope2))\n",
    "quantile_ranges = pd.qcut(normalized_slope2,NUMBER_OF_REGIONS,labels=False,retbins=True)\n",
    "quantile_ranges = quantile_ranges[1]\n",
    "\n",
    "# Adding the difficult Vectors\n",
    "difficult_points = {}\n",
    "for q_ind in range(NUMBER_OF_REGIONS):\n",
    "    low = quantile_ranges[q_ind]\n",
    "    high = quantile_ranges[q_ind+1]\n",
    "    difficult_points[q_ind] = []\n",
    "    for n_ind in range(0,len(normalized_slope2)):\n",
    "        if normalized_slope2[n_ind] >= low and normalized_slope2[n_ind] <= high:\n",
    "            difficult_points[q_ind].append(n_ind)\n",
    "print(difficult_points)"
   ]
  },
  {
   "cell_type": "markdown",
   "metadata": {},
   "source": [
    "### Training of converted PCA"
   ]
  },
  {
   "cell_type": "code",
   "execution_count": 8,
   "metadata": {},
   "outputs": [],
   "source": [
    "est_gp = SymbolicRegressor(population_size=POPULATION_SIZE,\n",
    "                           generations=NUMBER_OF_GENERATION, stopping_criteria=0.01,\n",
    "                           p_crossover=0.7, p_subtree_mutation=0.1,\n",
    "                           p_hoist_mutation=0.05, p_point_mutation=0.1,\n",
    "                           max_samples=0.9, verbose=1,\n",
    "                           parsimony_coefficient=0.01, random_state=0)\n"
   ]
  },
  {
   "cell_type": "markdown",
   "metadata": {},
   "source": [
    "### Getting the different regions of difficulty level"
   ]
  },
  {
   "cell_type": "code",
   "execution_count": 9,
   "metadata": {},
   "outputs": [],
   "source": [
    "# Hard to evolve points\n",
    "hard_to_evolve_x = X_train_pca[difficult_points[0]]\n",
    "hard_to_evolve_y = y_train[difficult_points[0]]\n",
    "\n",
    "# Medium to evolve points\n",
    "medium_to_evolve_x = X_train_pca[difficult_points[1]]\n",
    "medium_to_evolve_y = y_train[difficult_points[1]]\n",
    "\n",
    "# Easy to evolve points\n",
    "easy_to_evolve_x = X_train_pca[difficult_points[2]]\n",
    "easy_to_evolve_y = y_train[difficult_points[2]]\n"
   ]
  },
  {
   "cell_type": "markdown",
   "metadata": {},
   "source": [
    "### Feed the system hard to evolve points first"
   ]
  },
  {
   "cell_type": "code",
   "execution_count": 10,
   "metadata": {},
   "outputs": [
    {
     "name": "stdout",
     "output_type": "stream",
     "text": [
      "    |    Population Average   |             Best Individual              |\n",
      "---- ------------------------- ------------------------------------------ ----------\n",
      " Gen   Length          Fitness   Length          Fitness      OOB Fitness  Time Left\n",
      "   0    46.62 81.35580984963467       15 0.5226602104681045 0.18657394344567546      9.29s\n",
      "   1    11.84 2.370129450981327        7 0.40371018765547817 0.5651704149650335     11.54s\n",
      "   2      8.9 1.135546949227627        7 0.38387045665789415 0.7437279939432903     11.41s\n",
      "   3     7.56 1.0849293438962144        7 0.33174376492399565 1.2128682195483762     10.91s\n",
      "   4     7.03 1.0194092229457348        7 0.36454508913297823 0.9176563016675334     10.74s\n",
      "   5     6.76 1.0210115269863218        7 0.36391414122224686 0.7162377017055817     10.29s\n",
      "   6     6.55 1.1694955588406741        7 0.33913845243411234 0.9214245184627423      9.31s\n",
      "   7     6.42 1.450040287899351        7 0.3461359284671352 0.8584472341655367      8.56s\n",
      "   8     5.98 1.1001533775472294        5 0.3414264560556245 0.9150944429455766      7.79s\n",
      "   9     5.46 0.972935053630888        5 0.32416379555168245 1.0704583874810552      6.93s\n",
      "  10     5.69 1.170505811222043        5 0.3352929090069936 0.970296366383255      6.15s\n",
      "  11     5.26 1.0594500017304265        5 0.34301249318818716 0.9008201087525125      5.38s\n",
      "  12     5.24 1.394036299848086        5 0.3445268094946841 0.8871912619940396      4.64s\n",
      "  13     5.25 1.2624872565278533        5 0.33221133218871396 0.9980305577477715      4.00s\n",
      "  14     5.44 2.015219761718946        5 0.34823775825643477 0.8537927231382842      3.37s\n",
      "  15     5.14 1.1530014495550218        5 0.3269601098102225 1.0452915591541947      2.67s\n",
      "  16     5.43 4.249609186565352        5 0.3445401717764907 0.887071001457781      2.01s\n",
      "  17      5.2 1.1027145114904915        5 0.34411283816581545 0.8909170039538579      1.33s\n",
      "  18     5.86 1.9487462890198952        5 0.3309731774461049 1.009173950431253      0.66s\n",
      "  19     5.09 1.0415565123237087        5 0.34212543934979256 0.9088035932980638      0.00s\n",
      "sub(-0.749, sub(0.465, X0))\n"
     ]
    }
   ],
   "source": [
    "est_gp.fit(hard_to_evolve_x,hard_to_evolve_y)\n",
    "print(est_gp._program)"
   ]
  },
  {
   "cell_type": "markdown",
   "metadata": {},
   "source": [
    "### Feed the system Medium to evolve points keeping the current modal state appending generation by current generation"
   ]
  },
  {
   "cell_type": "code",
   "execution_count": 11,
   "metadata": {},
   "outputs": [
    {
     "name": "stdout",
     "output_type": "stream",
     "text": [
      "    |    Population Average   |             Best Individual              |\n",
      "---- ------------------------- ------------------------------------------ ----------\n",
      " Gen   Length          Fitness   Length          Fitness      OOB Fitness  Time Left\n",
      "  20     5.13 0.8574487518602965        5 0.3267866271029777 0.8472058383183463      0.57s\n",
      "  21     5.42 1.0934804262498263        5 0.3341710163619804 0.7807463349873226      0.98s\n",
      "  22     5.54 1.3065910550360171        5 0.3219719956373253 0.8905375215092179      1.21s\n",
      "  23     5.22 0.9163133307088017        5 0.3360238074178759 0.764071215484263      1.53s\n",
      "  24     5.25 1.3271196762143518        5 0.32890460293792345 0.8281440558038344      1.79s\n",
      "  25     5.06 0.9318812346741475        5 0.325343980224737 0.8601896602225131      1.86s\n",
      "  26      5.2 1.1513096595670227        5 0.32391126236464934 0.8730841209633019      1.96s\n",
      "  27     5.32 0.9750074593918298        5 0.33102674647804403 0.8090447639427496      1.93s\n",
      "  28     5.39 1.1859917523004102        5 0.3337398715815813 0.7846266380109141      1.88s\n",
      "  29     4.88 1.0355851752626666        5 0.33151275159030646 0.8046707179323875      1.83s\n",
      "  30     5.11 1.3629614899159992        5 0.33159075633280705 0.8039686752498828      1.72s\n",
      "  31      5.4 0.9169046681271203        5 0.3291677288470756 0.8257759226214652      1.60s\n",
      "  32     5.03 0.9836295903309229        5 0.3210882877714393 0.8984908923021926      1.49s\n",
      "  33     5.84 0.9154018259964498        5 0.3128715052995134 0.9724419345495251      1.33s\n",
      "  34     5.06 1.1282620569739843        5 0.3065273026817452 1.0295397581094383      1.16s\n",
      "  35     5.36 3.083450159183356        5 0.31418183031841884 0.960649009379376      0.96s\n",
      "  36     5.52 1.7912320031939049        5 0.31453981603558845 0.9574271379248502      0.74s\n",
      "  37     5.04 0.9585894629775895        5 0.34273643633464473 0.7036575552333433      0.51s\n",
      "  38     5.24 3.0245476934615807        5 0.3274731593580137 0.8410270480230222      0.27s\n",
      "  39     5.19 0.8643955304741562        5 0.3172024565054739 0.9334633736958808      0.00s\n",
      "sub(-0.749, sub(0.465, X0))\n"
     ]
    }
   ],
   "source": [
    "est_gp.set_params(generations=NUMBER_OF_GENERATION*2, warm_start=True)\n",
    "est_gp.fit(medium_to_evolve_x,medium_to_evolve_y)\n",
    "print(est_gp._program)"
   ]
  },
  {
   "cell_type": "markdown",
   "metadata": {},
   "source": [
    "### Same process but for easy to evolve points and this is our result"
   ]
  },
  {
   "cell_type": "code",
   "execution_count": 12,
   "metadata": {},
   "outputs": [
    {
     "name": "stdout",
     "output_type": "stream",
     "text": [
      "    |    Population Average   |             Best Individual              |\n",
      "---- ------------------------- ------------------------------------------ ----------\n",
      " Gen   Length          Fitness   Length          Fitness      OOB Fitness  Time Left\n",
      "  40     5.56 1.3826835874818966        5 0.4267099561006126 1.0382196834949988      0.25s\n",
      "  41     5.65 1.1283526081175839        5 0.43380834472817964 0.9743341858468948      0.42s\n",
      "  42     5.15 1.2982424272198967        7 0.3586519772549437 0.4676661152019958      0.60s\n",
      "  43     5.38 2.313528759890423        7 0.3574685028562641 0.47831738479011243      0.74s\n",
      "  44     6.04 0.9380894201342194        7 0.32200319197302285 0.797505182739283      0.89s\n",
      "  45     7.34 1.0247895655139905        7 0.322909960559394 0.7893442654619429      1.02s\n",
      "  46      7.4 1.2534829078501897        7 0.30928489334209175 0.9119698704176632      1.15s\n",
      "  47     7.42 2.6615992258033248        7 0.3357815941608486 0.6734995630488516      1.32s\n",
      "  48     7.02 1.4091321896656563        7 0.3252917812270836 0.767907879452737      1.35s\n",
      "  49     7.16 0.9707647500527736        7 0.3080856579659215 0.9227629888031956      1.38s\n",
      "  50     7.26 0.811875580888924        7 0.3295180271903241 0.7298716657835723      1.33s\n",
      "  51      7.2 2.489414547406941        7 0.31388112696392617 0.8706037678211533      1.29s\n",
      "  52     6.88 0.904985585991766        7 0.3211132035185357 0.8055150788296677      1.24s\n",
      "  53     7.52 1.3937810918772249        7 0.3276843941252636 0.7463743633691162      1.13s\n",
      "  54      7.7 1.761014071550547        7 0.31324326838473 0.8763444950339188      1.01s\n",
      "  55     7.28 0.8519453387105557        7 0.31575184932269285 0.8537672665922531      0.87s\n",
      "  56     6.94 1.6751868220807105        7 0.30007884923280137 0.9948242674012762      0.68s\n",
      "  57     7.32 1.124050514185631        7 0.31983108731534743 0.8170541246583618      0.48s\n",
      "  58     6.97 1.2502041932715289        7 0.31177443939303917 0.8895639559591363      0.25s\n",
      "  59     7.34 0.9528834365518773        7 0.32481498637002854 0.7721990331662321      0.00s\n",
      "sub(-0.749, sub(mul(X0, X0), X0))\n"
     ]
    }
   ],
   "source": [
    "est_gp.set_params(generations=NUMBER_OF_GENERATION*3, warm_start=True)\n",
    "est_gp.fit(easy_to_evolve_x,easy_to_evolve_y)\n",
    "print(est_gp._program)"
   ]
  },
  {
   "cell_type": "markdown",
   "metadata": {},
   "source": [
    "### Training of data without PCA without DV"
   ]
  },
  {
   "cell_type": "code",
   "execution_count": 13,
   "metadata": {},
   "outputs": [
    {
     "name": "stdout",
     "output_type": "stream",
     "text": [
      "    |    Population Average   |             Best Individual              |\n",
      "---- ------------------------- ------------------------------------------ ----------\n",
      " Gen   Length          Fitness   Length          Fitness      OOB Fitness  Time Left\n",
      "   0    37.62 3240.640395038094        7 0.6545326193170877 0.6616696381861505     27.60s\n",
      "   1     10.7 92.47048856168368       33 0.4709350621474633 0.2862887087816357     43.32s\n",
      "   2     8.14 1.273082989831628        9 0.3569102194188221 0.3925020603803262     41.52s\n",
      "   3     5.94 0.9222795634594203        9 0.28938466071396307 0.22662414357543156     44.05s\n",
      "   4     7.12 0.9018641283795599        9 0.27050030819879933 0.39658331621190523     42.21s\n",
      "   5      7.2 1.4341901879856875       13 0.2544773141806192 0.42613402596172145     42.16s\n",
      "   6     8.99 1.2355242305923293        9 0.253047676152755 0.5536570046263042     40.91s\n",
      "   7     9.06 0.7637524505958402       11 0.2545534634939961 0.3196812755892966     40.15s\n",
      "   8     9.14 0.7732535419639132        9 0.2578874746694214 0.5100988179763065     39.18s\n",
      "   9     9.14 0.8039480920077847        9 0.25103982172368233 0.4688088847673417     38.18s\n",
      "  10     8.97 0.8023841562035159        9 0.25074529390902633 0.47145963509924543     37.08s\n",
      "  11     8.88 0.8299355326486184        9 0.2501265945882167 0.4770279289865327     36.45s\n",
      "  12     9.23 0.7707543974712153        9 0.24845038728996147 0.4921137946708294     35.53s\n",
      "  13     9.28 119.80206939764086        9 0.25319904387689196 0.4493758853884548     34.52s\n",
      "  14     8.81 0.7753362402295599        9 0.25322542322292335 0.44913847127417267     33.73s\n",
      "  15     8.74 0.8503190571121547        9 0.2545292694952185 0.4374038548235164     32.68s\n",
      "  16     9.07 0.8873918294570661        9 0.2496610258604738 0.4812180475362185     32.23s\n",
      "  17     8.99 0.7641408536987788        9 0.2539795564501502 0.442351272229131     32.80s\n",
      "  18     8.66 0.7886828894906244       11 0.2553369114067439 0.32041573220479685     32.31s\n",
      "  19     9.21 0.9082937437316565        9 0.25666424944735555 0.41818903525428297     31.63s\n",
      "  20     9.18 0.8367790219452309        9 0.24465336892327116 0.5262869599710425     31.03s\n",
      "  21     8.74 0.8568586358489919        9 0.24608158295889404 0.5134330336504362     30.20s\n",
      "  22     8.85 0.8703144452901868        9 0.24805668687304713 0.49565709842305866     29.32s\n",
      "  23     8.79 0.8021767839604813        9 0.24764152395766775 0.49939356466147294     29.17s\n",
      "  24     9.03 1.224226639876774        9 0.24560722856382153 0.5177022232060894     29.17s\n",
      "  25      8.9 0.8221509289852381        9 0.24803446834374285 0.4958570651867971     28.58s\n",
      "  26     8.86 1.0700575460756705        9 0.24156524453078035 0.5015347959331452     27.81s\n",
      "  27     8.99 0.8009354033747164        9 0.2515813758646531 0.4113896139282904     26.90s\n",
      "  28     9.18 0.7673825896144129        9 0.24462414519312622 0.5265499735423469     26.30s\n",
      "  29     8.68 0.743720171377787        9 0.23822079594614676 0.5316348331948478     25.49s\n",
      "  30      9.1 0.8104426388816733        9 0.2414600789684646 0.502481285993987     24.65s\n",
      "  31     9.12 0.8090956851564678        9 0.24052708904733433 0.5108781952841591     23.97s\n",
      "  32     8.72 0.8491492407865147        9 0.24801121140498342 0.36858580358166676     23.15s\n",
      "  33     8.88 1.142321662196139        9 0.24253883953768357 0.4178371503873651     22.31s\n",
      "  34     8.93 1.0217844941132257        9 0.24142230616581214 0.42788595073420793     21.91s\n",
      "  35      9.3 0.7920703574499455        9 0.24221244780911086 0.4207746759445195     21.37s\n",
      "  36     8.72 0.867808491457076        9 0.2433929859459526 0.41014983271294386     20.90s\n",
      "  37      8.8 12.575404819261998        9 0.23692715801995087 0.46834228404695927     20.26s\n",
      "  38     8.52 0.7468244255663126        9 0.23450309112203047 0.4901588861282427     19.56s\n",
      "  39     8.73 2.181133510107252        9 0.23833304249872864 0.4556893237379594     18.74s\n",
      "  40     9.29 0.8782765174036561        9 0.23249473182152058 0.5082341198328317     17.85s\n",
      "  41     8.85 0.9008132298462561        9 0.23399959507646959 0.4946903505382907     16.93s\n",
      "  42     9.24 2.9625889974142052        9 0.22604604464478906 0.5662723044234156     16.05s\n",
      "  43     8.72 0.752462870997092        9 0.2425513932565707 0.41772416691738073     15.14s\n",
      "  44      9.1 11.494186448469348        9 0.23963854315906816 0.4439398177949036     14.24s\n",
      "  45     9.26 0.8470243929848695        9 0.2438731709712739 0.4058281674850522     13.38s\n",
      "  46     9.05 0.807929080354412        9 0.2368989792456489 0.4685958930156772     12.46s\n",
      "  47     8.86 0.8168842184414424        9 0.23502279826751682 0.4854815218188658     11.52s\n",
      "  48     8.76 0.9352228696124314        9 0.2391543046323712 0.4482979645351762     10.60s\n",
      "  49     8.98 0.7292264208025628        9 0.2365621346676552 0.4716274942176204      9.70s\n",
      "  50     8.82 0.8085249193255101        9 0.23615442193121872 0.4752969088455483      8.79s\n",
      "  51     9.04 0.8335125002707798        9 0.23576979488960456 0.4787585522200763      7.83s\n",
      "  52     8.72 0.9517681148383746        9 0.2433463921239992 0.41056917711052465      6.88s\n",
      "  53     8.94 0.8740378972615278        9 0.23768701305169043 0.46150358876130343      5.91s\n",
      "  54     9.08 0.9142986980589017        9 0.23749282721386744 0.46325126130170996      4.96s\n",
      "  55     9.12 0.8410115434198596        9 0.24134242717843934 0.4286048616205631      3.97s\n",
      "  56     8.93 4.771369383824732        9 0.24030651740406014 0.437928049589976      2.97s\n",
      "  57     9.14 0.8325148878643917        9 0.2379998434525066 0.45868811515395774      1.99s\n",
      "  58      8.9 0.7401749809408906        9 0.236149516071757 0.47534106158070416      0.99s\n",
      "  59     9.43 0.8291116168675869        9 0.23362288877187376 0.4374455208367312      0.00s\n",
      "sub(mul(mul(add(X1, -0.986), -0.929), X1), 0.891)\n"
     ]
    }
   ],
   "source": [
    "# Generating random data\n",
    "rng = check_random_state(0)\n",
    "X = rng.uniform(-1, 1, ROWS).reshape(ROWS//FEATURES, FEATURES)\n",
    "Y = formula(X)\n",
    "# Dividing it into training and test set\n",
    "X_train, X_test, y_train, y_test = train_test_split(X, Y, test_size = TEST_SIZE, random_state = 0)\n",
    "# Training the system\n",
    "est_gp = SymbolicRegressor(population_size=POPULATION_SIZE,\n",
    "                           generations=NUMBER_OF_GENERATION*3, stopping_criteria=0.01,\n",
    "                           p_crossover=0.7, p_subtree_mutation=0.1,\n",
    "                           p_hoist_mutation=0.05, p_point_mutation=0.1,\n",
    "                           max_samples=0.9, verbose=1,\n",
    "                           parsimony_coefficient=0.01, random_state=0)\n",
    "est_gp.fit(X_train,y_train)\n",
    "print(est_gp._program)"
   ]
  },
  {
   "cell_type": "markdown",
   "metadata": {},
   "source": [
    "### Calculate fitness "
   ]
  },
  {
   "cell_type": "code",
   "execution_count": 14,
   "metadata": {},
   "outputs": [
    {
     "name": "stdout",
     "output_type": "stream",
     "text": [
      "Fitness of Training of data without PCA without DV:  0.1583493614822914\n"
     ]
    }
   ],
   "source": [
    "x0 = X_test[:,0]\n",
    "x1 = X_test[:,1]\n",
    "predicted_formula_result_y = est_gp.predict(np.c_[x0.ravel(), x1.ravel()]).reshape(x0.shape)\n",
    "fitness = mean_squared_error(y_test, predicted_formula_result_y)\n",
    "print('Fitness of Training of data without PCA without DV: ',str(fitness))"
   ]
  },
  {
   "cell_type": "markdown",
   "metadata": {},
   "source": [
    "### Training of data with PCA without DV"
   ]
  },
  {
   "cell_type": "code",
   "execution_count": 15,
   "metadata": {},
   "outputs": [
    {
     "name": "stdout",
     "output_type": "stream",
     "text": [
      "    |    Population Average   |             Best Individual              |\n",
      "---- ------------------------- ------------------------------------------ ----------\n",
      " Gen   Length          Fitness   Length          Fitness      OOB Fitness  Time Left\n",
      "   0    46.62  73.561646844872       15 0.45794064423252584 0.5832914875042755     37.30s\n",
      "   1    12.11 2.2732534282980037        7 0.37893692918293836 0.5132012503244892     44.49s\n",
      "   2      8.2 1.199192283177446        7 0.37817371139549316 0.5200702104114959     43.38s\n",
      "   3     6.06 0.9396369646395795        7 0.38028213399020167 0.42934383959468914     40.62s\n",
      "   4     5.74 0.9382336536739111        7 0.3675312186046419 0.6158526455291579     38.79s\n",
      "   5     7.14 0.9837011059871148        7 0.3669262113467895 0.621297710849829     38.90s\n",
      "   6     7.04 1.1911653009775511        7 0.35647760357587505 0.7153351807880591     38.34s\n",
      "   7     7.15 1.3965400296965695        7 0.36429674944117313 0.6449628680003767     38.20s\n",
      "   8      7.2 1.217955042578335        7 0.36042988951460586 0.6797646073394822     37.38s\n",
      "   9     7.14 0.7880549383723919        7 0.36039735334058315 0.608306865441255     36.55s\n",
      "  10     7.72 0.9650220745528267        7 0.36101621926307986 0.6027370721387847     35.40s\n",
      "  11     7.31 0.8803215820902736        7 0.3648060986714215 0.5686281574637103     34.48s\n",
      "  12      7.1 1.1638051771728954        7 0.3558134448469477 0.6495620418839746     33.68s\n",
      "  13      7.1 1.1288965656197556        7 0.3538160766892009 0.6675383553036957     32.63s\n",
      "  14     7.47 1.257534982612769        7 0.35773574484939386 0.6322613418619589     31.94s\n",
      "  15     7.18 1.0124290533721823        7 0.35199260900278834 0.6839495644814089     30.98s\n",
      "  16     7.42 2.8676333999724566        7 0.3532749569848639 0.6724084326427285     30.28s\n",
      "  17     7.34 0.9387697021278657        7 0.3556963474130898 0.6506159187886951     29.83s\n",
      "  18     7.78 1.3633513591438742        7 0.35887422586548623 0.6220150127171276     29.10s\n",
      "  19     6.96 0.9164679577227018        7 0.3573554785176303 0.6356837388478315     28.50s\n",
      "  20     7.01 0.8672994363560185        7 0.3593082934443462 0.6181084045073877     28.06s\n",
      "  21     7.44 0.9712338236039291        7 0.3513172916608369 0.6900274205589714     27.44s\n",
      "  22     7.38 1.3086542556662042        7 0.3559124155898823 0.6486713051975629     26.76s\n",
      "  23     7.04 0.8516412230718098        7 0.35200910533728014 0.6838010974709828     26.05s\n",
      "  24     7.18 1.2649838758427692        7 0.35633616574065924 0.6448575538405703     25.44s\n",
      "  25     6.96 0.8325047291072795        7 0.3485880682281081 0.7145904314535313     24.73s\n",
      "  26      7.2 1.1012719571702019        7 0.3414449994363648 0.7788780505792202     23.98s\n",
      "  27     7.38 0.9037707356645945        7 0.35916432374625057 0.619404131790248     23.13s\n",
      "  28     7.34 1.1846380208648764        7 0.35378109564421156 0.6678531847085999     22.57s\n",
      "  29     6.55 1.04122087763586        7 0.3555903395270007 0.6515699897634977     21.98s\n",
      "  30     7.02 1.2343126166014573        7 0.3569898597333726 0.6389743079061508     21.20s\n",
      "  31     7.24 0.8743557876930734        7 0.35574812716187454 0.650149901049633     20.41s\n",
      "  32     6.96 0.9193575236406614        7 0.36456946204821666 0.5707578870725538     19.71s\n",
      "  33     7.72 0.8822911256961522        7 0.35888490580088644 0.6219188932985253     19.01s\n",
      "  34     7.02 1.290811926857472        7 0.35926783029421056 0.6184725728586086     18.28s\n",
      "  35     7.45 2.3737509640164625        7 0.3631906661718708 0.5831670499596672     17.47s\n",
      "  36     7.27 1.5933076563168123        7 0.35589845015483956 0.6487969941129469     16.76s\n",
      "  37      6.9 0.9122637129283332        7 0.35812976735090246 0.6287151393483817     16.02s\n",
      "  38     7.08 2.16999002250693        7 0.34413013976791484 0.7547117875952697     15.25s\n",
      "  39     7.24 0.863709796531328        7 0.3599832807710004 0.6120335185675002     14.58s\n",
      "  40     7.44 1.2470088204098926        7 0.3484047076541409 0.7162406766192363     13.84s\n",
      "  41     7.62 0.9562813193686271        7 0.3548491782870156 0.6582404409233632     13.13s\n",
      "  42     7.12 1.1133300789956633        7 0.35083560652066664 0.6943625868205038     12.41s\n",
      "  43     7.01 2.0220426456742273        7 0.3538177035671222 0.6675237134024039     11.68s\n",
      "  44     7.18 0.8240873604463397        7 0.35626010133658864 0.6455421334772056     10.95s\n",
      "  45      7.4 1.0083847805387434        7 0.3609336636015036 0.6034800730929714     10.20s\n",
      "  46     7.35 1.1599342840674245        7 0.3524007949198154 0.6802758912281656      9.47s\n",
      "  47     7.55 2.819981442841657        7 0.35930914138317244 0.6181007730579522      8.74s\n",
      "  48     7.06 1.2680240122421054        7 0.3565706898193684 0.6427468371321888      8.02s\n",
      "  49     7.26 0.9372155259192094        7 0.3588148575465464 0.6225493275875861      7.30s\n",
      "  50     7.42 0.8216328666062088        7 0.34982504216566107 0.7034576660155544      6.57s\n",
      "  51     7.23 2.9448410129732014        7 0.3578352709178663 0.6313656072457068      5.84s\n",
      "  52     7.02 0.8768773676056304        7 0.3465752426546717 0.7327058616144587      5.12s\n",
      "  53     7.69 1.2386935110804238        7 0.3556722739083932 0.650832580330965      4.39s\n",
      "  54     7.72 1.7536931606899366        7 0.3597967173681789 0.6137125891928933      3.65s\n",
      "  55     7.34 0.8174576563332547        7 0.35358254751938273 0.6696401178320596      2.92s\n",
      "  56      7.1 1.5144748304581015        7 0.353968262603223 0.6661686820774972      2.19s\n",
      "  57     7.35 1.0755921162278252        7 0.3604416406906514 0.6079082792906408      1.46s\n",
      "  58     7.08 1.4608249106152922        7 0.35401037875037517 0.6657896367531273      0.73s\n",
      "  59     7.43 1.0013374103022061        7 0.34968455698454826 0.7047220326455698      0.00s\n",
      "sub(sub(X0, 0.834), mul(X0, X0))\n"
     ]
    }
   ],
   "source": [
    "# Generating random data\n",
    "rng = check_random_state(0)\n",
    "X = rng.uniform(-1, 1, ROWS).reshape(ROWS//FEATURES, FEATURES)\n",
    "Y = formula(X)\n",
    "\n",
    "# Dividing it into training and test set\n",
    "X_train, X_test, y_train, y_test = train_test_split(X, Y, test_size = TEST_SIZE, random_state = 0)\n",
    "\n",
    "# Convert it to PCA\n",
    "pca = PCA(n_components = 1)\n",
    "X_train_pca = pca.fit_transform(X_train)\n",
    "X_test_pca = pca.transform(X_test)\n",
    "\n",
    "# Training the system\n",
    "est_gp = SymbolicRegressor(population_size=POPULATION_SIZE,\n",
    "                           generations=NUMBER_OF_GENERATION*3, stopping_criteria=0.01,\n",
    "                           p_crossover=0.7, p_subtree_mutation=0.1,\n",
    "                           p_hoist_mutation=0.05, p_point_mutation=0.1,\n",
    "                           max_samples=0.9, verbose=1,\n",
    "                           parsimony_coefficient=0.01, random_state=0)\n",
    "est_gp.fit(X_train_pca,y_train)\n",
    "print(est_gp._program)"
   ]
  },
  {
   "cell_type": "markdown",
   "metadata": {},
   "source": [
    "### Calculate Fitness"
   ]
  },
  {
   "cell_type": "code",
   "execution_count": 16,
   "metadata": {},
   "outputs": [
    {
     "name": "stdout",
     "output_type": "stream",
     "text": [
      "Training of data with PCA without DV: 1.6208536829478182\n"
     ]
    }
   ],
   "source": [
    "x0 = X_test[:,0]\n",
    "x1 = X_test[:,1]\n",
    "predicted_formula_result_y = est_gp.predict(np.c_[x0.ravel()]).reshape(x0.shape)\n",
    "fitness = mean_squared_error(y_test, predicted_formula_result_y)\n",
    "print('Training of data with PCA without DV: '+str(fitness))"
   ]
  },
  {
   "cell_type": "markdown",
   "metadata": {},
   "source": [
    "### Training of data with PCA with DV"
   ]
  },
  {
   "cell_type": "code",
   "execution_count": 55,
   "metadata": {},
   "outputs": [],
   "source": [
    "def train_pca_dv(seed_value):\n",
    "    # Generating random data\n",
    "    rng = check_random_state(seed_value)\n",
    "    X = rng.uniform(-1, 1, ROWS).reshape(ROWS//FEATURES, FEATURES)\n",
    "    Y = formula(X)\n",
    "\n",
    "    # Dividing it into training and test set\n",
    "    X_train, X_test, y_train, y_test = train_test_split(X, Y, test_size = TEST_SIZE, random_state = 0)\n",
    "    list_of_x_test.append(X_test)\n",
    "    list_of_y_test.append(y_test)\n",
    "    # Convert it to PCA\n",
    "    pca = PCA(n_components = 1)\n",
    "    X_train_pca = pca.fit_transform(X_train)\n",
    "    X_test_pca = pca.transform(X_test)\n",
    "\n",
    "    # Applying DV\n",
    "    # sort X_train_pca and y_train by index\n",
    "    sorted_indexes = np.argsort(X_train_pca,axis=0)\n",
    "    sorted_x_train_pca = X_train_pca[sorted_indexes]\n",
    "    sorted_y_train = y_train[sorted_indexes]\n",
    "\n",
    "    # Finding Change of Slope\n",
    "    slope1 = []\n",
    "    slope2 = []\n",
    "    for itr in range(1,len(sorted_x_train_pca)):\n",
    "        slope1.append((sorted_y_train[itr]-sorted_y_train[itr-1])/(sorted_x_train_pca[itr]-sorted_x_train_pca[itr-1]))\n",
    "    for itr in range(1,len(slope1)):\n",
    "        slope2.append((slope1[itr]-slope1[itr-1])/(sorted_x_train_pca[itr]-sorted_x_train_pca[itr-1]))\n",
    "\n",
    "    # normalize slope2 \n",
    "    normalized_slope2 = (slope2-min(slope2))/(max(slope2)-min(slope2))\n",
    "\n",
    "    # Calculating Quantiles\n",
    "    normalized_slope2 = np.reshape(normalized_slope2,len(normalized_slope2))\n",
    "    quantile_ranges = pd.qcut(normalized_slope2,NUMBER_OF_REGIONS,labels=False,retbins=True)\n",
    "    quantile_ranges = quantile_ranges[1]\n",
    "\n",
    "    # Adding the difficult Vectors\n",
    "    difficult_points = {}\n",
    "    for q_ind in range(NUMBER_OF_REGIONS):\n",
    "        low = quantile_ranges[q_ind]\n",
    "        high = quantile_ranges[q_ind+1]\n",
    "        difficult_points[q_ind] = []\n",
    "        for n_ind in range(0,len(normalized_slope2)):\n",
    "            if normalized_slope2[n_ind] >= low and normalized_slope2[n_ind] <= high:\n",
    "                difficult_points[q_ind].append(n_ind)\n",
    "    # Hard to evolve points\n",
    "    hard_to_evolve_x = X_train_pca[difficult_points[0]]\n",
    "    hard_to_evolve_y = y_train[difficult_points[0]]\n",
    "\n",
    "    # Medium to evolve points\n",
    "    medium_to_evolve_x = X_train_pca[difficult_points[1]]\n",
    "    medium_to_evolve_y = y_train[difficult_points[1]]\n",
    "\n",
    "    # Easy to evolve points\n",
    "    easy_to_evolve_x = X_train_pca[difficult_points[2]]\n",
    "    easy_to_evolve_y = y_train[difficult_points[2]]\n",
    "\n",
    "    # Training the system\n",
    "    est_gp = SymbolicRegressor(population_size=POPULATION_SIZE,\n",
    "                               generations=NUMBER_OF_GENERATION, stopping_criteria=0.01,\n",
    "                               p_crossover=0.7, p_subtree_mutation=0.1,\n",
    "                               p_hoist_mutation=0.05, p_point_mutation=0.1,\n",
    "                               max_samples=0.9, verbose=1,\n",
    "                               parsimony_coefficient=0.01, \n",
    "                               random_state=0, \n",
    "                               init_depth=(2,17)\n",
    "                              )\n",
    "    est_gp.fit(hard_to_evolve_x,hard_to_evolve_y)\n",
    "#     print(est_gp._program)\n",
    "    est_gp.set_params(generations=NUMBER_OF_GENERATION*2, warm_start=True)\n",
    "    est_gp.fit(medium_to_evolve_x,medium_to_evolve_y)\n",
    "#     print(est_gp._program)\n",
    "    est_gp.set_params(generations=NUMBER_OF_GENERATION*3, warm_start=True)\n",
    "    est_gp.fit(easy_to_evolve_x,easy_to_evolve_y)\n",
    "    print(est_gp._program)\n",
    "    list_of_est_program.append(str(est_gp._program))\n",
    "    x0 = X_test[:,0]\n",
    "    x1 = X_test[:,1]\n",
    "    predicted_formula_result_y = est_gp.predict(np.c_[x0.ravel()]).reshape(x0.shape)\n",
    "    fitness = mean_squared_error(y_test, predicted_formula_result_y)\n",
    "    print('Training of data with PCA with DV: '+str(fitness))\n",
    "    list_of_fitness.append(str(fitness))"
   ]
  },
  {
   "cell_type": "code",
   "execution_count": 56,
   "metadata": {},
   "outputs": [
    {
     "name": "stdout",
     "output_type": "stream",
     "text": [
      "Run : 1\n",
      "    |    Population Average   |             Best Individual              |\n",
      "---- ------------------------- ------------------------------------------ ----------\n",
      " Gen   Length          Fitness   Length          Fitness      OOB Fitness  Time Left\n",
      "   0  34438.9 1.1207478835364914e+56        7 0.6415020848222629 0.8565181100260962     74.04m\n",
      "   1    20.46 1.9791146456120372        7 0.4516293623188091 0.5385158797199848     35.94m\n",
      "   2      8.3 1.5232141056159176        5 0.38509015737798596 0.7548553836238179     22.95m\n",
      "   3     7.24 8.50713673663683       11 0.3443478711539696 0.9108005944479538     16.67m\n",
      "   4     5.85 1.2343594113532774       11 0.3834076910299042 0.5592622155645431     12.65m\n",
      "   5     6.06 3.9579073733524943        5 0.355481330777238 1.02133482303055     10.02m\n",
      "   6      5.3 1.7054419961940102        5 0.3572065149295345 1.0058081656598816      8.24m\n",
      "   7     5.39 4.069511418643701        5 0.364536872022341 0.9398349518246225      6.82m\n",
      "   8     6.16 1.079899825391838        5 0.3577094617734696 1.0012816440644658      5.66m\n",
      "   9      5.5 1.4492487884036103        5 0.3404468012695275 1.1566455885999445      4.76m\n",
      "  10     5.62 0.9786519677364541        5 0.34199955904496204 1.1426707686210333      3.98m\n",
      "  11      6.2 4.067875381492214        5 0.3592954989060322 0.9870073098714014      3.35m\n",
      "  12     5.39 1.222316928688496        5 0.3613395410119721 0.9686109309179426      2.77m\n",
      "  13     8.28 14.778646031213793        5 0.3389179822266824 1.1704049599855497      2.26m\n",
      "  14     5.36 1.868821477730682        5 0.3645207639742798 0.9399799242571734      1.78m\n",
      "  15      8.3 1.2048401459496858        5 0.3624376425351845 0.7457650792896338      1.35m\n",
      "  16     5.85 1.1506829750333762        5 0.34960910376115484 0.887071001457781     58.06s\n",
      "  17     6.42 3.600398100439582        5 0.36179356772472143 0.7774108257856813     36.99s\n",
      "  18     8.78 6.841105457022442        5 0.35591399520031414 0.8044779053034672     17.76s\n",
      "  19     5.43 22.415982102632025        5 0.34504236025425705 0.873876732442425      0.00s\n",
      "    |    Population Average   |             Best Individual              |\n",
      "---- ------------------------- ------------------------------------------ ----------\n",
      " Gen   Length          Fitness   Length          Fitness      OOB Fitness  Time Left\n",
      "  20     5.54 0.989445354434354        5 0.3257378576658285 0.7904527492342581      5.04s\n",
      "  21     6.42 3.8468502332720913        5 0.3343962190040489 0.7125274971902742     16.17s\n",
      "  22     5.94 19.992851317345714        5 0.32664177465172833 0.7823174963611598     20.47s\n",
      "  23     4.92 1.1217395054825283        5 0.3343454138557907 0.7129847435245982     23.36s\n",
      "  24     5.09 1.4652498585354576        5 0.33087895292046476 0.7318705931035778     24.13s\n",
      "  25     6.12 2507.3834713480755        5 0.3242952107875878 0.8034365711384248     24.19s\n",
      "  26     5.81 3.262189998351737        5 0.3284071194395378 0.7664293932708749     24.90s\n",
      "  27     5.32 1.074138128461116        5 0.3276525707550155 0.7609080325926213     24.31s\n",
      "  28     9.35 1.8941036098990247        5 0.3261459690632926 0.7744674478181277     24.91s\n",
      "  29     5.63 1.0827987278406566        5 0.3280259367208797 0.7698600377387974     24.12s\n",
      "  30      5.5 1.0652738743520618        5 0.32821658060977854 0.7558319438997545     22.70s\n",
      "  31     5.32 0.809106568692382        5 0.32044502741847736 0.8257759226214652     20.43s\n",
      "  32     5.06 0.7619350479352058        5 0.32003951833429006 0.8417378032181044     18.75s\n",
      "  33     6.98 1.8030132300998458        5 0.3118227358623642 0.9156888454654368     17.18s\n",
      "  34     5.78 1.0235811942635176        5 0.3085016526642866 0.9332662954091817     14.73s\n",
      "  35     5.62 2.9436255834818286        5 0.3153858819905747 0.8713082314725884     12.34s\n",
      "  36     5.38 0.7852282237474014        5 0.3111656403125599 0.9092904065747218      9.72s\n",
      "  37     5.18 0.8448493170054593        5  0.3359519471383 0.6862136451430612      6.50s\n",
      "  38     6.66 1.4428270567419708        5 0.32944750934055506 0.7447535853227657      3.36s\n",
      "  39     5.24 1.1434087641971626        5 0.3224595858554456 0.8199571955277043      0.00s\n",
      "    |    Population Average   |             Best Individual              |\n",
      "---- ------------------------- ------------------------------------------ ----------\n",
      " Gen   Length          Fitness   Length          Fitness      OOB Fitness  Time Left\n",
      "  40     6.12 1.0775367243547354        7 0.37519239082263034 0.35823976264566526      4.34s\n",
      "  41     5.53 1.0040527098708765        7 0.34872167523890696 0.5964762028991757      8.74s\n",
      "  42     5.78 0.780691198870985        7 0.33574305961101064 0.7132837435502426     11.51s\n",
      "  43     6.78 0.7768887708839267        7 0.3377667031649186 0.6950709515650713     12.87s\n",
      "  44     7.53 1.80826697284134        7 0.31430033995422435 0.9062682204613193     14.20s\n",
      "  45     7.25 0.9156058000284125        7 0.3287454791129074 0.7762619680331722     15.33s\n",
      "  46     7.44 0.8426374225314244        7 0.31512041189560513 0.8988875729888925     15.24s\n",
      "  47     7.78 1.933757915172624        7 0.33949125561127313 0.596910490332969     15.22s\n",
      "  48     6.94 0.7569966876371366        7 0.3296737111774002 0.7679078794527371     14.24s\n",
      "  49      7.3 1.0799912649670735        7 0.3139211765194349 0.9096806913744249     14.69s\n",
      "  50     7.88 0.9566354535492357        7 0.33535354574383747 0.7167893683548017     14.13s\n",
      "  51     8.26 5509.785278724694        7 0.31826305691424284 0.8706037678211533     13.58s\n",
      "  52     7.24 0.8259309328201622        7 0.3163129680005289 0.8055150788296677     13.20s\n",
      "  53     7.68 1.3810967089828836        7 0.3292390247801181 0.6891805678133642     12.27s\n",
      "  54      7.8 1.0879038979893016        7 0.3237670002448745 0.7384287886305572     10.96s\n",
      "  55     7.94 0.9972254617756454        7 0.29991589154536435 0.9530887669261484      9.40s\n",
      "  56     9.02 0.9001713255600257        7 0.28976075258513373 1.0444850175682237      7.39s\n",
      "  57     7.42 0.8054304510273471        7 0.3095129906676798 0.8667148748253094      5.21s\n",
      "  58     7.41 0.7846926781418304        7 0.2959384816157107 0.9888854562930315      2.64s\n",
      "  59     7.72 0.9190733221092628        7 0.3144968897223609 0.8218597833331795      0.00s\n",
      "add(-0.848, sub(X0, mul(X0, X0)))\n",
      "Training of data with PCA with DV: 1.6348494699840441\n",
      "Run : 2\n",
      "    |    Population Average   |             Best Individual              |\n",
      "---- ------------------------- ------------------------------------------ ----------\n",
      " Gen   Length          Fitness   Length          Fitness      OOB Fitness  Time Left\n",
      "   0  34438.9 1.8044777444517495e+65        7 0.43899525382949434 0.46198855963098084     77.28m\n",
      "   1     19.7 1.9731774859987257        7 0.40060562980134273 0.8074951758843457     37.50m\n",
      "   2     6.08 0.9600477056807857        7 0.385165504717985 0.9464563016345655     23.92m\n",
      "   3     4.01 5.531364785752311        1 0.3517278443696548 1.1217035991383972     17.34m\n",
      "   4     2.08 0.8456774380231493        1 0.34847946925050965 1.1509389752107038     13.14m\n",
      "   5     2.56 1.8794870219139739        1 0.354044642493536 1.1008524160234665     10.38m\n",
      "   6     1.61 1.0448937510070944        1 0.34365029951956294 1.1944015027892239      8.51m\n",
      "   7     1.71 20.023570748400264        1 0.347281024442768 1.161724978480379      7.03m\n",
      "   8     2.41 1.0297553178630365        1 0.3507122267689071 1.1308441575451267      5.82m\n",
      "   9     1.74 1.1059003941776868        1 0.3445061647477867 1.18669871573521      4.89m\n",
      "  10      2.0 0.8988322121159501        1 0.3663702107987637 0.9899223012764179      4.07m\n",
      "  11     2.48 1.2124188603799342        1 0.36105910994050805 1.0377222090007179      3.42m\n",
      "  12     1.68 3.0187604822554714        1 0.33889185335988814 1.237227518226298      2.81m\n",
      "  13     4.55 42.75769461365065        1 0.34321218649027957 1.1983445200527745      2.29m\n",
      "  14     1.58 1.8744802572804276        1 0.3568923881009031 1.0752227055571628      1.80m\n",
      "  15     4.72 1.4334909266943168        1 0.34321218649027957 1.1983445200527745      1.37m\n",
      "  16     2.13 0.774808319866777        1 0.3458764138171689 1.1743664741107707     58.60s\n",
      "  17     2.64 19.462442637254544        1 0.35317945221590047 1.1086391285221864     37.29s\n",
      "  18     5.14 9.62804522569499        1 0.3557577503232631 1.0854344455559228     17.88s\n"
     ]
    },
    {
     "name": "stdout",
     "output_type": "stream",
     "text": [
      "  19      1.7 19.193045555117227        1 0.3597325428646895 1.0496613126830856      0.00s\n",
      "    |    Population Average   |             Best Individual              |\n",
      "---- ------------------------- ------------------------------------------ ----------\n",
      " Gen   Length          Fitness   Length          Fitness      OOB Fitness  Time Left\n",
      "  20     1.56 0.556563287072702        1 0.3712311903496276 1.4749293265583898      4.55s\n",
      "  21     2.88 3.6060176015416867        1 0.40582289872218547 1.1636039512053689     15.59s\n",
      "  22     2.54 9.111250863619206        1 0.40359239872289276 1.1836784511990033     19.72s\n",
      "  23     1.42 0.5875884115968358        1 0.3867089521208598 1.3356294706172993     22.59s\n",
      "  24     1.54 1.0242656821036888        1 0.40974635699349776 1.128292826763558     23.62s\n",
      "  25     2.45 305316.06966201076        1 0.3801131151233208 1.3949920035951506     24.26s\n",
      "  26     2.18 1.5786804482141477        1 0.3878344616021539 1.3254998852856528     25.69s\n",
      "  27     1.54 0.7112364070829197        1 0.3682058367058343 1.5021575093525297     25.26s\n",
      "  28     5.55 4.299308722914482        1 0.41012636666478475 1.1248727397219753     25.86s\n",
      "  29     2.04 0.905873660418122        1 0.38546937972555045 1.3467856221750834     24.98s\n",
      "  30     1.82 1.9163026005359365        1 0.38980052091744355 1.3078053514480463     23.45s\n",
      "  31      1.5 0.6674944749486668        1 0.4045603067307633 1.1749672791281678     21.04s\n",
      "  32     1.38 0.6448775254308738        1 0.38851250861352266 1.3193974621833333     19.31s\n",
      "  33     3.32 1.4395840376598246        1 0.4013769932744615 1.2036171002348843     17.66s\n",
      "  34     2.06 0.7749596499186537        1 0.4133298205728486  1.0960416545494     15.12s\n",
      "  35     1.85 3.0695561195148913        1 0.3904894693932806 1.301604815165512     12.61s\n",
      "  36     1.66 0.6851250508339025        1 0.37560053791410986 1.4356051984780493      9.96s\n",
      "  37     1.54 0.647599873454708        1 0.388990213152219 1.3150981213350672      6.69s\n",
      "  38      3.0 1.3265453476046605        1 0.3735840036507579 1.4537540068482167      3.46s\n",
      "  39      1.6 1.0832394786757684        1 0.3832548072239797 1.3667167746892208      0.00s\n",
      "    |    Population Average   |             Best Individual              |\n",
      "---- ------------------------- ------------------------------------------ ----------\n",
      " Gen   Length          Fitness   Length          Fitness      OOB Fitness  Time Left\n",
      "  40     2.44 0.8766152175217325        1 0.4504647228980395 1.653272800459607      3.61s\n",
      "  41     1.97 1.0417510909623582        1 0.47380361708397145 1.4432227527862187      7.22s\n",
      "  42     1.72 0.728395520994099        1 0.4878493599002167 1.3168110674400126      9.76s\n",
      "  43     1.45 0.7549154319168161        1 0.4896160308581433 1.3009110288186718     10.92s\n",
      "  44     1.88 2.6075842929036064        1 0.47784232903621476 1.4068743452160297     11.98s\n",
      "  45     1.58 0.7608406253586912        1 0.4638870186673181 1.532472138536099     12.93s\n",
      "  46     1.81 0.9714989480102763        1 0.4725967614264753 1.4540844537036852     12.72s\n",
      "  47     2.13 9.875249005775599        1 0.4752579407426969 1.4301338398576902     12.71s\n",
      "  48      1.3 0.7207008246138267        1 0.46055782031462755 1.5624349237103148     11.78s\n",
      "  49     1.76 0.9814565427419748        1 0.47926786481938305 1.3940445231675151     12.36s\n",
      "  50     2.42 1.1805921897937972        1 0.47971924236597896 1.3899821252481517     11.93s\n",
      "  51     2.62 4672.910669378617        1 0.46720244248113196 1.5026333242117755     11.56s\n",
      "  52     1.66 0.9168479258941056        1 0.48695749271441957 1.324837872112186     11.19s\n",
      "  53     1.93 4.6628782345549356        1 0.4793483464011671 1.3933201889314586     10.25s\n",
      "  54     1.85 0.841807436251068        1 0.4590589959550522 1.5759243429464935      9.24s\n",
      "  55     2.31 1.0283314536165364        1 0.45462573538933193 1.6158236880379755      7.97s\n",
      "  56      3.6 1.453846002119177        1 0.47540343425666226 1.4288243982320015      6.26s\n",
      "  57     1.72 0.7859676930525685        1 0.49185129219254287 1.280793676809077      4.44s\n",
      "  58      1.9 0.7542893801439777        1 0.47964227644796004 1.390674818510322      2.25s\n",
      "  59     2.01 0.9555438293174555        1 0.47497824433087465 1.4326511075640904      0.00s\n",
      "-0.723\n",
      "Training of data with PCA with DV: 0.5714560329906356\n",
      "Run : 3\n",
      "    |    Population Average   |             Best Individual              |\n",
      "---- ------------------------- ------------------------------------------ ----------\n",
      " Gen   Length          Fitness   Length          Fitness      OOB Fitness  Time Left\n",
      "   0  34438.9 9.0445649180449e+68        7 0.6427814192246952 0.5449441854993122     80.33m\n",
      "   1    23.98 2.7141738059187377        5 0.39801176370852165 0.7823393136862946     39.01m\n",
      "   2     7.22 2.272856436529054        5 0.3933632026981787 0.5009594165811995     24.89m\n",
      "   3     7.02 9.627043419087636        5 0.3742537895949259 0.672944134510475     18.06m\n",
      "   4     4.82 1.282544916050208        5 0.36876565949485757 0.7223373054110898     13.71m\n",
      "   5     5.04 2.5303061768156723        5 0.375779473339895 0.6592129808057534     10.85m\n",
      "   6     3.68 1.7820637937637054        5 0.37665049517663096 0.6513737842751293      8.92m\n",
      "   7     3.62 54.69379351240131        3 0.36897328332026735 0.8960445089776983      7.40m\n",
      "   8     4.36 1.1509086788971654        3 0.378494729576019 0.8103514926759334      6.14m\n",
      "   9     3.62 0.9095537937458326        3 0.37843536338786543 0.8108857883693158      5.15m\n",
      "  10     3.78 0.9265180182941646        3 0.3724383641979086 0.8648587810789273      4.29m\n",
      "  11     4.26 1.2990306961939206        3 0.3815984335849192 0.7824181565958317      3.61m\n",
      "  12     3.56 7.578014194682845        3 0.36956227626656585 0.8907435724610118      2.97m\n",
      "  13     6.34 122.84125955613477        3 0.3765867699119728 0.8275231296523493      2.42m\n",
      "  14     3.42 1.3202531265662156        3 0.3763593498007382 0.8030276515708801      1.90m\n",
      "  15     6.45 2.347209044920224        3 0.38153266525954316 0.7564678124416361      1.45m\n",
      "  16      3.9 0.9016732879725169        3 0.37393345723393323 0.8248606846721245      1.04m\n",
      "  17     4.43 89.21986342064316        3 0.3755113053851258 0.8106600513113926     39.63s\n",
      "  18     6.98 19.517016441621237        3 0.3715815002799632 0.8725705563404356     19.07s\n",
      "  19     3.54 17.068724950861558        3 0.381814883424636  0.7539278489558      0.00s\n",
      "    |    Population Average   |             Best Individual              |\n",
      "---- ------------------------- ------------------------------------------ ----------\n",
      " Gen   Length          Fitness   Length          Fitness      OOB Fitness  Time Left\n",
      "  20     3.47 0.5578990132940999        3 0.3085839082678322 0.802135950978176      5.18s\n",
      "  21     4.66 3.5570185775254672        3 0.30850864175814885 0.8028133495653266     17.92s\n",
      "  22     4.36 24.009428196173758        3 0.3074392125876994 0.8124382120993715     22.44s\n",
      "  23     3.26 0.6321313843215033        3 0.31303684286020306 0.762059539646838     25.35s\n",
      "  24      3.4 1.0036955418663829        3 0.31490600227454385 0.7452371049177715     26.07s\n",
      "  25     4.28 5775.892481771864        3 0.3087750771995068 0.833421477560325     26.17s\n",
      "  26     4.01 2.184337568479482        3 0.3069404322118895 0.8169272354816608     26.40s\n",
      "  27     3.36 0.651624920216392        3 0.3069942358001439 0.8164430031873705     25.72s\n",
      "  28     7.38 1.499769592599988        3 0.31087963228863197 0.7814744347909781     26.40s\n",
      "  29     3.88 0.9662260919330501        3 0.3088681563251602 0.7936716206186692     25.44s\n",
      "  30     3.69 0.8286563216230118        3 0.3137143053042194 0.7559623776506915     23.89s\n",
      "  31     3.32 0.6309530975122211        3 0.2920623977629844 0.9508295455218063     21.48s\n",
      "  32     3.18 0.605355144474264        3 0.3116054118506077 0.774942418733197     19.75s\n",
      "  33     5.04 1.8478642802633372        3 0.31455461271093116 0.7483996109902856     18.13s\n",
      "  34     3.95 0.693418732312661        3 0.28365959570272664 1.0264547640641262     15.64s\n",
      "  35     3.69 3.5682579252451627        3 0.31231883480035944 0.768521612185431     13.02s\n",
      "  36     3.52 0.6285154416980626        3 0.31364473595583076 0.7565885017861893     10.27s\n",
      "  37     3.36 0.6619102957366085        3 0.30464932132860423 0.8375472334312276      6.88s\n"
     ]
    },
    {
     "name": "stdout",
     "output_type": "stream",
     "text": [
      "  38     4.76 1.2547428053785659        3 0.3043187743022173 0.8405221566687102      3.54s\n",
      "  39     3.46 1.2352826421502738        3 0.29711398907426506 0.7050733343639235      0.00s\n",
      "    |    Population Average   |             Best Individual              |\n",
      "---- ------------------------- ------------------------------------------ ----------\n",
      " Gen   Length          Fitness   Length          Fitness      OOB Fitness  Time Left\n",
      "  40     4.28 0.8666327623606555        3 0.4205480231797404 0.8048573408963697      3.90s\n",
      "  41     3.71 1.0091967007158442        3 0.41066813522863876 0.8937763324562845      7.62s\n",
      "  42     3.47 0.726554631379158        3 0.417778243546947 0.8297853575915108     10.23s\n",
      "  43     3.24 0.7580706135481943        3 0.4160918591182095 0.8449628174501478     11.29s\n",
      "  44     3.72 2.442480460707094        5 0.39402911525506007 0.45520530690977357     12.35s\n",
      "  45     3.53 0.7621783380024604        5 0.35184173780910677 0.8348917039233527     13.20s\n",
      "  46     4.26 0.988263127739282        5 0.3324285716351905 1.0096101994885993     12.99s\n",
      "  47     5.44 2.7283614094682953        5 0.33414839430618204 0.9941317954496756     12.86s\n",
      "  48     5.07 0.7702258925967405        5 0.33945912313805476 0.9463352359628213     12.14s\n",
      "  49     5.42 0.9961306875504919        5 0.3253036314668241 1.073734661003897     12.46s\n",
      "  50     6.12 1.0609005238800941        5 0.34461908614036507 0.8998955689420286     12.00s\n",
      "  51     6.47 1312.5127925960087        5 0.3334235722200563 1.0006551942248072     11.58s\n",
      "  52     5.28 0.9734539054807175        5 0.3354646380564153 0.9822856016975764     11.08s\n",
      "  53     5.65 2.438324450172227        5 0.3095518860247924 1.215500369982182     10.10s\n",
      "  54     5.76 0.9587572834341213        5 0.34736425090853584 0.8751890860284913      9.07s\n",
      "  55     6.04 1.0814553037724846        5 0.3520506024149188 0.833011922471045      7.80s\n",
      "  56     7.18 1.5304906029778487        5 0.3432087259777654 0.9125888104054252      6.12s\n",
      "  57     5.51 0.8561100945259155        5 0.3496919882452999 0.8542394499976148      4.33s\n",
      "  58     5.59 0.7798058400209668        5 0.34076456170651326 0.9345862888466945      2.19s\n",
      "  59     5.73 1.136725125231278        5 0.34673267479469483 0.8808732710530611      0.00s\n",
      "add(-0.993, add(X0, -0.197))\n",
      "Training of data with PCA with DV: 0.9768412344248187\n",
      "Run : 4\n",
      "    |    Population Average   |             Best Individual              |\n",
      "---- ------------------------- ------------------------------------------ ----------\n",
      " Gen   Length          Fitness   Length          Fitness      OOB Fitness  Time Left\n",
      "   0  34438.9 3.2091306176686005e+61        7 0.5571269696522021 1.0579270252486186     75.15m\n",
      "   1    23.37 3.7628997659926204        7 0.26316381249320164 0.4203851403888835     36.52m\n",
      "   2     7.91 1.3807535832383382        5 0.2600852929895948 0.40898842657607004     23.33m\n",
      "   3     7.95 5.647082174877994        7 0.25113967615526017 0.528602367430357     16.97m\n",
      "   4     5.48 1.0256552306252529        5 0.23511889536937736 0.6336860051580273     12.89m\n",
      "   5     5.07 2.800513685772812        5 0.23390633219487503 0.644599073728548     10.22m\n",
      "   6     3.64 3.987410972597823        3 0.23386913446822127 0.7130999517621914      8.41m\n",
      "   7      3.6 8.793297929903634        3 0.2352967884109399 0.7002510662777239      6.99m\n",
      "   8     4.32 1.1092534162016947        3 0.24501517139193124 0.6127856194488015      5.80m\n",
      "   9     3.62 1.1297140373333017        3 0.23708289352657022 0.6841761202370507      4.88m\n",
      "  10     3.78 0.625942117822444        3 0.2379155303493809 0.6766823888317547      4.07m\n",
      "  11     4.26 3.321085020020894        3 0.24562213793722995 0.6073229205411131      3.42m\n",
      "  12     3.56 1.4782073301769938        3 0.2456541214457794 0.6070350689641679      2.83m\n",
      "  13     6.34 42.45023116883751        3 0.2445073256611497 0.6173562310258357      2.30m\n",
      "  14     3.42 1.3589706782658066        3 0.24537589158647283 0.6095391376979274      1.81m\n",
      "  15     6.45 0.888305370834051        3 0.2416031509586867 0.6434938033480022      1.38m\n",
      "  16      3.9 0.6678234402168259        3 0.23376803140111996 0.7140098793661029     59.30s\n",
      "  17     4.43 34.695404454649605        3 0.2318454854720784 0.7313127927274772     37.80s\n",
      "  18     6.98 8.632027929421154        3 0.2377050493696691 0.6785767176491607     18.15s\n",
      "  19     3.54 20.112075541680884        3 0.23815951970104862 0.6744864846667454      0.00s\n",
      "    |    Population Average   |             Best Individual              |\n",
      "---- ------------------------- ------------------------------------------ ----------\n",
      " Gen   Length          Fitness   Length          Fitness      OOB Fitness  Time Left\n",
      "  20     3.47 0.5172163289771577        3 0.2705530018593504 0.6470948365178745      5.17s\n",
      "  21     4.66 4.070418159980577        3 0.27510781607169865 0.6061015086067394     18.05s\n",
      "  22     4.36 28.22498360262678        3 0.27474321565430315 0.6093829123632993     22.96s\n",
      "  23     3.26 0.5324022326605679        3 0.27137640678798775 0.6396841921601382     26.29s\n",
      "  24      3.4 0.9385455439185821        3 0.2706723812375094 0.646020422114443     27.80s\n",
      "  25     4.28 1615631.8012869477        3 0.26653718013926997 0.683237231998598     27.75s\n",
      "  26     4.01 2.0934309075405584        3 0.2708362555828734 0.644545553006167     28.37s\n",
      "  27     3.36 0.6213633768605967        3 0.2664476789808818 0.6840427424240918     27.94s\n",
      "  28     7.38 4.680874060542929        3 0.2684661130909036 0.5898766551861566     28.71s\n",
      "  29     3.88 1.5062833973713183        3 0.25534811354901016 0.7079386510631972     27.39s\n",
      "  30     3.69 1.394730913702017        3 0.26157237975282144 0.6519202552288964     25.49s\n",
      "  31     3.32 0.5836397073410189        3 0.2666017423475216 0.6066559918765944     22.83s\n",
      "  32     3.18 0.6278315997482903        3 0.2512492976865842 0.7448279938250308     20.80s\n",
      "  33     5.04 1.8237668749976041        3 0.2669520767100696 0.6035029826136628     18.92s\n",
      "  34     3.95 0.7980110722397628        3 0.2578778788347747 0.685170763491316     16.13s\n",
      "  35     3.69 2.5291472926585126        3 0.25366584469346054 0.7230790707631443     13.39s\n",
      "  36     3.52 0.5901597158821129        3 0.26606665736940777 0.6114717566796194     10.51s\n",
      "  37     3.36 0.568772314042972        3 0.2552082640541101 0.709197296517298      7.03s\n",
      "  38     4.76 0.9672338034384649        3 0.262669403145288 0.6420470446966964      3.62s\n",
      "  39     3.46 1.1537994091975565        3 0.2607898673952762 0.6589628664468029      0.00s\n",
      "    |    Population Average   |             Best Individual              |\n",
      "---- ------------------------- ------------------------------------------ ----------\n",
      " Gen   Length          Fitness   Length          Fitness      OOB Fitness  Time Left\n",
      "  40     4.28 0.8011364880039684        3 0.3179876616447488 0.6895765136338868      3.79s\n",
      "  41     3.71 1.0742820164181126        3 0.31653101968913655 0.7026862912343966      7.43s\n",
      "  42     3.47 0.643250415119883        3 0.3228765894896949 0.6455761630293717     10.02s\n",
      "  43     3.24 0.6391871543285087        3 0.31638705277028645 0.7039819935040477     11.17s\n",
      "  44     3.72 2.224229372968468        5 0.2972572015313986 0.6324485725321838     12.19s\n",
      "  45     3.53 0.6940261403938075        5 0.29170918832605924 0.6823806913802385     13.08s\n",
      "  46     3.86 0.7712784325168716        5 0.3167937718419356 0.45661943973735153     12.86s\n",
      "  47     3.98 2.9006961749385316        3 0.31760940685344263 0.692980806755642     12.91s\n",
      "  48     3.16 0.6359956257077897        3 0.32389590412456404 0.6364023313155498     12.07s\n",
      "  49      3.6 1.0378691184752187        3 0.31572650242911937 0.7099269465745515     12.42s\n",
      "  50     4.23 0.9810880052545747        3 0.3128351218595141 0.7359493717009984     11.96s\n",
      "  51     4.48 20771.426100221455        3 0.3144997290524565 0.7209679069645175     11.48s\n",
      "  52      3.4 0.735099720899876        3 0.3074364029063932 0.7845378422790875     10.95s\n",
      "  53      3.8 1.3092716870225154        3 0.3108309045022883 0.7539873279160313     10.09s\n"
     ]
    },
    {
     "ename": "KeyboardInterrupt",
     "evalue": "",
     "output_type": "error",
     "traceback": [
      "\u001b[0;31m---------------------------------------------------------------------------\u001b[0m",
      "\u001b[0;31mKeyboardInterrupt\u001b[0m                         Traceback (most recent call last)",
      "\u001b[0;32m<ipython-input-56-d878c94594a9>\u001b[0m in \u001b[0;36m<module>\u001b[0;34m()\u001b[0m\n\u001b[1;32m      5\u001b[0m \u001b[0;32mfor\u001b[0m \u001b[0mitr\u001b[0m \u001b[0;32min\u001b[0m \u001b[0mrange\u001b[0m\u001b[0;34m(\u001b[0m\u001b[0;36m0\u001b[0m\u001b[0;34m,\u001b[0m\u001b[0;36m20\u001b[0m\u001b[0;34m)\u001b[0m\u001b[0;34m:\u001b[0m\u001b[0;34m\u001b[0m\u001b[0m\n\u001b[1;32m      6\u001b[0m     \u001b[0mprint\u001b[0m\u001b[0;34m(\u001b[0m\u001b[0;34m'Run :'\u001b[0m\u001b[0;34m,\u001b[0m\u001b[0mitr\u001b[0m\u001b[0;34m+\u001b[0m\u001b[0;36m1\u001b[0m\u001b[0;34m)\u001b[0m\u001b[0;34m\u001b[0m\u001b[0m\n\u001b[0;32m----> 7\u001b[0;31m     \u001b[0mtrain_pca_dv\u001b[0m\u001b[0;34m(\u001b[0m\u001b[0mitr\u001b[0m\u001b[0;34m)\u001b[0m\u001b[0;34m\u001b[0m\u001b[0m\n\u001b[0m",
      "\u001b[0;32m<ipython-input-55-ffa7dbd1099b>\u001b[0m in \u001b[0;36mtrain_pca_dv\u001b[0;34m(seed_value)\u001b[0m\n\u001b[1;32m     73\u001b[0m \u001b[0;31m#     print(est_gp._program)\u001b[0m\u001b[0;34m\u001b[0m\u001b[0;34m\u001b[0m\u001b[0m\n\u001b[1;32m     74\u001b[0m     \u001b[0mest_gp\u001b[0m\u001b[0;34m.\u001b[0m\u001b[0mset_params\u001b[0m\u001b[0;34m(\u001b[0m\u001b[0mgenerations\u001b[0m\u001b[0;34m=\u001b[0m\u001b[0mNUMBER_OF_GENERATION\u001b[0m\u001b[0;34m*\u001b[0m\u001b[0;36m3\u001b[0m\u001b[0;34m,\u001b[0m \u001b[0mwarm_start\u001b[0m\u001b[0;34m=\u001b[0m\u001b[0;32mTrue\u001b[0m\u001b[0;34m)\u001b[0m\u001b[0;34m\u001b[0m\u001b[0m\n\u001b[0;32m---> 75\u001b[0;31m     \u001b[0mest_gp\u001b[0m\u001b[0;34m.\u001b[0m\u001b[0mfit\u001b[0m\u001b[0;34m(\u001b[0m\u001b[0measy_to_evolve_x\u001b[0m\u001b[0;34m,\u001b[0m\u001b[0measy_to_evolve_y\u001b[0m\u001b[0;34m)\u001b[0m\u001b[0;34m\u001b[0m\u001b[0m\n\u001b[0m\u001b[1;32m     76\u001b[0m     \u001b[0mprint\u001b[0m\u001b[0;34m(\u001b[0m\u001b[0mest_gp\u001b[0m\u001b[0;34m.\u001b[0m\u001b[0m_program\u001b[0m\u001b[0;34m)\u001b[0m\u001b[0;34m\u001b[0m\u001b[0m\n\u001b[1;32m     77\u001b[0m     \u001b[0mlist_of_est_program\u001b[0m\u001b[0;34m.\u001b[0m\u001b[0mappend\u001b[0m\u001b[0;34m(\u001b[0m\u001b[0mstr\u001b[0m\u001b[0;34m(\u001b[0m\u001b[0mest_gp\u001b[0m\u001b[0;34m.\u001b[0m\u001b[0m_program\u001b[0m\u001b[0;34m)\u001b[0m\u001b[0;34m)\u001b[0m\u001b[0;34m\u001b[0m\u001b[0m\n",
      "\u001b[0;32m/anaconda3/lib/python3.6/site-packages/gplearn/genetic.py\u001b[0m in \u001b[0;36mfit\u001b[0;34m(self, X, y, sample_weight)\u001b[0m\n\u001b[1;32m    427\u001b[0m                                           \u001b[0mseeds\u001b[0m\u001b[0;34m[\u001b[0m\u001b[0mstarts\u001b[0m\u001b[0;34m[\u001b[0m\u001b[0mi\u001b[0m\u001b[0;34m]\u001b[0m\u001b[0;34m:\u001b[0m\u001b[0mstarts\u001b[0m\u001b[0;34m[\u001b[0m\u001b[0mi\u001b[0m \u001b[0;34m+\u001b[0m \u001b[0;36m1\u001b[0m\u001b[0;34m]\u001b[0m\u001b[0;34m]\u001b[0m\u001b[0;34m,\u001b[0m\u001b[0;34m\u001b[0m\u001b[0m\n\u001b[1;32m    428\u001b[0m                                           params)\n\u001b[0;32m--> 429\u001b[0;31m                 for i in range(n_jobs))\n\u001b[0m\u001b[1;32m    430\u001b[0m \u001b[0;34m\u001b[0m\u001b[0m\n\u001b[1;32m    431\u001b[0m             \u001b[0;31m# Reduce, maintaining order across different n_jobs\u001b[0m\u001b[0;34m\u001b[0m\u001b[0;34m\u001b[0m\u001b[0m\n",
      "\u001b[0;32m/anaconda3/lib/python3.6/site-packages/sklearn/externals/joblib/parallel.py\u001b[0m in \u001b[0;36m__call__\u001b[0;34m(self, iterable)\u001b[0m\n\u001b[1;32m    777\u001b[0m             \u001b[0;31m# was dispatched. In particular this covers the edge\u001b[0m\u001b[0;34m\u001b[0m\u001b[0;34m\u001b[0m\u001b[0m\n\u001b[1;32m    778\u001b[0m             \u001b[0;31m# case of Parallel used with an exhausted iterator.\u001b[0m\u001b[0;34m\u001b[0m\u001b[0;34m\u001b[0m\u001b[0m\n\u001b[0;32m--> 779\u001b[0;31m             \u001b[0;32mwhile\u001b[0m \u001b[0mself\u001b[0m\u001b[0;34m.\u001b[0m\u001b[0mdispatch_one_batch\u001b[0m\u001b[0;34m(\u001b[0m\u001b[0miterator\u001b[0m\u001b[0;34m)\u001b[0m\u001b[0;34m:\u001b[0m\u001b[0;34m\u001b[0m\u001b[0m\n\u001b[0m\u001b[1;32m    780\u001b[0m                 \u001b[0mself\u001b[0m\u001b[0;34m.\u001b[0m\u001b[0m_iterating\u001b[0m \u001b[0;34m=\u001b[0m \u001b[0;32mTrue\u001b[0m\u001b[0;34m\u001b[0m\u001b[0m\n\u001b[1;32m    781\u001b[0m             \u001b[0;32melse\u001b[0m\u001b[0;34m:\u001b[0m\u001b[0;34m\u001b[0m\u001b[0m\n",
      "\u001b[0;32m/anaconda3/lib/python3.6/site-packages/sklearn/externals/joblib/parallel.py\u001b[0m in \u001b[0;36mdispatch_one_batch\u001b[0;34m(self, iterator)\u001b[0m\n\u001b[1;32m    623\u001b[0m                 \u001b[0;32mreturn\u001b[0m \u001b[0;32mFalse\u001b[0m\u001b[0;34m\u001b[0m\u001b[0m\n\u001b[1;32m    624\u001b[0m             \u001b[0;32melse\u001b[0m\u001b[0;34m:\u001b[0m\u001b[0;34m\u001b[0m\u001b[0m\n\u001b[0;32m--> 625\u001b[0;31m                 \u001b[0mself\u001b[0m\u001b[0;34m.\u001b[0m\u001b[0m_dispatch\u001b[0m\u001b[0;34m(\u001b[0m\u001b[0mtasks\u001b[0m\u001b[0;34m)\u001b[0m\u001b[0;34m\u001b[0m\u001b[0m\n\u001b[0m\u001b[1;32m    626\u001b[0m                 \u001b[0;32mreturn\u001b[0m \u001b[0;32mTrue\u001b[0m\u001b[0;34m\u001b[0m\u001b[0m\n\u001b[1;32m    627\u001b[0m \u001b[0;34m\u001b[0m\u001b[0m\n",
      "\u001b[0;32m/anaconda3/lib/python3.6/site-packages/sklearn/externals/joblib/parallel.py\u001b[0m in \u001b[0;36m_dispatch\u001b[0;34m(self, batch)\u001b[0m\n\u001b[1;32m    586\u001b[0m         \u001b[0mdispatch_timestamp\u001b[0m \u001b[0;34m=\u001b[0m \u001b[0mtime\u001b[0m\u001b[0;34m.\u001b[0m\u001b[0mtime\u001b[0m\u001b[0;34m(\u001b[0m\u001b[0;34m)\u001b[0m\u001b[0;34m\u001b[0m\u001b[0m\n\u001b[1;32m    587\u001b[0m         \u001b[0mcb\u001b[0m \u001b[0;34m=\u001b[0m \u001b[0mBatchCompletionCallBack\u001b[0m\u001b[0;34m(\u001b[0m\u001b[0mdispatch_timestamp\u001b[0m\u001b[0;34m,\u001b[0m \u001b[0mlen\u001b[0m\u001b[0;34m(\u001b[0m\u001b[0mbatch\u001b[0m\u001b[0;34m)\u001b[0m\u001b[0;34m,\u001b[0m \u001b[0mself\u001b[0m\u001b[0;34m)\u001b[0m\u001b[0;34m\u001b[0m\u001b[0m\n\u001b[0;32m--> 588\u001b[0;31m         \u001b[0mjob\u001b[0m \u001b[0;34m=\u001b[0m \u001b[0mself\u001b[0m\u001b[0;34m.\u001b[0m\u001b[0m_backend\u001b[0m\u001b[0;34m.\u001b[0m\u001b[0mapply_async\u001b[0m\u001b[0;34m(\u001b[0m\u001b[0mbatch\u001b[0m\u001b[0;34m,\u001b[0m \u001b[0mcallback\u001b[0m\u001b[0;34m=\u001b[0m\u001b[0mcb\u001b[0m\u001b[0;34m)\u001b[0m\u001b[0;34m\u001b[0m\u001b[0m\n\u001b[0m\u001b[1;32m    589\u001b[0m         \u001b[0mself\u001b[0m\u001b[0;34m.\u001b[0m\u001b[0m_jobs\u001b[0m\u001b[0;34m.\u001b[0m\u001b[0mappend\u001b[0m\u001b[0;34m(\u001b[0m\u001b[0mjob\u001b[0m\u001b[0;34m)\u001b[0m\u001b[0;34m\u001b[0m\u001b[0m\n\u001b[1;32m    590\u001b[0m \u001b[0;34m\u001b[0m\u001b[0m\n",
      "\u001b[0;32m/anaconda3/lib/python3.6/site-packages/sklearn/externals/joblib/_parallel_backends.py\u001b[0m in \u001b[0;36mapply_async\u001b[0;34m(self, func, callback)\u001b[0m\n\u001b[1;32m    109\u001b[0m     \u001b[0;32mdef\u001b[0m \u001b[0mapply_async\u001b[0m\u001b[0;34m(\u001b[0m\u001b[0mself\u001b[0m\u001b[0;34m,\u001b[0m \u001b[0mfunc\u001b[0m\u001b[0;34m,\u001b[0m \u001b[0mcallback\u001b[0m\u001b[0;34m=\u001b[0m\u001b[0;32mNone\u001b[0m\u001b[0;34m)\u001b[0m\u001b[0;34m:\u001b[0m\u001b[0;34m\u001b[0m\u001b[0m\n\u001b[1;32m    110\u001b[0m         \u001b[0;34m\"\"\"Schedule a func to be run\"\"\"\u001b[0m\u001b[0;34m\u001b[0m\u001b[0m\n\u001b[0;32m--> 111\u001b[0;31m         \u001b[0mresult\u001b[0m \u001b[0;34m=\u001b[0m \u001b[0mImmediateResult\u001b[0m\u001b[0;34m(\u001b[0m\u001b[0mfunc\u001b[0m\u001b[0;34m)\u001b[0m\u001b[0;34m\u001b[0m\u001b[0m\n\u001b[0m\u001b[1;32m    112\u001b[0m         \u001b[0;32mif\u001b[0m \u001b[0mcallback\u001b[0m\u001b[0;34m:\u001b[0m\u001b[0;34m\u001b[0m\u001b[0m\n\u001b[1;32m    113\u001b[0m             \u001b[0mcallback\u001b[0m\u001b[0;34m(\u001b[0m\u001b[0mresult\u001b[0m\u001b[0;34m)\u001b[0m\u001b[0;34m\u001b[0m\u001b[0m\n",
      "\u001b[0;32m/anaconda3/lib/python3.6/site-packages/sklearn/externals/joblib/_parallel_backends.py\u001b[0m in \u001b[0;36m__init__\u001b[0;34m(self, batch)\u001b[0m\n\u001b[1;32m    330\u001b[0m         \u001b[0;31m# Don't delay the application, to avoid keeping the input\u001b[0m\u001b[0;34m\u001b[0m\u001b[0;34m\u001b[0m\u001b[0m\n\u001b[1;32m    331\u001b[0m         \u001b[0;31m# arguments in memory\u001b[0m\u001b[0;34m\u001b[0m\u001b[0;34m\u001b[0m\u001b[0m\n\u001b[0;32m--> 332\u001b[0;31m         \u001b[0mself\u001b[0m\u001b[0;34m.\u001b[0m\u001b[0mresults\u001b[0m \u001b[0;34m=\u001b[0m \u001b[0mbatch\u001b[0m\u001b[0;34m(\u001b[0m\u001b[0;34m)\u001b[0m\u001b[0;34m\u001b[0m\u001b[0m\n\u001b[0m\u001b[1;32m    333\u001b[0m \u001b[0;34m\u001b[0m\u001b[0m\n\u001b[1;32m    334\u001b[0m     \u001b[0;32mdef\u001b[0m \u001b[0mget\u001b[0m\u001b[0;34m(\u001b[0m\u001b[0mself\u001b[0m\u001b[0;34m)\u001b[0m\u001b[0;34m:\u001b[0m\u001b[0;34m\u001b[0m\u001b[0m\n",
      "\u001b[0;32m/anaconda3/lib/python3.6/site-packages/sklearn/externals/joblib/parallel.py\u001b[0m in \u001b[0;36m__call__\u001b[0;34m(self)\u001b[0m\n\u001b[1;32m    129\u001b[0m \u001b[0;34m\u001b[0m\u001b[0m\n\u001b[1;32m    130\u001b[0m     \u001b[0;32mdef\u001b[0m \u001b[0m__call__\u001b[0m\u001b[0;34m(\u001b[0m\u001b[0mself\u001b[0m\u001b[0;34m)\u001b[0m\u001b[0;34m:\u001b[0m\u001b[0;34m\u001b[0m\u001b[0m\n\u001b[0;32m--> 131\u001b[0;31m         \u001b[0;32mreturn\u001b[0m \u001b[0;34m[\u001b[0m\u001b[0mfunc\u001b[0m\u001b[0;34m(\u001b[0m\u001b[0;34m*\u001b[0m\u001b[0margs\u001b[0m\u001b[0;34m,\u001b[0m \u001b[0;34m**\u001b[0m\u001b[0mkwargs\u001b[0m\u001b[0;34m)\u001b[0m \u001b[0;32mfor\u001b[0m \u001b[0mfunc\u001b[0m\u001b[0;34m,\u001b[0m \u001b[0margs\u001b[0m\u001b[0;34m,\u001b[0m \u001b[0mkwargs\u001b[0m \u001b[0;32min\u001b[0m \u001b[0mself\u001b[0m\u001b[0;34m.\u001b[0m\u001b[0mitems\u001b[0m\u001b[0;34m]\u001b[0m\u001b[0;34m\u001b[0m\u001b[0m\n\u001b[0m\u001b[1;32m    132\u001b[0m \u001b[0;34m\u001b[0m\u001b[0m\n\u001b[1;32m    133\u001b[0m     \u001b[0;32mdef\u001b[0m \u001b[0m__len__\u001b[0m\u001b[0;34m(\u001b[0m\u001b[0mself\u001b[0m\u001b[0;34m)\u001b[0m\u001b[0;34m:\u001b[0m\u001b[0;34m\u001b[0m\u001b[0m\n",
      "\u001b[0;32m/anaconda3/lib/python3.6/site-packages/sklearn/externals/joblib/parallel.py\u001b[0m in \u001b[0;36m<listcomp>\u001b[0;34m(.0)\u001b[0m\n\u001b[1;32m    129\u001b[0m \u001b[0;34m\u001b[0m\u001b[0m\n\u001b[1;32m    130\u001b[0m     \u001b[0;32mdef\u001b[0m \u001b[0m__call__\u001b[0m\u001b[0;34m(\u001b[0m\u001b[0mself\u001b[0m\u001b[0;34m)\u001b[0m\u001b[0;34m:\u001b[0m\u001b[0;34m\u001b[0m\u001b[0m\n\u001b[0;32m--> 131\u001b[0;31m         \u001b[0;32mreturn\u001b[0m \u001b[0;34m[\u001b[0m\u001b[0mfunc\u001b[0m\u001b[0;34m(\u001b[0m\u001b[0;34m*\u001b[0m\u001b[0margs\u001b[0m\u001b[0;34m,\u001b[0m \u001b[0;34m**\u001b[0m\u001b[0mkwargs\u001b[0m\u001b[0;34m)\u001b[0m \u001b[0;32mfor\u001b[0m \u001b[0mfunc\u001b[0m\u001b[0;34m,\u001b[0m \u001b[0margs\u001b[0m\u001b[0;34m,\u001b[0m \u001b[0mkwargs\u001b[0m \u001b[0;32min\u001b[0m \u001b[0mself\u001b[0m\u001b[0;34m.\u001b[0m\u001b[0mitems\u001b[0m\u001b[0;34m]\u001b[0m\u001b[0;34m\u001b[0m\u001b[0m\n\u001b[0m\u001b[1;32m    132\u001b[0m \u001b[0;34m\u001b[0m\u001b[0m\n\u001b[1;32m    133\u001b[0m     \u001b[0;32mdef\u001b[0m \u001b[0m__len__\u001b[0m\u001b[0;34m(\u001b[0m\u001b[0mself\u001b[0m\u001b[0;34m)\u001b[0m\u001b[0;34m:\u001b[0m\u001b[0;34m\u001b[0m\u001b[0m\n",
      "\u001b[0;32m/anaconda3/lib/python3.6/site-packages/gplearn/genetic.py\u001b[0m in \u001b[0;36m_parallel_evolve\u001b[0;34m(n_programs, parents, X, y, sample_weight, seeds, params)\u001b[0m\n\u001b[1;32m     87\u001b[0m             \u001b[0;32melif\u001b[0m \u001b[0mmethod\u001b[0m \u001b[0;34m<\u001b[0m \u001b[0mmethod_probs\u001b[0m\u001b[0;34m[\u001b[0m\u001b[0;36m1\u001b[0m\u001b[0;34m]\u001b[0m\u001b[0;34m:\u001b[0m\u001b[0;34m\u001b[0m\u001b[0m\n\u001b[1;32m     88\u001b[0m                 \u001b[0;31m# subtree_mutation\u001b[0m\u001b[0;34m\u001b[0m\u001b[0;34m\u001b[0m\u001b[0m\n\u001b[0;32m---> 89\u001b[0;31m                 \u001b[0mprogram\u001b[0m\u001b[0;34m,\u001b[0m \u001b[0mremoved\u001b[0m\u001b[0;34m,\u001b[0m \u001b[0m_\u001b[0m \u001b[0;34m=\u001b[0m \u001b[0mparent\u001b[0m\u001b[0;34m.\u001b[0m\u001b[0msubtree_mutation\u001b[0m\u001b[0;34m(\u001b[0m\u001b[0mrandom_state\u001b[0m\u001b[0;34m)\u001b[0m\u001b[0;34m\u001b[0m\u001b[0m\n\u001b[0m\u001b[1;32m     90\u001b[0m                 genome = {'method': 'Subtree Mutation',\n\u001b[1;32m     91\u001b[0m                           \u001b[0;34m'parent_idx'\u001b[0m\u001b[0;34m:\u001b[0m \u001b[0mparent_index\u001b[0m\u001b[0;34m,\u001b[0m\u001b[0;34m\u001b[0m\u001b[0m\n",
      "\u001b[0;32m/anaconda3/lib/python3.6/site-packages/gplearn/_program.py\u001b[0m in \u001b[0;36msubtree_mutation\u001b[0;34m(self, random_state)\u001b[0m\n\u001b[1;32m    552\u001b[0m         \"\"\"\n\u001b[1;32m    553\u001b[0m         \u001b[0;31m# Build a new naive program\u001b[0m\u001b[0;34m\u001b[0m\u001b[0;34m\u001b[0m\u001b[0m\n\u001b[0;32m--> 554\u001b[0;31m         \u001b[0mchicken\u001b[0m \u001b[0;34m=\u001b[0m \u001b[0mself\u001b[0m\u001b[0;34m.\u001b[0m\u001b[0mbuild_program\u001b[0m\u001b[0;34m(\u001b[0m\u001b[0mrandom_state\u001b[0m\u001b[0;34m)\u001b[0m\u001b[0;34m\u001b[0m\u001b[0m\n\u001b[0m\u001b[1;32m    555\u001b[0m         \u001b[0;31m# Do subtree mutation via the headless chicken method!\u001b[0m\u001b[0;34m\u001b[0m\u001b[0;34m\u001b[0m\u001b[0m\n\u001b[1;32m    556\u001b[0m         \u001b[0;32mreturn\u001b[0m \u001b[0mself\u001b[0m\u001b[0;34m.\u001b[0m\u001b[0mcrossover\u001b[0m\u001b[0;34m(\u001b[0m\u001b[0mchicken\u001b[0m\u001b[0;34m,\u001b[0m \u001b[0mrandom_state\u001b[0m\u001b[0;34m)\u001b[0m\u001b[0;34m\u001b[0m\u001b[0m\n",
      "\u001b[0;32m/anaconda3/lib/python3.6/site-packages/gplearn/_program.py\u001b[0m in \u001b[0;36mbuild_program\u001b[0;34m(self, random_state)\u001b[0m\n\u001b[1;32m    189\u001b[0m             \u001b[0;32melse\u001b[0m\u001b[0;34m:\u001b[0m\u001b[0;34m\u001b[0m\u001b[0m\n\u001b[1;32m    190\u001b[0m                 \u001b[0;31m# We need a terminal, add a variable or constant\u001b[0m\u001b[0;34m\u001b[0m\u001b[0;34m\u001b[0m\u001b[0m\n\u001b[0;32m--> 191\u001b[0;31m                 \u001b[0mterminal\u001b[0m \u001b[0;34m=\u001b[0m \u001b[0mrandom_state\u001b[0m\u001b[0;34m.\u001b[0m\u001b[0mrandint\u001b[0m\u001b[0;34m(\u001b[0m\u001b[0mself\u001b[0m\u001b[0;34m.\u001b[0m\u001b[0mn_features\u001b[0m \u001b[0;34m+\u001b[0m \u001b[0;36m1\u001b[0m\u001b[0;34m)\u001b[0m\u001b[0;34m\u001b[0m\u001b[0m\n\u001b[0m\u001b[1;32m    192\u001b[0m                 \u001b[0;32mif\u001b[0m \u001b[0mterminal\u001b[0m \u001b[0;34m==\u001b[0m \u001b[0mself\u001b[0m\u001b[0;34m.\u001b[0m\u001b[0mn_features\u001b[0m\u001b[0;34m:\u001b[0m\u001b[0;34m\u001b[0m\u001b[0m\n\u001b[1;32m    193\u001b[0m                     \u001b[0mterminal\u001b[0m \u001b[0;34m=\u001b[0m \u001b[0mrandom_state\u001b[0m\u001b[0;34m.\u001b[0m\u001b[0muniform\u001b[0m\u001b[0;34m(\u001b[0m\u001b[0;34m*\u001b[0m\u001b[0mself\u001b[0m\u001b[0;34m.\u001b[0m\u001b[0mconst_range\u001b[0m\u001b[0;34m)\u001b[0m\u001b[0;34m\u001b[0m\u001b[0m\n",
      "\u001b[0;31mKeyboardInterrupt\u001b[0m: "
     ]
    }
   ],
   "source": [
    "list_of_fitness = []\n",
    "list_of_est_program = []\n",
    "list_of_x_test = []\n",
    "list_of_y_test = []\n",
    "for itr in range(0,20):\n",
    "    print('Run :',itr+1)\n",
    "    train_pca_dv(itr) "
   ]
  },
  {
   "cell_type": "code",
   "execution_count": 51,
   "metadata": {},
   "outputs": [
    {
     "name": "stdout",
     "output_type": "stream",
     "text": [
      "Predicted functions of 20 Runs with tree depth (2,17)\n",
      "Function 0 add(-0.848, sub(X0, mul(X0, X0)))\n",
      "Function 1 -0.723\n",
      "Function 2 add(-0.993, add(X0, -0.197))\n",
      "Function 3 add(-0.974, X0)\n",
      "Function 4 -0.824\n",
      "Function 5 add(X0, -0.974)\n",
      "Function 6 -0.765\n",
      "Function 7 add(-0.922, add(X0, -0.232))\n",
      "Function 8 -0.823\n",
      "Function 9 sub(-0.911, X0)\n",
      "Function 10 add(-0.993, X0)\n",
      "Function 11 add(-0.922, X0)\n",
      "Function 12 sub(-0.986, X0)\n",
      "Function 13 -0.823\n",
      "Function 14 sub(X0, sub(0.888, -0.335))\n",
      "Function 15 sub(-0.985, X0)\n",
      "Function 16 sub(-0.902, X0)\n",
      "Function 17 add(-0.922, X0)\n",
      "Function 18 -0.697\n",
      "Function 19 add(X0, -0.974)\n"
     ]
    }
   ],
   "source": [
    "print('Predicted functions of ' +str(len(list_of_est_program)) +' Runs with tree depth (2,17)')\n",
    "for ind in range(0,len(list_of_est_program)):\n",
    "    print('Function '+str(ind)+' '+list_of_est_program[ind])"
   ]
  },
  {
   "cell_type": "code",
   "execution_count": 38,
   "metadata": {},
   "outputs": [
    {
     "name": "stdout",
     "output_type": "stream",
     "text": [
      "Predicted functions of 20 Runs with tree depth (6,10)\n",
      "Function 0 sub(sub(X0, 0.778), mul(X0, X0))\n",
      "Function 1 -0.801\n",
      "Function 2 sub(X0, div(-0.957, -0.885))\n",
      "Function 3 sub(sub(X0, 0.778), mul(X0, X0))\n",
      "Function 4 -0.871\n",
      "Function 5 sub(X0, div(X0, X0))\n",
      "Function 6 -0.781\n",
      "Function 7 sub(X0, sub(0.699, -0.444))\n",
      "Function 8 sub(mul(X0, -0.458), 0.898)\n",
      "Function 9 sub(-0.986, X0)\n",
      "Function 10 sub(X0, 0.991)\n",
      "Function 11 sub(X0, 0.902)\n",
      "Function 12 sub(sub(0.081, X0), div(0.278, 0.231))\n",
      "Function 13 -0.926\n",
      "Function 14 sub(X0, add(0.729, 0.341))\n",
      "Function 15 -0.785\n",
      "Function 16 sub(mul(X0, 0.224), sub(X0, -0.947))\n",
      "Function 17 add(-0.974, X0)\n",
      "Function 18 -0.769\n",
      "Function 19 add(-0.929, X0)\n"
     ]
    }
   ],
   "source": [
    "print('Predicted functions of ' +str(len(list_of_est_program)) +' Runs with tree depth (6,10)')\n",
    "for ind in range(0,len(list_of_est_program)):\n",
    "    print('Function '+str(ind)+' '+list_of_est_program[ind])"
   ]
  },
  {
   "cell_type": "code",
   "execution_count": 19,
   "metadata": {},
   "outputs": [
    {
     "name": "stdout",
     "output_type": "stream",
     "text": [
      "Predicted functions of 20 Runs with tree depth (2,6)\n",
      "Function 0 sub(-0.749, sub(mul(X0, X0), X0)) With fitness  1.5464592643832455\n",
      "Function 1 -0.713 With fitness  0.5755026098148425\n",
      "Function 2 add(sub(X0, 0.159), -0.965) With fitness  0.9643061484795903\n",
      "Function 3 sub(add(-0.834, X0), mul(X0, X0)) With fitness  1.1616546820083762\n",
      "Function 4 -0.803 With fitness  0.6143737679833474\n",
      "Function 5 sub(-0.931, mul(X0, -0.606)) With fitness  0.7717159012760556\n",
      "Function 6 -0.765 With fitness  0.5277935220732879\n",
      "Function 7 sub(sub(X0, 0.159), 0.971) With fitness  0.9920810334216495\n",
      "Function 8 -0.931 With fitness  0.3008120488937444\n",
      "Function 9 sub(-0.931, X0) With fitness  0.9781697851795068\n",
      "Function 10 add(-0.986, X0) With fitness  0.4434641396982191\n",
      "Function 11 sub(sub(X0, 0.834), mul(X0, X0)) With fitness  1.2510682270227254\n",
      "Function 12 sub(sub(-0.440, X0), 0.671) With fitness  0.6388961110948697\n",
      "Function 13 -0.749 With fitness  0.8471336680119064\n",
      "Function 14 sub(sub(X0, 0.159), 0.946) With fitness  0.946392147874802\n",
      "Function 15 -0.781 With fitness  0.46488628403654364\n",
      "Function 16 sub(-0.781, add(X0, 0.366)) With fitness  0.6173541257590781\n",
      "Function 17 add(mul(0.674, X0), -0.965) With fitness  0.5706363084296494\n",
      "Function 18 -0.637 With fitness  0.7362162404162904\n",
      "Function 19 add(X0, -0.974) With fitness  0.7541636787138308\n"
     ]
    }
   ],
   "source": [
    "print('Predicted functions of ' +str(len(list_of_est_program)) +' Runs with tree depth (2,6)')\n",
    "for ind in range(0,len(list_of_est_program)):\n",
    "    print('Function '+str(ind)+' '+list_of_est_program[ind]+' With fitness '+' '+list_of_fitness[ind])"
   ]
  },
  {
   "cell_type": "markdown",
   "metadata": {},
   "source": [
    "### Calculate fitness"
   ]
  },
  {
   "cell_type": "code",
   "execution_count": 47,
   "metadata": {},
   "outputs": [
    {
     "name": "stdout",
     "output_type": "stream",
     "text": [
      "Training of data with PCA with DV: 1.2656720723586143\n"
     ]
    }
   ],
   "source": [
    "# add(-0.993, add(X0, -0.197))\n",
    "x0 = X_test[:,0]\n",
    "x1 = X_test[:,1]\n",
    "predicted_formula_result_y = -.993+(x0-.197)\n",
    "# predicted_formula_result_y = (x0-.877)-(x0*x0)\n",
    "fitness = mean_squared_error(y_test, predicted_formula_result_y)\n",
    "print('Training of data with PCA with DV: '+str(fitness))"
   ]
  },
  {
   "cell_type": "markdown",
   "metadata": {},
   "source": [
    "# Visulaiztions"
   ]
  },
  {
   "cell_type": "code",
   "execution_count": 51,
   "metadata": {},
   "outputs": [
    {
     "data": {
      "image/png": "[encoded data removed]",
      "text/plain": [
       "<Figure size 432x288 with 1 Axes>"
      ]
     },
     "metadata": {},
     "output_type": "display_data"
    }
   ],
   "source": [
    "# Round the fitness to 3 decimal points for easy visualizaiton\n",
    "list_of_rounded_fitness = []\n",
    "for fitness in list_of_fitness:\n",
    "    list_of_rounded_fitness.append(round(float(fitness),3))\n",
    "objects = list_of_est_program\n",
    "y_pos = np.arange(len(objects))\n",
    "performance = list_of_rounded_fitness\n",
    "plt.barh(y_pos, performance, align='center', alpha=0.5)\n",
    "plt.yticks(y_pos, objects)\n",
    "plt.ylabel('Function')\n",
    "plt.xlabel('Fitness')\n",
    "plt.title('Result for Run with DV with PCA with length (2,6)')\n",
    " \n",
    "plt.show()"
   ]
  },
  {
   "cell_type": "code",
   "execution_count": 54,
   "metadata": {},
   "outputs": [
    {
     "data": {
      "image/png": "[encoded data removed]",
      "text/plain": [
       "<Figure size 432x288 with 1 Axes>"
      ]
     },
     "metadata": {},
     "output_type": "display_data"
    }
   ],
   "source": [
    "# Round the fitness to 3 decimal points for easy visualizaiton\n",
    "list_of_rounded_fitness = []\n",
    "for fitness in list_of_fitness:\n",
    "    list_of_rounded_fitness.append(round(float(fitness),3))\n",
    "objects = list_of_est_program\n",
    "y_pos = np.arange(len(objects))\n",
    "performance = list_of_rounded_fitness\n",
    "plt.barh(y_pos, performance, align='center', alpha=0.5)\n",
    "plt.yticks(y_pos, objects)\n",
    "plt.ylabel('Function')\n",
    "plt.xlabel('Fitness')\n",
    "plt.title('Result for Run with DV with PCA with length (6,10)')\n",
    " \n",
    "plt.show()"
   ]
  },
  {
   "cell_type": "markdown",
   "metadata": {},
   "source": [
    "### Standard GP Visualization"
   ]
  },
  {
   "cell_type": "code",
   "execution_count": 21,
   "metadata": {},
   "outputs": [
    {
     "data": {
      "image/png": "[encoded data removed]",
      "text/plain": [
       "<Figure size 432x288 with 1 Axes>"
      ]
     },
     "metadata": {},
     "output_type": "display_data"
    }
   ],
   "source": [
    "spread = np.random.rand(50) * 100\n",
    "center = np.ones(25) * 40\n",
    "flier_high = np.random.rand(10) * 100 + 100\n",
    "flier_low = np.random.rand(10) * -100\n",
    "d2 = np.concatenate((spread, center, flier_high, flier_low))\n",
    "data.shape = (-1, 1)\n",
    "d2.shape = (-1, 1)\n",
    "data = [data, d2, d2[::2,0]]\n",
    "fig7, ax7 = plt.subplots()\n",
    "ax7.set_title('Multiple Samples with Different sizes')\n",
    "ax7.boxplot(data)\n",
    "\n",
    "plt.show()"
   ]
  },
  {
   "cell_type": "code",
   "execution_count": 24,
   "metadata": {},
   "outputs": [
    {
     "name": "stdout",
     "output_type": "stream",
     "text": [
      "[array([[ 70.03673039],\n",
      "       [ 74.27508094],\n",
      "       [ 70.92800107],\n",
      "       [ 56.67455225],\n",
      "       [ 97.77853328],\n",
      "       [ 70.6334846 ],\n",
      "       [ 24.79157587],\n",
      "       [ 15.78833509],\n",
      "       [ 69.76985214],\n",
      "       [ 71.99566667],\n",
      "       [ 25.77444303],\n",
      "       [ 34.15467831],\n",
      "       [ 96.87611677],\n",
      "       [ 69.45070978],\n",
      "       [ 46.63832593],\n",
      "       [ 70.28126954],\n",
      "       [ 51.1785874 ],\n",
      "       [ 92.874137  ],\n",
      "       [ 73.97692989],\n",
      "       [ 62.24390337],\n",
      "       [ 65.15454689],\n",
      "       [ 39.68076115],\n",
      "       [ 54.32393949],\n",
      "       [ 79.98995282],\n",
      "       [ 72.15447266],\n",
      "       [ 29.53639811],\n",
      "       [ 16.09458806],\n",
      "       [ 20.61255148],\n",
      "       [ 13.43253868],\n",
      "       [ 48.06050174],\n",
      "       [ 34.25218134],\n",
      "       [ 36.29692901],\n",
      "       [ 97.29176387],\n",
      "       [ 11.09436116],\n",
      "       [ 38.82640891],\n",
      "       [ 78.30658753],\n",
      "       [ 97.28972601],\n",
      "       [ 48.32096053],\n",
      "       [ 33.64211054],\n",
      "       [ 56.74190362],\n",
      "       [  4.79415097],\n",
      "       [ 38.8937029 ],\n",
      "       [ 90.63036451],\n",
      "       [ 16.10182093],\n",
      "       [ 74.36211347],\n",
      "       [ 63.29741618],\n",
      "       [ 32.41800177],\n",
      "       [ 92.23765324],\n",
      "       [ 23.72264387],\n",
      "       [ 82.39455709],\n",
      "       [ 50.        ],\n",
      "       [ 50.        ],\n",
      "       [ 50.        ],\n",
      "       [ 50.        ],\n",
      "       [ 50.        ],\n",
      "       [ 50.        ],\n",
      "       [ 50.        ],\n",
      "       [ 50.        ],\n",
      "       [ 50.        ],\n",
      "       [ 50.        ],\n",
      "       [ 50.        ],\n",
      "       [ 50.        ],\n",
      "       [ 50.        ],\n",
      "       [ 50.        ],\n",
      "       [ 50.        ],\n",
      "       [ 50.        ],\n",
      "       [ 50.        ],\n",
      "       [ 50.        ],\n",
      "       [ 50.        ],\n",
      "       [ 50.        ],\n",
      "       [ 50.        ],\n",
      "       [ 50.        ],\n",
      "       [ 50.        ],\n",
      "       [ 50.        ],\n",
      "       [ 50.        ],\n",
      "       [175.06071403],\n",
      "       [111.37844527],\n",
      "       [184.53612452],\n",
      "       [192.3932129 ],\n",
      "       [122.08367918],\n",
      "       [193.3053876 ],\n",
      "       [148.89987436],\n",
      "       [147.47186402],\n",
      "       [108.91674722],\n",
      "       [122.9948178 ],\n",
      "       [-71.59374101],\n",
      "       [-49.6126162 ],\n",
      "       [-76.64893785],\n",
      "       [-89.67973224],\n",
      "       [-77.22230183],\n",
      "       [-92.71742883],\n",
      "       [-61.46520272],\n",
      "       [-60.90637692],\n",
      "       [-68.46848657],\n",
      "       [-25.10129674]]), array([[ 83.78376368],\n",
      "       [ 11.8615617 ],\n",
      "       [ 79.72347418],\n",
      "       [ 94.90042675],\n",
      "       [ 14.80628764],\n",
      "       [ 90.68719849],\n",
      "       [ 78.83733255],\n",
      "       [ 76.84058413],\n",
      "       [ 59.8496483 ],\n",
      "       [ 44.21456175],\n",
      "       [ 72.30380198],\n",
      "       [ 41.66182494],\n",
      "       [ 22.68103954],\n",
      "       [ 45.42273409],\n",
      "       [ 84.79437532],\n",
      "       [ 93.6655949 ],\n",
      "       [ 95.60361846],\n",
      "       [ 39.20943157],\n",
      "       [ 70.8324671 ],\n",
      "       [ 12.95158346],\n",
      "       [ 35.37963854],\n",
      "       [ 40.42715193],\n",
      "       [ 64.85338993],\n",
      "       [  3.30709704],\n",
      "       [ 53.80093632],\n",
      "       [ 13.17131185],\n",
      "       [ 52.09349339],\n",
      "       [ 10.24847852],\n",
      "       [ 15.79803754],\n",
      "       [ 92.0029646 ],\n",
      "       [ 78.42297751],\n",
      "       [ 39.70475376],\n",
      "       [ 15.46468315],\n",
      "       [ 72.11932479],\n",
      "       [ 83.68309041],\n",
      "       [ 93.78552019],\n",
      "       [ 57.67138189],\n",
      "       [ 19.50265601],\n",
      "       [ 11.77939697],\n",
      "       [ 95.06002043],\n",
      "       [ 28.36723023],\n",
      "       [ 95.65624228],\n",
      "       [ 90.94254614],\n",
      "       [ 32.84251875],\n",
      "       [ 95.17655686],\n",
      "       [ 11.63214758],\n",
      "       [ 87.43141503],\n",
      "       [ 98.52254676],\n",
      "       [ 75.03353804],\n",
      "       [ 98.51564662],\n",
      "       [ 40.        ],\n",
      "       [ 40.        ],\n",
      "       [ 40.        ],\n",
      "       [ 40.        ],\n",
      "       [ 40.        ],\n",
      "       [ 40.        ],\n",
      "       [ 40.        ],\n",
      "       [ 40.        ],\n",
      "       [ 40.        ],\n",
      "       [ 40.        ],\n",
      "       [ 40.        ],\n",
      "       [ 40.        ],\n",
      "       [ 40.        ],\n",
      "       [ 40.        ],\n",
      "       [ 40.        ],\n",
      "       [ 40.        ],\n",
      "       [ 40.        ],\n",
      "       [ 40.        ],\n",
      "       [ 40.        ],\n",
      "       [ 40.        ],\n",
      "       [ 40.        ],\n",
      "       [ 40.        ],\n",
      "       [ 40.        ],\n",
      "       [ 40.        ],\n",
      "       [ 40.        ],\n",
      "       [199.0180235 ],\n",
      "       [106.09770913],\n",
      "       [100.37359805],\n",
      "       [181.25032132],\n",
      "       [158.27367203],\n",
      "       [115.02459814],\n",
      "       [115.21735565],\n",
      "       [152.7059502 ],\n",
      "       [147.94051987],\n",
      "       [109.21899366],\n",
      "       [-51.19574322],\n",
      "       [ -4.28311062],\n",
      "       [-80.62961538],\n",
      "       [-24.21986649],\n",
      "       [-84.8211097 ],\n",
      "       [-69.55898582],\n",
      "       [-36.13268647],\n",
      "       [-50.57014395],\n",
      "       [-29.41724224],\n",
      "       [-66.00845699]]), array([ 83.78376368,  79.72347418,  14.80628764,  78.83733255,\n",
      "        59.8496483 ,  72.30380198,  22.68103954,  84.79437532,\n",
      "        95.60361846,  70.8324671 ,  35.37963854,  64.85338993,\n",
      "        53.80093632,  52.09349339,  15.79803754,  78.42297751,\n",
      "        15.46468315,  83.68309041,  57.67138189,  11.77939697,\n",
      "        28.36723023,  90.94254614,  95.17655686,  87.43141503,\n",
      "        75.03353804,  40.        ,  40.        ,  40.        ,\n",
      "        40.        ,  40.        ,  40.        ,  40.        ,\n",
      "        40.        ,  40.        ,  40.        ,  40.        ,\n",
      "        40.        ,  40.        , 106.09770913, 181.25032132,\n",
      "       115.02459814, 152.7059502 , 109.21899366,  -4.28311062,\n",
      "       -24.21986649, -69.55898582, -50.57014395, -66.00845699])]\n"
     ]
    }
   ],
   "source": [
    "print(data)"
   ]
  },
  {
   "cell_type": "code",
   "execution_count": 46,
   "metadata": {},
   "outputs": [
    {
     "data": {
      "image/png": "[encoded data removed]",
      "text/plain": [
       "<Figure size 864x432 with 1 Axes>"
      ]
     },
     "metadata": {},
     "output_type": "display_data"
    }
   ],
   "source": [
    "data = [[0.6545326193170877, 0.5034866507175532], [0.4709350621474633, 0.4354270502971246], [0.3569102194188221, 0.4305657795750091], [0.28938466071396307, 0.27835777481601026], [0.27050030819879933, 0.27709463310763827], [0.2544773141806192, 0.2670564207002866], [0.253047676152755, 0.26379827823456664], [0.2545534634939961, 0.2638178456219223], [0.2578874746694214, 0.26688495636137133], [0.25103982172368233, 0.26618731337276913], [0.25074529390902633, 0.26367201530601164], [0.2501265945882167, 0.2584739410401094], [0.24845038728996147, 0.260146780884736], [0.25319904387689196, 0.2528134457222099], [0.25322542322292335, 0.2593682867939463], [0.2545292694952185, 0.26362568757277005], [0.2496610258604738, 0.2626572211645827], [0.2539795564501502, 0.25821126576291104], [0.2553369114067439, 0.25901054835000203], [0.25666424944735555, 0.26273688184560007], [0.24465336892327116, 0.2599260276092084], [0.24608158295889404, 0.2618513520131897], [0.24805668687304713, 0.26187768751661894], [0.24764152395766775, 0.262395349854586], [0.24560722856382153, 0.2543090776720274], [0.24803446834374285, 0.2604013071030699], [0.24156524453078035, 0.260453341335611], [0.2515813758646531, 0.25923225021443586], [0.24462414519312622, 0.2576109620437925], [0.23822079594614676, 0.2550090295206686], [0.2414600789684646, 0.25960708960169554], [0.24052708904733433, 0.25752931655426703], [0.24801121140498342, 0.2643738139464479], [0.24253883953768357, 0.259083176057809], [0.24142230616581214, 0.25772653235214843], [0.24221244780911086, 0.2622424165589329], [0.2433929859459526, 0.2593133884918385], [0.23692715801995087, 0.25681097873762143], [0.23450309112203047, 0.2525469838625518], [0.23833304249872864, 0.2655376015025845], [0.23249473182152058, 0.2606712549684818], [0.23399959507646959, 0.25737038393190803], [0.22604604464478906, 0.2589499392057375], [0.2425513932565707, 0.26096076187354994], [0.23963854315906816, 0.2612382973024391], [0.2438731709712739, 0.25746877772612503], [0.2368989792456489, 0.2563794277764966], [0.23502279826751682, 0.25964938413738786], [0.2391543046323712, 0.2585348493181541], [0.2365621346676552, 0.26081273116917253], [0.23615442193121872, 0.25860031903577513], [0.23576979488960456, 0.2549504280431919], [0.2433463921239992, 0.25901678321203625], [0.23768701305169043, 0.2586054313019961], [0.23749282721386744, 0.25322691058388025], [0.24134242717843934, 0.25894240277916264], [0.24030651740406014, 0.2562191639974616], [0.2379998434525066, 0.2538835425514731], [0.236149516071757, 0.25413009530601655], [0.23362288877187376, 0.25345588799217855]]\n",
    "fig7, ax7 = plt.subplots(figsize=(18, 6))\n",
    "ax7.set_title('Multiple Samples with Different sizes')\n",
    "ax7.boxplot(data)\n",
    "plt.show()"
   ]
  },
  {
   "cell_type": "code",
   "execution_count": null,
   "metadata": {},
   "outputs": [],
   "source": []
  }
 ],
 "metadata": {
  "kernelspec": {
   "display_name": "Python 3",
   "language": "python",
   "name": "python3"
  },
  "language_info": {
   "codemirror_mode": {
    "name": "ipython",
    "version": 3
   },
   "file_extension": ".py",
   "mimetype": "text/x-python",
   "name": "python",
   "nbconvert_exporter": "python",
   "pygments_lexer": "ipython3",
   "version": "3.6.5"
  }
 },
 "nbformat": 4,
 "nbformat_minor": 1
}

{
 "cells": [
  {
   "cell_type": "markdown",
   "metadata": {},
   "source": [
    "# Thesis work--2\n",
    "# A new method for multivariate regression problem for improving fitness in Genetic Programming"
   ]
  },
  {
   "cell_type": "markdown",
   "metadata": {},
   "source": [
    "## Results"
   ]
  },
  {
   "cell_type": "markdown",
   "metadata": {},
   "source": [
    "```Equation 0: X[:, 0]**2 - X[:, 1]**2 + X[:, 1] - 1```\n",
    "####  t-value = 1.4275024548462258, p-value = 0.15879725627593025, df = 58.0\n",
    "![](images/Standard GP Equation 0 Total Runs 30.png?raw=true)\n",
    "![](images/PCA GP Equation 0 Total Runs 30.png?raw=true)\n",
    "![](images/DV GP Equation 0 Total Runs 30.png?raw=true)"
   ]
  },
  {
   "cell_type": "markdown",
   "metadata": {},
   "source": [
    "```Equation 1: .3 * X[:,0] * np.sin(2*math.pi*X[:,1]```\n",
    "####  t-value = 2.469658450876499, p-value = 0.016488605104704696, df = 58.0\n",
    "![](images/Standard GP Equation 1 Total Runs 30.png?raw=true)\n",
    "![](images/PCA GP Equation 1 Total Runs 30.png?raw=true)\n",
    "![](images/DV GP Equation 1 Total Runs 30.png?raw=true)"
   ]
  },
  {
   "cell_type": "markdown",
   "metadata": {},
   "source": [
    "```Equation 2: X[:,0]**4 - X[:,0]**3 + 0.5*X[:,1]**2 - X[:,1]```\n",
    "####  t-value = 5.057453712651759, p-value = 4.561464556124443e-06, df = 58.0\n",
    "![](images/Standard GP Equation 2 Total Runs 30.png?raw=true)\n",
    "![](images/PCA GP Equation 2 Total Runs 30.png?raw=true)\n",
    "![](images/DV GP Equation 2 Total Runs 30.png?raw=true)"
   ]
  },
  {
   "cell_type": "markdown",
   "metadata": {},
   "source": [
    "``` Equation 3: 8/(2 + X[:,0]**2 + X[:,1]**2)```\n",
    "#### t-value = 4.211354245308302, p-value = 8.956823276324353e-05, df = 58.0\n",
    "![](images/Standard GP Equation  3 Total Runs 30.png?raw=true)\n",
    "![](images/PCA GP Equation  3 Total Runs 30.png?raw=true)\n",
    "![](images/DV GP Equation  3 Total Runs 30.png?raw=true)"
   ]
  },
  {
   "cell_type": "markdown",
   "metadata": {},
   "source": [
    "``` Equation 4: X[:,0]*X[:,1] + X[:,2]*X[:,3] + X[:,4]*X[:,5] + X[:,0]*X[:,6]*X[:,7] + X[:,2]*X[:,5]*X[:,8]```\n",
    "####  t-value = 5.807419096679126, p-value = 2.8251786470642775e-07, df = 58.0\n",
    "![](images/Standard GP Equation 4 Total Runs 30.png?raw=true)\n",
    "![](images/PCA GP Equation 4 Total Runs 30.png?raw=true)\n",
    "![](images/DV GP Equation 4 Total Runs 30.png?raw=true)"
   ]
  },
  {
   "cell_type": "markdown",
   "metadata": {},
   "source": [
    "``` Equation 5: 10 * np.sin(math.pi*X[:,0]*X[:,1]) + 20*  (X[:,3]-.5)**2 + 10*X[:,4] + 5*X[:,5]```\n",
    "#### t-value = -0.3236038530861798, p-value = 0.7474019429405196, df = 58.0\n",
    "![](images/Standard GP Equation 5 Total Runs 30.png?raw=true)\n",
    "![](images/PCA GP Equation 5 Total Runs 30.png?raw=true)\n",
    "![](images/DV GP Equation 5 Total Runs 30.png?raw=true)"
   ]
  }
 ],
 "metadata": {
  "kernelspec": {
   "display_name": "Python 3",
   "language": "python",
   "name": "python3"
  },
  "language_info": {
   "codemirror_mode": {
    "name": "ipython",
    "version": 3
   },
   "file_extension": ".py",
   "mimetype": "text/x-python",
   "name": "python",
   "nbconvert_exporter": "python",
   "pygments_lexer": "ipython3",
   "version": "3.6.5"
  }
 },
 "nbformat": 4,
 "nbformat_minor": 1
}

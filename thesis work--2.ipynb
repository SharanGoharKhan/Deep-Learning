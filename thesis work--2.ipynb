{
 "cells": [
  {
   "cell_type": "markdown",
   "metadata": {},
   "source": [
    "# Thesis work--2\n",
    "# A new method for multivariate regression problem for improving fitness in Genetic Programming"
   ]
  },
  {
   "cell_type": "markdown",
   "metadata": {},
   "source": [
    "## Equations"
   ]
  },
  {
   "cell_type": "raw",
   "metadata": {},
   "source": [
    "Equation 0: X[:, 0]**2 - X[:, 1]**2 + X[:, 1] - 1\n",
    "Equation 1: 0.3 * X[:,0] * np.sin(2*math.pi*X[:,1]\n",
    "Equation 2: X[:,0]**4 - X[:,0]**3 + 0.5*X[:,1]**2 - X[:,1]\n",
    "Equation 3: 8/(2 + X[:,0]**2 + X[:,1]**2)\n",
    "Equation 4: X[:,0]*X[:,1] + X[:,2]*X[:,3] + X[:,4]*X[:,5] + X[:,0]*X[:,6]*X[:,7] + X[:,2]*X[:,5]*X[:,8]\n",
    "Equation 5: 10 * np.sin(math.pi*X[:,0]*X[:,1]) + 20*  (X[:,3]-.5)**2 + 10*X[:,4] + 5*X[:,5]"
   ]
  },
  {
   "cell_type": "markdown",
   "metadata": {},
   "source": [
    "# Visulaiztions"
   ]
  },
  {
   "cell_type": "markdown",
   "metadata": {},
   "source": [
    "### Plots for Equation 0 with different methods\n",
    "![](images/Standard GP Equation 0 Total Runs 30.png?raw=true)\n",
    "![](images/PCA GP Equation 0 Total Runs 30.png?raw=true)\n",
    "![](images/DV GP Equation 0 Total Runs 30.png?raw=true)"
   ]
  },
  {
   "cell_type": "markdown",
   "metadata": {},
   "source": [
    "### Plots for Equation 1 with different methods\n",
    "![](images/Standard GP Equation 1 Total Runs 30.png?raw=true)\n",
    "![](images/PCA GP Equation 1 Total Runs 30.png?raw=true)\n",
    "![](images/DV GP Equation 1 Total Runs 30.png?raw=true)"
   ]
  },
  {
   "cell_type": "markdown",
   "metadata": {},
   "source": [
    "### Plots for Equation 2 with different methods\n",
    "![](images/Standard GP Equation 2 Total Runs 30.png?raw=true)\n",
    "![](images/PCA GP Equation 2 Total Runs 30.png?raw=true)\n",
    "![](images/DV GP Equation 2 Total Runs 30.png?raw=true)"
   ]
  },
  {
   "cell_type": "markdown",
   "metadata": {},
   "source": [
    "### Plots for Equation 3 with different methods\n",
    "![](images/Standard GP Equation  3 30.png?raw=true)\n",
    "![](images/PCA GP Equation  3 30.png?raw=true)\n",
    "![](images/DV GP Equation  3 30.png?raw=true)"
   ]
  },
  {
   "cell_type": "markdown",
   "metadata": {},
   "source": [
    "### Plots for Equation 4 with different methods\n",
    "![](images/Standard GP Equation 4 Total Runs 30.png?raw=true)\n",
    "![](images/PCA GP Equation 4 Total Runs 30.png?raw=true)\n",
    "![](images/DV GP Equation 4 Total Runs 30.png?raw=true)"
   ]
  },
  {
   "cell_type": "markdown",
   "metadata": {},
   "source": [
    "### Plots for Equation 5 with different methods\n",
    "![](images/Standard GP Equation 5 Total Runs 30.png?raw=true)\n",
    "![](images/PCA GP Equation 5 Total Runs 30.png?raw=true)\n",
    "![](images/DV GP Equation 5 Total Runs 30.png?raw=true)"
   ]
  },
  {
   "cell_type": "code",
   "execution_count": null,
   "metadata": {},
   "outputs": [],
   "source": []
  }
 ],
 "metadata": {
  "kernelspec": {
   "display_name": "Python 3",
   "language": "python",
   "name": "python3"
  },
  "language_info": {
   "codemirror_mode": {
    "name": "ipython",
    "version": 3
   },
   "file_extension": ".py",
   "mimetype": "text/x-python",
   "name": "python",
   "nbconvert_exporter": "python",
   "pygments_lexer": "ipython3",
   "version": "3.6.5"
  }
 },
 "nbformat": 4,
 "nbformat_minor": 1
}

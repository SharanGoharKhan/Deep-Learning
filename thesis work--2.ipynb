{
 "cells": [
  {
   "cell_type": "markdown",
   "metadata": {},
   "source": [
    "# Thesis work--2\n",
    "# A new method for multivariate regression problem for improving fitness in Genetic Programming"
   ]
  },
  {
   "cell_type": "markdown",
   "metadata": {},
   "source": [
    "### Importing the libraries"
   ]
  },
  {
   "cell_type": "code",
   "execution_count": 101,
   "metadata": {},
   "outputs": [],
   "source": [
    "import numpy as np\n",
    "import matplotlib.pyplot as plt\n",
    "import pandas as pd\n",
    "from random import randrange, uniform\n",
    "from sklearn.utils import check_random_state"
   ]
  },
  {
   "cell_type": "markdown",
   "metadata": {},
   "source": [
    "### Global variables and functions for tuning"
   ]
  },
  {
   "cell_type": "code",
   "execution_count": 102,
   "metadata": {},
   "outputs": [],
   "source": [
    "FEATURES = 3\n",
    "NUMBER_OF_GENERATION = 20\n",
    "ROWS = 300\n",
    "NUMBER_OF_REGIONS = 3\n",
    "formula = lambda X: X[:, 0]**2 - X[:, 1]**2 + X[:, 1] - 1"
   ]
  },
  {
   "cell_type": "markdown",
   "metadata": {},
   "source": [
    "### Generating Training Samples"
   ]
  },
  {
   "cell_type": "code",
   "execution_count": 103,
   "metadata": {},
   "outputs": [],
   "source": [
    "rng = check_random_state(0)\n",
    "X = rng.uniform(-1, 1, ROWS).reshape(ROWS//FEATURES, FEATURES)\n",
    "Y = formula(X)"
   ]
  },
  {
   "cell_type": "markdown",
   "metadata": {},
   "source": [
    "### Splitting the dataset into the Training set and Test set"
   ]
  },
  {
   "cell_type": "code",
   "execution_count": 104,
   "metadata": {},
   "outputs": [],
   "source": [
    "from sklearn.model_selection import train_test_split\n",
    "X_train, X_test, y_train, y_test = train_test_split(X, Y, test_size = 0.2, random_state = 0)"
   ]
  },
  {
   "cell_type": "markdown",
   "metadata": {},
   "source": [
    "### Applying PCA"
   ]
  },
  {
   "cell_type": "code",
   "execution_count": 105,
   "metadata": {},
   "outputs": [],
   "source": [
    "from sklearn.decomposition import PCA\n",
    "pca = PCA(n_components = 1)\n",
    "#print(X_train)\n",
    "X_train_pca = pca.fit_transform(X_train)\n",
    "X_test_pca = pca.transform(X_test)\n",
    "explained_variance = pca.explained_variance_ratio_\n",
    "#print(X_train_pca)\n",
    "#print(X_test_pca)\n",
    "# print(np.shape(X_train),np.shape(X_test))\n",
    "#print(explained_variance)"
   ]
  },
  {
   "cell_type": "markdown",
   "metadata": {},
   "source": [
    "### Calculating DV"
   ]
  },
  {
   "cell_type": "code",
   "execution_count": 106,
   "metadata": {},
   "outputs": [
    {
     "name": "stdout",
     "output_type": "stream",
     "text": [
      "{0: [6, 8, 11, 15, 19, 21, 24, 28, 30, 31, 33, 35, 38, 40, 42, 45, 47, 52, 53, 58, 60, 61, 63, 66, 68, 70], 1: [0, 1, 2, 3, 5, 10, 12, 13, 14, 17, 18, 22, 26, 29, 34, 44, 49, 50, 56, 65, 67, 72, 73, 74, 75, 77], 2: [4, 7, 9, 16, 20, 23, 25, 27, 32, 36, 37, 39, 41, 43, 46, 48, 51, 54, 55, 57, 59, 62, 64, 69, 71, 76]}\n"
     ]
    }
   ],
   "source": [
    "# sort X_train_pca and y_train by index\n",
    "sorted_indexes = np.argsort(X_train_pca,axis=0)\n",
    "sorted_x_train_pca = X_train_pca[sorted_indexes]\n",
    "sorted_y_train = y_train[sorted_indexes]\n",
    "\n",
    "# Finding Change of Slope\n",
    "slope1 = []\n",
    "slope2 = []\n",
    "for itr in range(1,len(sorted_x_train_pca)):\n",
    "    slope1.append((sorted_y_train[itr]-sorted_y_train[itr-1])/(sorted_x_train_pca[itr]-sorted_x_train_pca[itr-1]))\n",
    "for itr in range(1,len(slope1)):\n",
    "    slope2.append((slope1[itr]-slope1[itr-1])/(sorted_x_train_pca[itr]-sorted_x_train_pca[itr-1]))\n",
    "\n",
    "# normalize slope2 \n",
    "normalized_slope2 = (slope2-min(slope2))/(max(slope2)-min(slope2))\n",
    "\n",
    "# Calculating Quantiles\n",
    "normalized_slope2 = np.reshape(normalized_slope2,len(normalized_slope2))\n",
    "quantile_ranges = pd.qcut(normalized_slope2,NUMBER_OF_REGIONS,labels=False,retbins=True)\n",
    "quantile_ranges = quantile_ranges[1]\n",
    "\n",
    "# Adding the difficult Vectors\n",
    "difficult_points = {}\n",
    "for q_ind in range(NUMBER_OF_REGIONS):\n",
    "    low = quantile_ranges[q_ind]\n",
    "    high = quantile_ranges[q_ind+1]\n",
    "    difficult_points[q_ind] = []\n",
    "    for n_ind in range(0,len(normalized_slope2)):\n",
    "        if normalized_slope2[n_ind] >= low and normalized_slope2[n_ind] <= high:\n",
    "            difficult_points[q_ind].append(n_ind)\n",
    "print(difficult_points)"
   ]
  },
  {
   "cell_type": "markdown",
   "metadata": {},
   "source": [
    "### Training of converted PCA"
   ]
  },
  {
   "cell_type": "code",
   "execution_count": 107,
   "metadata": {},
   "outputs": [],
   "source": [
    "from gplearn.genetic import SymbolicRegressor\n",
    "est_gp = SymbolicRegressor(population_size=200,\n",
    "                           generations=NUMBER_OF_GENERATION, stopping_criteria=0.01,\n",
    "                           p_crossover=0.7, p_subtree_mutation=0.1,\n",
    "                           p_hoist_mutation=0.05, p_point_mutation=0.1,\n",
    "                           max_samples=0.9, verbose=1,\n",
    "                           parsimony_coefficient=0.01, random_state=0)\n"
   ]
  },
  {
   "cell_type": "markdown",
   "metadata": {},
   "source": [
    "### Getting the different regions of difficulty level"
   ]
  },
  {
   "cell_type": "code",
   "execution_count": 108,
   "metadata": {},
   "outputs": [],
   "source": [
    "# Hard to evolve points\n",
    "hard_to_evolve_x = X_train_pca[difficult_points[0]]\n",
    "hard_to_evolve_y = y_train[difficult_points[0]]\n",
    "\n",
    "# Medium to evolve points\n",
    "medium_to_evolve_x = X_train_pca[difficult_points[1]]\n",
    "medium_to_evolve_y = y_train[difficult_points[1]]\n",
    "\n",
    "# Easy to evolve points\n",
    "easy_to_evolve_x = X_train_pca[difficult_points[2]]\n",
    "easy_to_evolve_y = y_train[difficult_points[2]]\n"
   ]
  },
  {
   "cell_type": "markdown",
   "metadata": {},
   "source": [
    "### Feed the system hard to evolve points first"
   ]
  },
  {
   "cell_type": "code",
   "execution_count": 109,
   "metadata": {},
   "outputs": [
    {
     "name": "stdout",
     "output_type": "stream",
     "text": [
      "    |    Population Average   |             Best Individual              |\n",
      "---- ------------------------- ------------------------------------------ ----------\n",
      " Gen   Length          Fitness   Length          Fitness      OOB Fitness  Time Left\n",
      "   0    46.36 1154.6476506965757        7 0.5098817769016858 0.6436402628820348      4.40s\n",
      "   1    12.87 1.4143760780885948        7 0.39180868401004604 0.44834529979141063      4.92s\n",
      "   2     6.76 1.8874227552499951       11 0.37719243611499786 0.6512415386797877      4.16s\n",
      "   3     4.59 1.4350434117059985        7 0.3541753496319566 0.7368675300234296      3.91s\n",
      "   4     3.58 0.7468164095711978        7 0.3559609111867784 0.7231782247697959      3.75s\n",
      "   5     4.36 0.8830114420639997        7 0.3489873191542264 0.7766424303526945      3.61s\n",
      "   6     5.34 0.9034748582289555        7 0.3426612835153983 0.8251420369170438      3.40s\n",
      "   7     4.67 0.8345713580456625        7 0.34609587985472784 0.7407412310015024      3.15s\n",
      "   8     5.95 1.1138480135123958        7 0.3403993747804749 0.8424833372181233      2.96s\n",
      "   9     7.07 0.9782604458568898        7 0.34808973597671744 0.7254550007329157      2.91s\n",
      "  10      7.3 1.131874167480035        7 0.3313710798205525 0.8536313645968464      2.72s\n",
      "  11     7.02 2.7214510988501015        7 0.34116692181980396 0.778529909269252      2.46s\n",
      "  12     6.92 0.8481536172413192        7 0.343479931133146 0.7607968378669628      2.15s\n",
      "  13     7.19 2.152513551256647        7 0.3261752531785291 0.893466035519026      1.83s\n",
      "  14     6.64 0.8522994802826648        7 0.3268379484843317 0.8883853715078726      1.52s\n",
      "  15     7.17 0.8944431098063412        7 0.33264760164025586 0.8438446973124544      1.26s\n",
      "  16     6.93 0.8763625205894932        7 0.34215230873502406 0.7709752762525645      0.95s\n",
      "  17     7.79 1.7377662341942772        7 0.3454040656316781 0.7460451400448838      0.64s\n",
      "  18     6.72 0.9247212302983442        7 0.34089285704661765 0.780631072530347      0.32s\n",
      "  19     7.08 0.7808535783261894       21 0.3493158455540624 0.7093084902495986      0.00s\n",
      "sub(mul(X0, mul(mul(mul(-0.488, -0.614), mul(X0, X0)), mul(div(0.308, -0.763), div(X0, 0.445)))), sub(X0, -0.920))\n"
     ]
    }
   ],
   "source": [
    "est_gp.fit(hard_to_evolve_x,hard_to_evolve_y)\n",
    "print(est_gp._program)"
   ]
  },
  {
   "cell_type": "markdown",
   "metadata": {},
   "source": [
    "### Feed the system Medium to evolve points keeping the current modal state appending generation by current generation"
   ]
  },
  {
   "cell_type": "code",
   "execution_count": 110,
   "metadata": {},
   "outputs": [
    {
     "name": "stdout",
     "output_type": "stream",
     "text": [
      "    |    Population Average   |             Best Individual              |\n",
      "---- ------------------------- ------------------------------------------ ----------\n",
      " Gen   Length          Fitness   Length          Fitness      OOB Fitness  Time Left\n",
      "  20     7.37 1.1746799715654015        7 0.34752631889062735 0.4622070937575978      0.27s\n",
      "  21     6.75 1.3406986607649671        5 0.31791029797129733 0.6112042110184154      0.52s\n",
      "  22     6.43 1.1882428096154083        5 0.2945751645211446 0.7901069008029199      0.67s\n",
      "  23     5.74 1.2575832657426063        5 0.28043978633254607 0.8984781335821745      0.76s\n",
      "  24     5.91 1.4479615958534893        5 0.2950891600074032 0.7861662687416034      0.80s\n",
      "  25     5.46 1.0999330365311517        5 0.28738153863405197 0.8452580326039629      0.83s\n",
      "  26     5.14 1.2435470733790563        5 0.2751704793576012 0.938876153723419      0.84s\n",
      "  27     5.05 1.1897187426904048        5 0.2915066677816123 0.813632042472667      0.83s\n",
      "  28     5.34 2.140192021553801        5 0.2885532616945387 0.8362748224735642      0.81s\n",
      "  29     5.42 1.9031530878842888        5 0.2853861678361983 0.8605558753875074      0.78s\n",
      "  30     4.85 1.3448820746766859        5 0.28043978633254607 0.8984781335821745      0.73s\n",
      "  31     5.31 1.9149870203656818        5 0.3059490183560344 0.702907354735431      0.68s\n",
      "  32     5.78 1.3154324276586868        5 0.3011574859753018 0.7396424363210473      0.63s\n",
      "  33     5.31 1.3659215039593402        5 0.2792956085051615 0.907250163592123      0.56s\n",
      "  34     5.17 1.2343858882948142        5 0.2853861678361983 0.8605558753875074      0.48s\n",
      "  35     5.56 1.2374590347797072        5 0.2945751645211446 0.7901069008029199      0.40s\n",
      "  36     5.22 1.2968259848607517        5 0.2885532616945387 0.8362748224735642      0.31s\n",
      "  37     5.54 1.2166948201195036        5 0.29171560491011056 0.8120301911541806      0.22s\n",
      "  38     5.02 1.163268776166295        5 0.30012129071049537 0.7475866000178971      0.11s\n",
      "  39     5.25 1.200305365063703        5 0.3009618502599222 0.7411423101389577      0.00s\n",
      "sub(-0.156, sub(X0, -0.920))\n"
     ]
    }
   ],
   "source": [
    "est_gp.set_params(generations=NUMBER_OF_GENERATION*2, warm_start=True)\n",
    "est_gp.fit(medium_to_evolve_x,medium_to_evolve_y)\n",
    "print(est_gp._program)"
   ]
  },
  {
   "cell_type": "markdown",
   "metadata": {},
   "source": [
    "### Same process but for easy to evolve points and this is our result"
   ]
  },
  {
   "cell_type": "code",
   "execution_count": 111,
   "metadata": {},
   "outputs": [
    {
     "name": "stdout",
     "output_type": "stream",
     "text": [
      "    |    Population Average   |             Best Individual              |\n",
      "---- ------------------------- ------------------------------------------ ----------\n",
      " Gen   Length          Fitness   Length          Fitness      OOB Fitness  Time Left\n",
      "  40     5.05 1.1623666809134192        5 0.37160724180542426 0.9045108093578799      0.12s\n",
      "  41     5.19 1.2206754446208559        5 0.35180407017037657 1.0563351252265776      0.20s\n",
      "  42     5.66 17.768400952326747        5 0.3695384616369878 0.9203714573158926      0.28s\n",
      "  43     5.28 1.419093861134413        5 0.36818421907277693 0.9307539836415085      0.32s\n",
      "  44     6.12 13.501130655170405        5 0.3779298357949252 0.8560375887717065      0.38s\n",
      "  45     4.69 1.2445755711124526        5 0.36739691615730996 0.9367899726600898      0.40s\n",
      "  46     5.31 1.1822298770796977        5 0.36771673392674764 0.9343380364277337      0.43s\n",
      "  47     5.24 1.1131919852356962        5 0.36214949939870267 0.9770201678094118      0.43s\n",
      "  48     5.11 1.1379586101490036        5 0.3745210647242704 0.8821715003133933      0.44s\n",
      "  49     5.07 1.2040362625862855        5 0.35003635389839355 1.0698876166451152      0.43s\n",
      "  50     5.13 1.1940544653776963        5 0.36771673392674764 0.9343380364277337      0.42s\n",
      "  51     5.01 1.21145010941999        5 0.3626544789604781 0.9731486578357998      0.40s\n",
      "  52     5.46 4.114877953907009        5 0.3758475373199431 0.8720018770799022      0.36s\n",
      "  53     5.17 1.2350547085182229        5 0.35534516860118 1.0291867039237523      0.33s\n",
      "  54     5.18 1.202985419435526        5 0.37728433520689647 0.8609864266132599      0.29s\n",
      "  55     5.36 1.2602739347977103        5 0.37185380154194114 0.902620518044583      0.24s\n",
      "  56     5.24 1.176971404332412        5 0.3728915184778751 0.8946646882024231      0.19s\n",
      "  57     5.22 1.0987960673128567        5 0.3624079192239612 0.9750389491490966      0.13s\n",
      "  58      5.2 1.4306956023719988        5 0.35003635389839355 1.0698876166451152      0.07s\n",
      "  59     5.09 1.090452672031759        5 0.3646678349451212 0.9577129286202025      0.00s\n",
      "sub(-0.156, sub(X0, -0.920))\n"
     ]
    }
   ],
   "source": [
    "est_gp.set_params(generations=NUMBER_OF_GENERATION*3, warm_start=True)\n",
    "est_gp.fit(easy_to_evolve_x,easy_to_evolve_y)\n",
    "print(est_gp._program)"
   ]
  },
  {
   "cell_type": "markdown",
   "metadata": {},
   "source": [
    "### TODO check the results accuracy and compare this method with Standard GP make graphs for visualization"
   ]
  }
 ],
 "metadata": {
  "kernelspec": {
   "display_name": "Python 3",
   "language": "python",
   "name": "python3"
  },
  "language_info": {
   "codemirror_mode": {
    "name": "ipython",
    "version": 3
   },
   "file_extension": ".py",
   "mimetype": "text/x-python",
   "name": "python",
   "nbconvert_exporter": "python",
   "pygments_lexer": "ipython3",
   "version": "3.6.5"
  }
 },
 "nbformat": 4,
 "nbformat_minor": 1
}

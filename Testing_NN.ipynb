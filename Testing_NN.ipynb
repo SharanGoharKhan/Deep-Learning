{
 "cells": [
  {
   "cell_type": "markdown",
   "metadata": {},
   "source": [
    "# Artificial Neural Network"
   ]
  },
  {
   "cell_type": "markdown",
   "metadata": {},
   "source": [
    "## Part 1 - Data Preprocessing"
   ]
  },
  {
   "cell_type": "markdown",
   "metadata": {},
   "source": [
    "### Importing Libraries"
   ]
  },
  {
   "cell_type": "code",
   "execution_count": 3,
   "metadata": {},
   "outputs": [],
   "source": [
    "import numpy as np\n",
    "import matplotlib.pyplot as plt\n",
    "import pandas as pd"
   ]
  },
  {
   "cell_type": "markdown",
   "metadata": {},
   "source": [
    "### Importing dataset"
   ]
  },
  {
   "cell_type": "code",
   "execution_count": 4,
   "metadata": {},
   "outputs": [],
   "source": [
    "dataset = pd.read_csv('Churn_Modelling.csv')\n",
    "X = dataset.iloc[:, 3:13].values\n",
    "y = dataset.iloc[:, 13].values"
   ]
  },
  {
   "cell_type": "markdown",
   "metadata": {},
   "source": [
    "### Encoding categorical data"
   ]
  },
  {
   "cell_type": "code",
   "execution_count": 6,
   "metadata": {},
   "outputs": [],
   "source": [
    "from sklearn.preprocessing import LabelEncoder, OneHotEncoder\n",
    "labelencoder_X_1 = LabelEncoder()\n",
    "X[:, 1] = labelencoder_X_1.fit_transform(X[:, 1])\n",
    "labelencoder_X_2 = LabelEncoder()\n",
    "X[:, 2] = labelencoder_X_2.fit_transform(X[:, 2])\n",
    "onehotencoder = OneHotEncoder(categorical_features = [1])\n",
    "X = onehotencoder.fit_transform(X).toarray()\n",
    "X = X[:, 1:]"
   ]
  },
  {
   "cell_type": "markdown",
   "metadata": {},
   "source": [
    "### Splitting the dataset into the Training set and Test set"
   ]
  },
  {
   "cell_type": "code",
   "execution_count": 7,
   "metadata": {},
   "outputs": [],
   "source": [
    "from sklearn.model_selection import train_test_split\n",
    "X_train, X_test, y_train, y_test = train_test_split(X, y, test_size = 0.2, random_state = 0)"
   ]
  },
  {
   "cell_type": "markdown",
   "metadata": {},
   "source": [
    "###  Feature Scaling"
   ]
  },
  {
   "cell_type": "code",
   "execution_count": 8,
   "metadata": {},
   "outputs": [],
   "source": [
    "# Feature Scaling\n",
    "from sklearn.preprocessing import StandardScaler\n",
    "sc = StandardScaler()\n",
    "X_train = sc.fit_transform(X_train)\n",
    "X_test = sc.transform(X_test)"
   ]
  },
  {
   "cell_type": "markdown",
   "metadata": {},
   "source": [
    "## Part 2 - Now let's make the ANN!"
   ]
  },
  {
   "cell_type": "markdown",
   "metadata": {},
   "source": [
    "### Importing the Keras libraries and packages"
   ]
  },
  {
   "cell_type": "code",
   "execution_count": 10,
   "metadata": {},
   "outputs": [
    {
     "name": "stderr",
     "output_type": "stream",
     "text": [
      "Using TensorFlow backend.\n"
     ]
    }
   ],
   "source": [
    "import keras\n",
    "from keras.models import Sequential\n",
    "from keras.layers import Dense"
   ]
  },
  {
   "cell_type": "markdown",
   "metadata": {},
   "source": [
    "### Initialising the ANN"
   ]
  },
  {
   "cell_type": "code",
   "execution_count": 11,
   "metadata": {},
   "outputs": [],
   "source": [
    "classifier = Sequential()"
   ]
  },
  {
   "cell_type": "markdown",
   "metadata": {},
   "source": [
    "### Adding the input layer and the first hidden layer"
   ]
  },
  {
   "cell_type": "code",
   "execution_count": 12,
   "metadata": {},
   "outputs": [
    {
     "name": "stderr",
     "output_type": "stream",
     "text": [
      "/anaconda3/envs/tensorflow/lib/python3.5/site-packages/ipykernel_launcher.py:1: UserWarning: Update your `Dense` call to the Keras 2 API: `Dense(input_dim=11, units=6, kernel_initializer=\"uniform\", activation=\"relu\")`\n",
      "  \"\"\"Entry point for launching an IPython kernel.\n"
     ]
    }
   ],
   "source": [
    "classifier.add(Dense(output_dim = 6, init = 'uniform', activation = 'relu', input_dim = 11))"
   ]
  },
  {
   "cell_type": "markdown",
   "metadata": {},
   "source": [
    "### Adding the second hidden layer"
   ]
  },
  {
   "cell_type": "code",
   "execution_count": 13,
   "metadata": {},
   "outputs": [
    {
     "name": "stderr",
     "output_type": "stream",
     "text": [
      "/anaconda3/envs/tensorflow/lib/python3.5/site-packages/ipykernel_launcher.py:1: UserWarning: Update your `Dense` call to the Keras 2 API: `Dense(activation=\"relu\", units=6, kernel_initializer=\"uniform\")`\n",
      "  \"\"\"Entry point for launching an IPython kernel.\n"
     ]
    }
   ],
   "source": [
    "classifier.add(Dense(output_dim = 6, init = 'uniform', activation = 'relu'))"
   ]
  },
  {
   "cell_type": "markdown",
   "metadata": {},
   "source": [
    "### Adding the output layer"
   ]
  },
  {
   "cell_type": "code",
   "execution_count": 14,
   "metadata": {},
   "outputs": [
    {
     "name": "stderr",
     "output_type": "stream",
     "text": [
      "/anaconda3/envs/tensorflow/lib/python3.5/site-packages/ipykernel_launcher.py:1: UserWarning: Update your `Dense` call to the Keras 2 API: `Dense(activation=\"sigmoid\", units=1, kernel_initializer=\"uniform\")`\n",
      "  \"\"\"Entry point for launching an IPython kernel.\n"
     ]
    }
   ],
   "source": [
    "classifier.add(Dense(output_dim = 1, init = 'uniform', activation = 'sigmoid'))"
   ]
  },
  {
   "cell_type": "markdown",
   "metadata": {},
   "source": [
    "### Compiling the ANN"
   ]
  },
  {
   "cell_type": "code",
   "execution_count": 15,
   "metadata": {},
   "outputs": [],
   "source": [
    "classifier.compile(optimizer = 'adam', loss = 'binary_crossentropy', metrics = ['accuracy'])"
   ]
  },
  {
   "cell_type": "markdown",
   "metadata": {},
   "source": [
    "### Fitting the ANN to the Training set"
   ]
  },
  {
   "cell_type": "code",
   "execution_count": 16,
   "metadata": {},
   "outputs": [
    {
     "name": "stderr",
     "output_type": "stream",
     "text": [
      "/anaconda3/envs/tensorflow/lib/python3.5/site-packages/ipykernel_launcher.py:1: UserWarning: The `nb_epoch` argument in `fit` has been renamed `epochs`.\n",
      "  \"\"\"Entry point for launching an IPython kernel.\n"
     ]
    },
    {
     "name": "stdout",
     "output_type": "stream",
     "text": [
      "Epoch 1/100\n",
      "8000/8000 [==============================] - 3s 340us/step - loss: 0.4898 - acc: 0.7952\n",
      "Epoch 2/100\n",
      "8000/8000 [==============================] - 2s 239us/step - loss: 0.4265 - acc: 0.7960\n",
      "Epoch 3/100\n",
      "8000/8000 [==============================] - 2s 275us/step - loss: 0.4200 - acc: 0.8174\n",
      "Epoch 4/100\n",
      "8000/8000 [==============================] - 2s 245us/step - loss: 0.4142 - acc: 0.8309\n",
      "Epoch 5/100\n",
      "8000/8000 [==============================] - 2s 296us/step - loss: 0.4100 - acc: 0.8336\n",
      "Epoch 6/100\n",
      "8000/8000 [==============================] - 2s 247us/step - loss: 0.4068 - acc: 0.8332\n",
      "Epoch 7/100\n",
      "8000/8000 [==============================] - 2s 248us/step - loss: 0.4045 - acc: 0.8339\n",
      "Epoch 8/100\n",
      "8000/8000 [==============================] - 2s 245us/step - loss: 0.4032 - acc: 0.8337\n",
      "Epoch 9/100\n",
      "8000/8000 [==============================] - 2s 254us/step - loss: 0.4016 - acc: 0.8346\n",
      "Epoch 10/100\n",
      "8000/8000 [==============================] - 3s 314us/step - loss: 0.4006 - acc: 0.8357\n",
      "Epoch 11/100\n",
      "8000/8000 [==============================] - 3s 327us/step - loss: 0.3995 - acc: 0.8354 0s - loss: 0.3955\n",
      "Epoch 12/100\n",
      "8000/8000 [==============================] - 2s 259us/step - loss: 0.3990 - acc: 0.8345\n",
      "Epoch 13/100\n",
      "8000/8000 [==============================] - 2s 254us/step - loss: 0.3981 - acc: 0.8340\n",
      "Epoch 14/100\n",
      "8000/8000 [==============================] - 3s 348us/step - loss: 0.3976 - acc: 0.8350\n",
      "Epoch 15/100\n",
      "8000/8000 [==============================] - 2s 291us/step - loss: 0.3969 - acc: 0.8330\n",
      "Epoch 16/100\n",
      "8000/8000 [==============================] - 2s 232us/step - loss: 0.3962 - acc: 0.8346\n",
      "Epoch 17/100\n",
      "8000/8000 [==============================] - 3s 376us/step - loss: 0.3960 - acc: 0.8346\n",
      "Epoch 18/100\n",
      "8000/8000 [==============================] - 2s 310us/step - loss: 0.3957 - acc: 0.8352\n",
      "Epoch 19/100\n",
      "8000/8000 [==============================] - 3s 384us/step - loss: 0.3947 - acc: 0.8360\n",
      "Epoch 20/100\n",
      "8000/8000 [==============================] - 3s 338us/step - loss: 0.3940 - acc: 0.8391\n",
      "Epoch 21/100\n",
      "8000/8000 [==============================] - 3s 344us/step - loss: 0.3928 - acc: 0.8372\n",
      "Epoch 22/100\n",
      "8000/8000 [==============================] - 3s 316us/step - loss: 0.3918 - acc: 0.8389\n",
      "Epoch 23/100\n",
      "8000/8000 [==============================] - 2s 276us/step - loss: 0.3894 - acc: 0.8392\n",
      "Epoch 24/100\n",
      "8000/8000 [==============================] - 2s 261us/step - loss: 0.3877 - acc: 0.8404\n",
      "Epoch 25/100\n",
      "8000/8000 [==============================] - 2s 288us/step - loss: 0.3848 - acc: 0.8399\n",
      "Epoch 26/100\n",
      "8000/8000 [==============================] - 2s 271us/step - loss: 0.3818 - acc: 0.8389 1s - loss: \n",
      "Epoch 27/100\n",
      "8000/8000 [==============================] - 3s 345us/step - loss: 0.3792 - acc: 0.8411 0s - loss: 0.3788 -\n",
      "Epoch 28/100\n",
      "8000/8000 [==============================] - 3s 402us/step - loss: 0.3768 - acc: 0.8409\n",
      "Epoch 29/100\n",
      "8000/8000 [==============================] - 3s 314us/step - loss: 0.3729 - acc: 0.8436\n",
      "Epoch 30/100\n",
      "8000/8000 [==============================] - 3s 359us/step - loss: 0.3733 - acc: 0.8430\n",
      "Epoch 31/100\n",
      "8000/8000 [==============================] - 2s 235us/step - loss: 0.3702 - acc: 0.8427\n",
      "Epoch 32/100\n",
      "8000/8000 [==============================] - 2s 242us/step - loss: 0.3699 - acc: 0.8437\n",
      "Epoch 33/100\n",
      "8000/8000 [==============================] - 2s 236us/step - loss: 0.3680 - acc: 0.8425\n",
      "Epoch 34/100\n",
      "8000/8000 [==============================] - 2s 238us/step - loss: 0.3664 - acc: 0.8449\n",
      "Epoch 35/100\n",
      "8000/8000 [==============================] - 2s 255us/step - loss: 0.3644 - acc: 0.8457\n",
      "Epoch 36/100\n",
      "8000/8000 [==============================] - 2s 236us/step - loss: 0.3625 - acc: 0.8489\n",
      "Epoch 37/100\n",
      "8000/8000 [==============================] - 2s 256us/step - loss: 0.3599 - acc: 0.8481\n",
      "Epoch 38/100\n",
      "8000/8000 [==============================] - 3s 387us/step - loss: 0.3581 - acc: 0.8540\n",
      "Epoch 39/100\n",
      "8000/8000 [==============================] - 2s 288us/step - loss: 0.3562 - acc: 0.8536 0s - loss: 0.\n",
      "Epoch 40/100\n",
      "8000/8000 [==============================] - 2s 276us/step - loss: 0.3558 - acc: 0.8547\n",
      "Epoch 41/100\n",
      "8000/8000 [==============================] - 2s 279us/step - loss: 0.3533 - acc: 0.8532\n",
      "Epoch 42/100\n",
      "8000/8000 [==============================] - 2s 269us/step - loss: 0.3516 - acc: 0.8549\n",
      "Epoch 43/100\n",
      "8000/8000 [==============================] - 2s 307us/step - loss: 0.3515 - acc: 0.8545\n",
      "Epoch 44/100\n",
      "8000/8000 [==============================] - 2s 276us/step - loss: 0.3513 - acc: 0.8562\n",
      "Epoch 45/100\n",
      "8000/8000 [==============================] - 2s 275us/step - loss: 0.3511 - acc: 0.8555\n",
      "Epoch 46/100\n",
      "8000/8000 [==============================] - 2s 268us/step - loss: 0.3493 - acc: 0.8570\n",
      "Epoch 47/100\n",
      "8000/8000 [==============================] - 2s 283us/step - loss: 0.3492 - acc: 0.8562\n",
      "Epoch 48/100\n",
      "8000/8000 [==============================] - 2s 254us/step - loss: 0.3488 - acc: 0.8566\n",
      "Epoch 49/100\n",
      "8000/8000 [==============================] - 2s 275us/step - loss: 0.3485 - acc: 0.8567\n",
      "Epoch 50/100\n",
      "8000/8000 [==============================] - 2s 253us/step - loss: 0.3482 - acc: 0.8567\n",
      "Epoch 51/100\n",
      "8000/8000 [==============================] - 2s 277us/step - loss: 0.3468 - acc: 0.8600\n",
      "Epoch 52/100\n",
      "8000/8000 [==============================] - 2s 277us/step - loss: 0.3460 - acc: 0.8577 0s - loss: 0.3463 - acc: 0.857\n",
      "Epoch 53/100\n",
      "8000/8000 [==============================] - 2s 273us/step - loss: 0.3460 - acc: 0.8556\n",
      "Epoch 54/100\n",
      "8000/8000 [==============================] - 2s 305us/step - loss: 0.3469 - acc: 0.8570 0s - loss:\n",
      "Epoch 55/100\n",
      "8000/8000 [==============================] - 2s 245us/step - loss: 0.3455 - acc: 0.8579\n",
      "Epoch 56/100\n",
      "8000/8000 [==============================] - 2s 301us/step - loss: 0.3443 - acc: 0.8595\n",
      "Epoch 57/100\n",
      "8000/8000 [==============================] - 2s 312us/step - loss: 0.3460 - acc: 0.8581\n",
      "Epoch 58/100\n",
      "8000/8000 [==============================] - 2s 279us/step - loss: 0.3451 - acc: 0.8577 0s - loss: 0.338\n",
      "Epoch 59/100\n",
      "8000/8000 [==============================] - 2s 254us/step - loss: 0.3446 - acc: 0.8595\n",
      "Epoch 60/100\n",
      "8000/8000 [==============================] - 2s 263us/step - loss: 0.3450 - acc: 0.8581\n",
      "Epoch 61/100\n",
      "8000/8000 [==============================] - 2s 265us/step - loss: 0.3439 - acc: 0.8584\n",
      "Epoch 62/100\n",
      "8000/8000 [==============================] - 2s 264us/step - loss: 0.3448 - acc: 0.8595 0s - loss: 0.3452 - \n",
      "Epoch 63/100\n",
      "8000/8000 [==============================] - 2s 258us/step - loss: 0.3452 - acc: 0.8590\n",
      "Epoch 64/100\n",
      "8000/8000 [==============================] - 2s 265us/step - loss: 0.3448 - acc: 0.8589 0s - loss: 0\n",
      "Epoch 65/100\n",
      "8000/8000 [==============================] - 2s 298us/step - loss: 0.3435 - acc: 0.8590 0s - loss: 0.3\n",
      "Epoch 66/100\n",
      "8000/8000 [==============================] - 2s 279us/step - loss: 0.3450 - acc: 0.8579\n",
      "Epoch 67/100\n",
      "8000/8000 [==============================] - 2s 261us/step - loss: 0.3449 - acc: 0.8589 0s - loss: 0.3380 - acc\n",
      "Epoch 68/100\n",
      "8000/8000 [==============================] - 2s 281us/step - loss: 0.3449 - acc: 0.8595 0s - loss: 0.3420 - a\n",
      "Epoch 69/100\n",
      "8000/8000 [==============================] - 2s 284us/step - loss: 0.3435 - acc: 0.8587\n",
      "Epoch 70/100\n",
      "8000/8000 [==============================] - 3s 400us/step - loss: 0.3441 - acc: 0.8595\n",
      "Epoch 71/100\n",
      "8000/8000 [==============================] - 3s 332us/step - loss: 0.3434 - acc: 0.8600\n",
      "Epoch 72/100\n",
      "8000/8000 [==============================] - 2s 282us/step - loss: 0.3436 - acc: 0.8615\n",
      "Epoch 73/100\n",
      "8000/8000 [==============================] - 3s 352us/step - loss: 0.3436 - acc: 0.8604\n",
      "Epoch 74/100\n",
      "8000/8000 [==============================] - 2s 281us/step - loss: 0.3425 - acc: 0.8597\n",
      "Epoch 75/100\n",
      "8000/8000 [==============================] - 3s 362us/step - loss: 0.3436 - acc: 0.8555\n",
      "Epoch 76/100\n",
      "8000/8000 [==============================] - 2s 273us/step - loss: 0.3433 - acc: 0.8606 0s - loss: 0.3495 \n",
      "Epoch 77/100\n",
      "8000/8000 [==============================] - 2s 281us/step - loss: 0.3425 - acc: 0.8610\n",
      "Epoch 78/100\n",
      "8000/8000 [==============================] - 2s 293us/step - loss: 0.3433 - acc: 0.8589\n",
      "Epoch 79/100\n"
     ]
    },
    {
     "name": "stdout",
     "output_type": "stream",
     "text": [
      "8000/8000 [==============================] - 2s 276us/step - loss: 0.3437 - acc: 0.8599\n",
      "Epoch 80/100\n",
      "8000/8000 [==============================] - 2s 264us/step - loss: 0.3433 - acc: 0.8609\n",
      "Epoch 81/100\n",
      "8000/8000 [==============================] - 2s 268us/step - loss: 0.3427 - acc: 0.8590\n",
      "Epoch 82/100\n",
      "8000/8000 [==============================] - 2s 256us/step - loss: 0.3428 - acc: 0.8629\n",
      "Epoch 83/100\n",
      "8000/8000 [==============================] - 2s 272us/step - loss: 0.3428 - acc: 0.8617\n",
      "Epoch 84/100\n",
      "8000/8000 [==============================] - 2s 258us/step - loss: 0.3432 - acc: 0.8605\n",
      "Epoch 85/100\n",
      "8000/8000 [==============================] - 2s 269us/step - loss: 0.3420 - acc: 0.8600\n",
      "Epoch 86/100\n",
      "8000/8000 [==============================] - 2s 254us/step - loss: 0.3431 - acc: 0.8594\n",
      "Epoch 87/100\n",
      "8000/8000 [==============================] - 2s 267us/step - loss: 0.3430 - acc: 0.8604\n",
      "Epoch 88/100\n",
      "8000/8000 [==============================] - 2s 292us/step - loss: 0.3430 - acc: 0.8591\n",
      "Epoch 89/100\n",
      "8000/8000 [==============================] - 2s 269us/step - loss: 0.3435 - acc: 0.8596\n",
      "Epoch 90/100\n",
      "8000/8000 [==============================] - 2s 264us/step - loss: 0.3432 - acc: 0.8590\n",
      "Epoch 91/100\n",
      "8000/8000 [==============================] - 2s 254us/step - loss: 0.3428 - acc: 0.8591\n",
      "Epoch 92/100\n",
      "8000/8000 [==============================] - 2s 272us/step - loss: 0.3428 - acc: 0.8604\n",
      "Epoch 93/100\n",
      "8000/8000 [==============================] - 2s 286us/step - loss: 0.3430 - acc: 0.8602\n",
      "Epoch 94/100\n",
      "8000/8000 [==============================] - 2s 256us/step - loss: 0.3422 - acc: 0.8612\n",
      "Epoch 95/100\n",
      "8000/8000 [==============================] - 2s 256us/step - loss: 0.3436 - acc: 0.8612\n",
      "Epoch 96/100\n",
      "8000/8000 [==============================] - 3s 317us/step - loss: 0.3423 - acc: 0.8605\n",
      "Epoch 97/100\n",
      "8000/8000 [==============================] - 2s 230us/step - loss: 0.3415 - acc: 0.8610\n",
      "Epoch 98/100\n",
      "8000/8000 [==============================] - 2s 253us/step - loss: 0.3421 - acc: 0.8627\n",
      "Epoch 99/100\n",
      "8000/8000 [==============================] - ETA: 0s - loss: 0.3438 - acc: 0.858 - 2s 269us/step - loss: 0.3434 - acc: 0.8592\n",
      "Epoch 100/100\n",
      "8000/8000 [==============================] - 3s 361us/step - loss: 0.3421 - acc: 0.8595\n"
     ]
    },
    {
     "data": {
      "text/plain": [
       "<keras.callbacks.History at 0x1a271c1128>"
      ]
     },
     "execution_count": 16,
     "metadata": {},
     "output_type": "execute_result"
    }
   ],
   "source": [
    "classifier.fit(X_train, y_train, batch_size = 10, nb_epoch = 100)"
   ]
  },
  {
   "cell_type": "markdown",
   "metadata": {},
   "source": [
    "## Part 3 - Making the predictions and evaluating the model"
   ]
  },
  {
   "cell_type": "markdown",
   "metadata": {},
   "source": [
    "### Predicting the Test set results"
   ]
  },
  {
   "cell_type": "code",
   "execution_count": 17,
   "metadata": {},
   "outputs": [],
   "source": [
    "y_pred = classifier.predict(X_test)\n",
    "y_pred = (y_pred > 0.5)"
   ]
  },
  {
   "cell_type": "markdown",
   "metadata": {},
   "source": [
    "### Making the Confusion Matrix"
   ]
  },
  {
   "cell_type": "code",
   "execution_count": 18,
   "metadata": {},
   "outputs": [],
   "source": [
    "from sklearn.metrics import confusion_matrix\n",
    "cm = confusion_matrix(y_test, y_pred)"
   ]
  },
  {
   "cell_type": "code",
   "execution_count": 34,
   "metadata": {},
   "outputs": [
    {
     "name": "stdout",
     "output_type": "stream",
     "text": [
      "[[1499   96]\n",
      " [ 194  211]]\n",
      "Accuracy: 85.5%\n"
     ]
    }
   ],
   "source": [
    "print(cm)\n",
    "print(\"Accuracy:\",str(100*(cm[0][0]+cm[1][1])/len(X_test))+'%')"
   ]
  }
 ],
 "metadata": {
  "kernelspec": {
   "display_name": "Python 3",
   "language": "python",
   "name": "python3"
  },
  "language_info": {
   "codemirror_mode": {
    "name": "ipython",
    "version": 3
   },
   "file_extension": ".py",
   "mimetype": "text/x-python",
   "name": "python",
   "nbconvert_exporter": "python",
   "pygments_lexer": "ipython3",
   "version": "3.5.6"
  }
 },
 "nbformat": 4,
 "nbformat_minor": 1
}

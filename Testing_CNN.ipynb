{
 "cells": [
  {
   "cell_type": "markdown",
   "metadata": {},
   "source": [
    "# Convolutional Neural Network"
   ]
  },
  {
   "cell_type": "markdown",
   "metadata": {},
   "source": [
    "## Part 1 - Building the CNN"
   ]
  },
  {
   "cell_type": "markdown",
   "metadata": {},
   "source": [
    "### Importing the Keras libraries and packages"
   ]
  },
  {
   "cell_type": "code",
   "execution_count": 1,
   "metadata": {},
   "outputs": [
    {
     "name": "stderr",
     "output_type": "stream",
     "text": [
      "Using TensorFlow backend.\n"
     ]
    }
   ],
   "source": [
    "from keras.models import Sequential\n",
    "from keras.layers import Convolution2D\n",
    "from keras.layers import MaxPooling2D\n",
    "from keras.layers import Flatten\n",
    "from keras.layers import Dense"
   ]
  },
  {
   "cell_type": "markdown",
   "metadata": {},
   "source": [
    "### Initialising the CNN"
   ]
  },
  {
   "cell_type": "code",
   "execution_count": 3,
   "metadata": {},
   "outputs": [],
   "source": [
    "classifier = Sequential()"
   ]
  },
  {
   "cell_type": "markdown",
   "metadata": {},
   "source": [
    "### Step 1 - Convolution"
   ]
  },
  {
   "cell_type": "code",
   "execution_count": 4,
   "metadata": {},
   "outputs": [
    {
     "name": "stderr",
     "output_type": "stream",
     "text": [
      "/anaconda3/envs/tensorflow/lib/python3.5/site-packages/ipykernel_launcher.py:1: UserWarning: Update your `Conv2D` call to the Keras 2 API: `Conv2D(32, (3, 3), activation=\"relu\", input_shape=(64, 64, 3...)`\n",
      "  \"\"\"Entry point for launching an IPython kernel.\n"
     ]
    }
   ],
   "source": [
    "classifier.add(Convolution2D(32, 3, 3, input_shape = (64, 64, 3), activation = 'relu'))"
   ]
  },
  {
   "cell_type": "markdown",
   "metadata": {},
   "source": [
    "### Step 2 - Pooling"
   ]
  },
  {
   "cell_type": "code",
   "execution_count": 5,
   "metadata": {},
   "outputs": [],
   "source": [
    "classifier.add(MaxPooling2D(pool_size = (2, 2)))"
   ]
  },
  {
   "cell_type": "markdown",
   "metadata": {},
   "source": [
    "### Adding a second convolutional layer"
   ]
  },
  {
   "cell_type": "code",
   "execution_count": 6,
   "metadata": {},
   "outputs": [
    {
     "name": "stderr",
     "output_type": "stream",
     "text": [
      "/anaconda3/envs/tensorflow/lib/python3.5/site-packages/ipykernel_launcher.py:1: UserWarning: Update your `Conv2D` call to the Keras 2 API: `Conv2D(32, (3, 3), activation=\"relu\")`\n",
      "  \"\"\"Entry point for launching an IPython kernel.\n"
     ]
    }
   ],
   "source": [
    "classifier.add(Convolution2D(32, 3, 3, activation = 'relu'))\n",
    "classifier.add(MaxPooling2D(pool_size = (2, 2)))"
   ]
  },
  {
   "cell_type": "markdown",
   "metadata": {},
   "source": [
    "### Step 3 - Flattening"
   ]
  },
  {
   "cell_type": "code",
   "execution_count": 7,
   "metadata": {},
   "outputs": [],
   "source": [
    "classifier.add(Flatten())"
   ]
  },
  {
   "cell_type": "markdown",
   "metadata": {},
   "source": [
    "### Step 4 - Full connection"
   ]
  },
  {
   "cell_type": "code",
   "execution_count": 8,
   "metadata": {},
   "outputs": [
    {
     "name": "stderr",
     "output_type": "stream",
     "text": [
      "/anaconda3/envs/tensorflow/lib/python3.5/site-packages/ipykernel_launcher.py:1: UserWarning: Update your `Dense` call to the Keras 2 API: `Dense(activation=\"relu\", units=128)`\n",
      "  \"\"\"Entry point for launching an IPython kernel.\n",
      "/anaconda3/envs/tensorflow/lib/python3.5/site-packages/ipykernel_launcher.py:2: UserWarning: Update your `Dense` call to the Keras 2 API: `Dense(activation=\"sigmoid\", units=1)`\n",
      "  \n"
     ]
    }
   ],
   "source": [
    "classifier.add(Dense(output_dim = 128, activation = 'relu'))\n",
    "classifier.add(Dense(output_dim = 1, activation = 'sigmoid'))"
   ]
  },
  {
   "cell_type": "markdown",
   "metadata": {},
   "source": [
    "### Compiling the CNN"
   ]
  },
  {
   "cell_type": "code",
   "execution_count": 9,
   "metadata": {},
   "outputs": [],
   "source": [
    "classifier.compile(optimizer = 'adam', loss = 'binary_crossentropy', metrics = ['accuracy'])"
   ]
  },
  {
   "cell_type": "markdown",
   "metadata": {},
   "source": [
    "## Part 2 - Fitting the CNN to the images"
   ]
  },
  {
   "cell_type": "code",
   "execution_count": 10,
   "metadata": {},
   "outputs": [
    {
     "name": "stdout",
     "output_type": "stream",
     "text": [
      "Found 8000 images belonging to 2 classes.\n",
      "Found 2000 images belonging to 2 classes.\n"
     ]
    },
    {
     "name": "stderr",
     "output_type": "stream",
     "text": [
      "/anaconda3/envs/tensorflow/lib/python3.5/site-packages/ipykernel_launcher.py:23: UserWarning: The semantics of the Keras 2 argument `steps_per_epoch` is not the same as the Keras 1 argument `samples_per_epoch`. `steps_per_epoch` is the number of batches to draw from the generator at each epoch. Basically steps_per_epoch = samples_per_epoch/batch_size. Similarly `nb_val_samples`->`validation_steps` and `val_samples`->`steps` arguments have changed. Update your method calls accordingly.\n",
      "/anaconda3/envs/tensorflow/lib/python3.5/site-packages/ipykernel_launcher.py:23: UserWarning: Update your `fit_generator` call to the Keras 2 API: `fit_generator(<keras_pre..., epochs=25, steps_per_epoch=250, validation_data=<keras_pre..., validation_steps=2000)`\n"
     ]
    },
    {
     "name": "stdout",
     "output_type": "stream",
     "text": [
      "Epoch 1/25\n",
      "250/250 [==============================] - 742s 3s/step - loss: 0.6287 - acc: 0.6405 - val_loss: 0.5985 - val_acc: 0.6855\n",
      "Epoch 2/25\n",
      "250/250 [==============================] - 721s 3s/step - loss: 0.5731 - acc: 0.7016 - val_loss: 0.5560 - val_acc: 0.7130\n",
      "Epoch 3/25\n",
      "250/250 [==============================] - 670s 3s/step - loss: 0.5367 - acc: 0.7295 - val_loss: 0.5795 - val_acc: 0.7075\n",
      "Epoch 4/25\n",
      "250/250 [==============================] - 663s 3s/step - loss: 0.5097 - acc: 0.7478 - val_loss: 0.5395 - val_acc: 0.7495\n",
      "Epoch 5/25\n",
      "250/250 [==============================] - 642s 3s/step - loss: 0.4963 - acc: 0.7540 - val_loss: 0.4844 - val_acc: 0.7745\n",
      "Epoch 6/25\n",
      "250/250 [==============================] - 631s 3s/step - loss: 0.4760 - acc: 0.7685 - val_loss: 0.4669 - val_acc: 0.7790\n",
      "Epoch 7/25\n",
      "250/250 [==============================] - 562s 2s/step - loss: 0.4624 - acc: 0.7783 - val_loss: 0.4782 - val_acc: 0.7710\n",
      "Epoch 8/25\n",
      "250/250 [==============================] - 489s 2s/step - loss: 0.4481 - acc: 0.7880 - val_loss: 0.4341 - val_acc: 0.7945\n",
      "Epoch 9/25\n",
      "250/250 [==============================] - 646s 3s/step - loss: 0.4252 - acc: 0.8043 - val_loss: 0.4462 - val_acc: 0.7910\n",
      "Epoch 10/25\n",
      "250/250 [==============================] - 589s 2s/step - loss: 0.4180 - acc: 0.8016 - val_loss: 0.4464 - val_acc: 0.7865\n",
      "Epoch 11/25\n",
      "250/250 [==============================] - 628s 3s/step - loss: 0.4032 - acc: 0.8105 - val_loss: 0.4574 - val_acc: 0.7825\n",
      "Epoch 12/25\n",
      "250/250 [==============================] - 514s 2s/step - loss: 0.3877 - acc: 0.8217 - val_loss: 0.4341 - val_acc: 0.8055\n",
      "Epoch 13/25\n",
      "250/250 [==============================] - 494s 2s/step - loss: 0.3714 - acc: 0.8375 - val_loss: 0.4411 - val_acc: 0.7930\n",
      "Epoch 14/25\n",
      "250/250 [==============================] - 500s 2s/step - loss: 0.3611 - acc: 0.8386 - val_loss: 0.5499 - val_acc: 0.7645\n",
      "Epoch 15/25\n",
      "250/250 [==============================] - 497s 2s/step - loss: 0.3501 - acc: 0.8445 - val_loss: 0.5377 - val_acc: 0.7700\n",
      "Epoch 16/25\n",
      "250/250 [==============================] - 535s 2s/step - loss: 0.3446 - acc: 0.8460 - val_loss: 0.4386 - val_acc: 0.8115\n",
      "Epoch 17/25\n",
      "250/250 [==============================] - 600s 2s/step - loss: 0.3209 - acc: 0.8625 - val_loss: 0.4409 - val_acc: 0.8165\n",
      "Epoch 18/25\n",
      "250/250 [==============================] - 571s 2s/step - loss: 0.3058 - acc: 0.8680 - val_loss: 0.4599 - val_acc: 0.8045\n",
      "Epoch 19/25\n",
      "250/250 [==============================] - 569s 2s/step - loss: 0.2987 - acc: 0.8692 - val_loss: 0.4814 - val_acc: 0.8060\n",
      "Epoch 20/25\n",
      "250/250 [==============================] - 506s 2s/step - loss: 0.2802 - acc: 0.8786 - val_loss: 0.4826 - val_acc: 0.8100\n",
      "Epoch 21/25\n",
      "250/250 [==============================] - 490s 2s/step - loss: 0.2741 - acc: 0.8812 - val_loss: 0.5095 - val_acc: 0.8115\n",
      "Epoch 22/25\n",
      "250/250 [==============================] - 495s 2s/step - loss: 0.2644 - acc: 0.8899 - val_loss: 0.5175 - val_acc: 0.8100\n",
      "Epoch 23/25\n",
      "250/250 [==============================] - 525s 2s/step - loss: 0.2547 - acc: 0.8913 - val_loss: 0.4909 - val_acc: 0.8120\n",
      "Epoch 24/25\n",
      "250/250 [==============================] - 531s 2s/step - loss: 0.2397 - acc: 0.8982 - val_loss: 0.5518 - val_acc: 0.8070\n",
      "Epoch 25/25\n",
      "250/250 [==============================] - 627s 3s/step - loss: 0.2293 - acc: 0.9035 - val_loss: 0.5557 - val_acc: 0.8020\n"
     ]
    },
    {
     "data": {
      "text/plain": [
       "<keras.callbacks.History at 0xb29be9518>"
      ]
     },
     "execution_count": 10,
     "metadata": {},
     "output_type": "execute_result"
    }
   ],
   "source": [
    "from keras.preprocessing.image import ImageDataGenerator\n",
    "train_datagen = ImageDataGenerator(rescale = 1./255,\n",
    "                                   shear_range = 0.2,\n",
    "                                   zoom_range = 0.2,\n",
    "                                   horizontal_flip = True)\n",
    "\n",
    "test_datagen = ImageDataGenerator(rescale = 1./255)\n",
    "\n",
    "training_set = train_datagen.flow_from_directory('dataset/training_set',\n",
    "                                                 target_size = (64, 64),\n",
    "                                                 batch_size = 32,\n",
    "                                                 class_mode = 'binary')\n",
    "\n",
    "test_set = test_datagen.flow_from_directory('dataset/test_set',\n",
    "                                            target_size = (64, 64),\n",
    "                                            batch_size = 32,\n",
    "                                            class_mode = 'binary')\n",
    "\n",
    "classifier.fit_generator(training_set,\n",
    "                         samples_per_epoch = 8000,\n",
    "                         nb_epoch = 25,\n",
    "                         validation_data = test_set,\n",
    "                         nb_val_samples = 2000)"
   ]
  },
  {
   "cell_type": "code",
   "execution_count": null,
   "metadata": {},
   "outputs": [],
   "source": []
  }
 ],
 "metadata": {
  "kernelspec": {
   "display_name": "Python 3",
   "language": "python",
   "name": "python3"
  },
  "language_info": {
   "codemirror_mode": {
    "name": "ipython",
    "version": 3
   },
   "file_extension": ".py",
   "mimetype": "text/x-python",
   "name": "python",
   "nbconvert_exporter": "python",
   "pygments_lexer": "ipython3",
   "version": "3.5.6"
  }
 },
 "nbformat": 4,
 "nbformat_minor": 1
}

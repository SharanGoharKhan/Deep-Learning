{
 "cells": [
  {
   "cell_type": "markdown",
   "metadata": {},
   "source": [
    "# Thesis work--1"
   ]
  },
  {
   "cell_type": "markdown",
   "metadata": {},
   "source": [
    "### Importing the libraries"
   ]
  },
  {
   "cell_type": "code",
   "execution_count": 1,
   "metadata": {},
   "outputs": [],
   "source": [
    "import numpy as np\n",
    "import matplotlib.pyplot as plt\n",
    "import pandas as pd\n",
    "from random import randrange, uniform"
   ]
  },
  {
   "cell_type": "markdown",
   "metadata": {},
   "source": [
    "### Global variables and functions for tuning"
   ]
  },
  {
   "cell_type": "code",
   "execution_count": 2,
   "metadata": {},
   "outputs": [],
   "source": [
    "FEATURES = 4\n",
    "ROWS = 10\n",
    "LOW_RANGE = 0\n",
    "HIGH_RANGE = 10\n",
    "NUMBER_OF_REGIONS = 3\n",
    "SELECTION_X_GENERATOR = ['random_normal_dist','random_normal_range','set_manual_x']\n",
    "SELECTED_GENERATOR = SELECTION_X_GENERATOR[0]\n",
    "APPLY_FEATURE_SCALING = False\n",
    "formula = lambda X: X[:,2] - X[:,0] + 5*X[:,1]**2 + (abs(X[:,3])*100)**2"
   ]
  },
  {
   "cell_type": "markdown",
   "metadata": {},
   "source": [
    "### Generating random numbers using normal distribution"
   ]
  },
  {
   "cell_type": "code",
   "execution_count": 3,
   "metadata": {},
   "outputs": [],
   "source": [
    "def rnd_norm():\n",
    "    X = []\n",
    "    for itr in range(FEATURES):\n",
    "        X.append(np.random.normal(size=ROWS))\n",
    "    X = np.asarray(X)\n",
    "    X = X.reshape(ROWS,FEATURES)\n",
    "    return X\n",
    "    "
   ]
  },
  {
   "cell_type": "markdown",
   "metadata": {},
   "source": [
    "### GENERATE NUMBER USING RANGES "
   ]
  },
  {
   "cell_type": "code",
   "execution_count": 4,
   "metadata": {},
   "outputs": [],
   "source": [
    "def rnd_rng():\n",
    "    X = []\n",
    "    for feat_ in range(FEATURES):\n",
    "        temp_ = []\n",
    "        for rows_ in range(ROWS):\n",
    "            temp_.append(uniform(LOW_RANGE, HIGH_RANGE))\n",
    "        X.append(temp_)\n",
    "        temp_ = []\n",
    "    X = np.asarray(X)\n",
    "    X = X.reshape(ROWS,FEATURES)\n",
    "    return X"
   ]
  },
  {
   "cell_type": "markdown",
   "metadata": {},
   "source": [
    "### MANUALLY SET X"
   ]
  },
  {
   "cell_type": "code",
   "execution_count": 5,
   "metadata": {},
   "outputs": [],
   "source": [
    "def mnl_x():\n",
    "    X = [[4.77483186, 3.39440415, 57.05801446, 6.71629158],\n",
    " [6.61347886, 7.2255493,  122.77241787, 7.31532667],\n",
    " [4.5746061,  6.94376097, 1.57398063, 7.61596309],\n",
    " [3.99442041, 7.74271857, -22.18103276, 8.69864701],\n",
    " [7.74195296, 8.66056046, 1000.71418768, 8.66512174],\n",
    " [0.70227095, 8.48112974, 12.18087887, 9.98354661],\n",
    " [3.30624855, 1.28647579, 29.10406468, 8.96630542],\n",
    " [5.7062847,  7.72417331, 56.45891841, 5.15614429],\n",
    " [3.70369596, 1.79230683, 157.60607582, 9.4736015 ],\n",
    " [5.36628365, 9.68201719, 888.00342486, 2.75472882]]\n",
    "    X = np.asarray(X)\n",
    "    return X"
   ]
  },
  {
   "cell_type": "markdown",
   "metadata": {},
   "source": [
    "### SELECT GENERATION METHOD"
   ]
  },
  {
   "cell_type": "code",
   "execution_count": 6,
   "metadata": {},
   "outputs": [],
   "source": [
    "if 'random_normal_dist' == SELECTED_GENERATOR:\n",
    "    X = rnd_norm()\n",
    "elif 'random_normal_range' == SELECTED_GENERATOR:\n",
    "    X = rnd_rng()\n",
    "elif 'set_manual_x' == SELECTED_GENERATOR:\n",
    "    X = mnl_x()"
   ]
  },
  {
   "cell_type": "markdown",
   "metadata": {},
   "source": [
    "### Generating random numbers Y"
   ]
  },
  {
   "cell_type": "code",
   "execution_count": 7,
   "metadata": {},
   "outputs": [
    {
     "name": "stdout",
     "output_type": "stream",
     "text": [
      "(10,)\n",
      "[10506.81355281 29068.70270821  3724.22666756    35.29256846\n",
      "  2461.95590431  2531.86120472 10142.38020866  1650.15917647\n",
      "  7934.60839792  1132.28396458]\n"
     ]
    }
   ],
   "source": [
    "Y = formula(X)\n",
    "print(np.shape(Y))\n",
    "print(Y)"
   ]
  },
  {
   "cell_type": "markdown",
   "metadata": {},
   "source": [
    "### Splitting the dataset into the Training set and Test set"
   ]
  },
  {
   "cell_type": "code",
   "execution_count": 8,
   "metadata": {},
   "outputs": [],
   "source": [
    "from sklearn.model_selection import train_test_split\n",
    "X_train, X_test, y_train, y_test = train_test_split(X, Y, test_size = 0.2, random_state = 0)"
   ]
  },
  {
   "cell_type": "markdown",
   "metadata": {},
   "source": [
    "### Feature Scaling"
   ]
  },
  {
   "cell_type": "code",
   "execution_count": 9,
   "metadata": {},
   "outputs": [],
   "source": [
    "from sklearn.preprocessing import StandardScaler\n",
    "if APPLY_FEATURE_SCALING:\n",
    "    sc = StandardScaler()\n",
    "    X_train = sc.fit_transform(X_train)\n",
    "    X_test = sc.transform(X_test)"
   ]
  },
  {
   "cell_type": "markdown",
   "metadata": {},
   "source": [
    "### Applying PCA"
   ]
  },
  {
   "cell_type": "code",
   "execution_count": 10,
   "metadata": {},
   "outputs": [
    {
     "name": "stdout",
     "output_type": "stream",
     "text": [
      "[[ 1.15313159]\n",
      " [-0.53952908]\n",
      " [-0.10726384]\n",
      " [ 0.17536468]\n",
      " [ 0.37976124]\n",
      " [-1.47607555]\n",
      " [ 3.01147748]\n",
      " [-2.59686653]]\n"
     ]
    }
   ],
   "source": [
    "from sklearn.decomposition import PCA\n",
    "pca = PCA(n_components = 1)\n",
    "#print(X_train)\n",
    "X_train_pca = pca.fit_transform(X_train)\n",
    "X_test_pca = pca.transform(X_test)\n",
    "explained_variance = pca.explained_variance_ratio_\n",
    "print(X_train_pca)\n",
    "#print(X_test_pca)\n",
    "# print(np.shape(X_train),np.shape(X_test))\n",
    "#print(explained_variance)"
   ]
  },
  {
   "cell_type": "markdown",
   "metadata": {},
   "source": [
    "### Applying LDA"
   ]
  },
  {
   "cell_type": "code",
   "execution_count": 11,
   "metadata": {},
   "outputs": [],
   "source": [
    "from sklearn.discriminant_analysis import LinearDiscriminantAnalysis as LDA\n",
    "# lda = LDA(n_components = None)\n",
    "# X_train_lda = lda.fit_transform(X_train, y_train)\n",
    "# X_test_lda = lda.transform(X_test)"
   ]
  },
  {
   "cell_type": "markdown",
   "metadata": {},
   "source": [
    "### Applying Kernel PCA"
   ]
  },
  {
   "cell_type": "code",
   "execution_count": 12,
   "metadata": {},
   "outputs": [],
   "source": [
    "from sklearn.decomposition import KernelPCA\n",
    "# kpca = KernelPCA(n_components = 2, kernel = 'rbf')\n",
    "# X_train_pca = kpca.fit_transform(X_train)\n",
    "# X_test_pca = kpca.transform(X_test)"
   ]
  },
  {
   "cell_type": "markdown",
   "metadata": {},
   "source": [
    "### Calculating DV"
   ]
  },
  {
   "cell_type": "code",
   "execution_count": 13,
   "metadata": {},
   "outputs": [
    {
     "name": "stdout",
     "output_type": "stream",
     "text": [
      "{0: [0, 2], 1: [1, 5], 2: [3, 4]}\n"
     ]
    }
   ],
   "source": [
    "# sort X_train_pca and y_train by index\n",
    "sorted_indexes = np.argsort(X_train_pca,axis=0)\n",
    "sorted_x_train_pca = X_train_pca[sorted_indexes]\n",
    "sorted_y_train = y_train[sorted_indexes]\n",
    "\n",
    "# Finding Change of Slope\n",
    "slope1 = []\n",
    "slope2 = []\n",
    "for itr in range(1,len(sorted_x_train_pca)):\n",
    "    slope1.append((sorted_y_train[itr]-sorted_y_train[itr-1])/(sorted_x_train_pca[itr]-sorted_x_train_pca[itr-1]))\n",
    "for itr in range(1,len(slope1)):\n",
    "    slope2.append((slope1[itr]-slope1[itr-1])/(sorted_x_train_pca[itr]-sorted_x_train_pca[itr-1]))\n",
    "\n",
    "# normalize slope2 \n",
    "normalized_slope2 = (slope2-min(slope2))/(max(slope2)-min(slope2))\n",
    "\n",
    "# Calculating Quantiles\n",
    "normalized_slope2 = np.reshape(normalized_slope2,len(normalized_slope2))\n",
    "quantile_ranges = pd.qcut(normalized_slope2,NUMBER_OF_REGIONS,labels=False,retbins=True)\n",
    "quantile_ranges = quantile_ranges[1]\n",
    "\n",
    "# Adding the difficult Vectors\n",
    "difficult_points = {}\n",
    "for q_ind in range(NUMBER_OF_REGIONS):\n",
    "    low = quantile_ranges[q_ind]\n",
    "    high = quantile_ranges[q_ind+1]\n",
    "    difficult_points[q_ind] = []\n",
    "    for n_ind in range(0,len(normalized_slope2)):\n",
    "        if normalized_slope2[n_ind] >= low and normalized_slope2[n_ind] <= high:\n",
    "            difficult_points[q_ind].append(n_ind)\n",
    "print(difficult_points)"
   ]
  },
  {
   "cell_type": "markdown",
   "metadata": {},
   "source": [
    "### Training "
   ]
  },
  {
   "cell_type": "code",
   "execution_count": 14,
   "metadata": {},
   "outputs": [],
   "source": [
    "from gplearn.genetic import SymbolicRegressor\n"
   ]
  },
  {
   "cell_type": "code",
   "execution_count": 15,
   "metadata": {},
   "outputs": [],
   "source": [
    "est_gp = SymbolicRegressor(population_size=200,\n",
    "                           generations=20, stopping_criteria=0.01,\n",
    "                           p_crossover=0.7, p_subtree_mutation=0.1,\n",
    "                           p_hoist_mutation=0.05, p_point_mutation=0.1,\n",
    "                           max_samples=0.9, verbose=1,\n",
    "                           parsimony_coefficient=0.01, random_state=0)"
   ]
  },
  {
   "cell_type": "code",
   "execution_count": 36,
   "metadata": {},
   "outputs": [
    {
     "name": "stderr",
     "output_type": "stream",
     "text": [
      "/anaconda3/lib/python3.6/site-packages/sklearn/utils/validation.py:578: DataConversionWarning: A column-vector y was passed when a 1d array was expected. Please change the shape of y to (n_samples, ), for example using ravel().\n",
      "  y = column_or_1d(y, warn=True)\n"
     ]
    },
    {
     "name": "stdout",
     "output_type": "stream",
     "text": [
      "    |    Population Average   |             Best Individual              |\n",
      "---- ------------------------- ------------------------------------------ ----------\n",
      " Gen   Length          Fitness   Length          Fitness      OOB Fitness  Time Left\n",
      "   0    46.36 8609.485774353489       63 4043.5247695469393 29093.147720438188      4.33s\n",
      "   1    44.89 7093.435950247986       63 4043.4849761709074 29094.37667615314      6.16s\n",
      "   2    36.01 7118.205869947984       21 4039.060054533296 29068.209231878474      6.36s\n",
      "   3    25.22 7190.03705608787       51 4033.639354668491 29106.519163274883      6.17s\n",
      "   4    26.12 7291.795924910594       31 4038.7165558180463 29065.896686445623      6.05s\n",
      "   5    32.75 7188.169015668722       31 4038.7165558180463 29065.896686445623      5.89s\n",
      "   6    36.96 7148.7560677936835       31 4041.269222759722 29065.91453424749      5.61s\n",
      "   7    37.27 7147.318640490105       49 4038.8165793952053 29068.70528130359      5.31s\n",
      "   8    44.42 7175.602126331979       51 4051.04738085156 29068.660329273294      5.00s\n",
      "   9    47.08 7261.913607073041       93 4016.357907502352 29078.141467960224      4.93s\n",
      "  10    43.14 7135.062664827292       99 3940.386894526325 28973.56931194558      4.54s\n",
      "  11    61.32 7303.808266934613      153 3744.291436135653 29068.61645806094      4.14s\n",
      "  12    91.15 7779.190262519962      155 3642.4473402345034 29068.599539180334      3.68s\n",
      "  13    85.79 7422.248612629229      155 2874.1100925125857 29068.60061115666      3.18s\n",
      "  14   108.26 7168.066465764754      151 2667.8319899709604 29068.64198734524      2.69s\n",
      "  15   127.01 7931.107140000726      151 2817.845455686129 29068.642087340497      2.22s\n",
      "  16   129.53 7437.084875487424      151 2817.845455686129 29068.642087340497      1.74s\n",
      "  17   144.77 8688.97543312862      161 2703.7117234418683 29068.797966617665      1.21s\n",
      "  18   139.62 9923.568578331251      165 2639.5576293712606 29068.798137939848      0.62s\n",
      "  19   149.12 137482.74853541146      169 2599.214519021899 29068.74158057022      0.00s\n"
     ]
    },
    {
     "data": {
      "text/plain": [
       "SymbolicRegressor(const_range=(-1.0, 1.0),\n",
       "         function_set=('add', 'sub', 'mul', 'div'), generations=20,\n",
       "         init_depth=(2, 6), init_method='half and half', max_samples=0.9,\n",
       "         metric='mean absolute error', n_jobs=1, p_crossover=0.7,\n",
       "         p_hoist_mutation=0.05, p_point_mutation=0.1, p_point_replace=0.05,\n",
       "         p_subtree_mutation=0.1, parsimony_coefficient=0.01,\n",
       "         population_size=200, random_state=0, stopping_criteria=0.01,\n",
       "         tournament_size=20, verbose=1, warm_start=False)"
      ]
     },
     "execution_count": 36,
     "metadata": {},
     "output_type": "execute_result"
    }
   ],
   "source": [
    "final_train_X = np.reshape(sorted_x_train_pca,(len(sorted_x_train_pca),1))\n",
    "final_train_Y = np.reshape(sorted_y_train,(len(sorted_y_train),1))\n",
    "est_gp.fit(final_train_X,final_train_Y)"
   ]
  },
  {
   "cell_type": "code",
   "execution_count": 37,
   "metadata": {},
   "outputs": [
    {
     "name": "stdout",
     "output_type": "stream",
     "text": [
      "mul(sub(div(X0, -0.494), mul(sub(sub(0.220, X0), mul(-0.443, -0.387)), div(mul(add(sub(mul(div(div(X0, X0), mul(0.380, mul(X0, -0.847))), add(div(X0, div(sub(X0, X0), mul(mul(sub(0.905, X0), sub(-0.692, 0.377)), X0))), mul(X0, X0))), add(mul(add(mul(-0.286, -0.670), 0.260), div(X0, X0)), mul(sub(div(X0, -0.494), mul(-0.218, div(mul(add(add(X0, X0), mul(X0, X0)), add(0.359, div(0.260, X0))), sub(sub(mul(-0.692, 0.377), add(-0.212, 0.065)), add(add(0.712, X0), sub(mul(-0.286, -0.670), X0)))))), sub(div(X0, -0.494), add(-0.680, 0.823))))), mul(X0, X0)), add(sub(div(X0, -0.494), mul(sub(div(0.961, -0.149), mul(-0.443, -0.387)), div(mul(add(add(X0, X0), mul(X0, X0)), add(mul(-0.286, -0.670), 0.260)), sub(sub(sub(-0.692, 0.377), add(-0.212, 0.065)), add(div(0.712, X0), div(0.773, 0.306)))))), 0.260)), sub(sub(sub(-0.692, 0.377), add(-0.212, 0.065)), add(div(0.712, X0), div(0.773, 0.306)))))), sub(div(X0, -0.494), mul(X0, X0)))\n"
     ]
    }
   ],
   "source": [
    "print(est_gp._program)"
   ]
  },
  {
   "cell_type": "code",
   "execution_count": null,
   "metadata": {},
   "outputs": [],
   "source": []
  }
 ],
 "metadata": {
  "kernelspec": {
   "display_name": "Python 3",
   "language": "python",
   "name": "python3"
  },
  "language_info": {
   "codemirror_mode": {
    "name": "ipython",
    "version": 3
   },
   "file_extension": ".py",
   "mimetype": "text/x-python",
   "name": "python",
   "nbconvert_exporter": "python",
   "pygments_lexer": "ipython3",
   "version": "3.6.5"
  }
 },
 "nbformat": 4,
 "nbformat_minor": 1
}

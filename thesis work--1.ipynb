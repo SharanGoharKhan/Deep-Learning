{
 "cells": [
  {
   "cell_type": "markdown",
   "metadata": {},
   "source": [
    "# Thesis work--1"
   ]
  },
  {
   "cell_type": "markdown",
   "metadata": {},
   "source": [
    "### Importing the libraries"
   ]
  },
  {
   "cell_type": "code",
   "execution_count": 2,
   "metadata": {},
   "outputs": [],
   "source": [
    "import numpy as np\n",
    "import matplotlib.pyplot as plt\n",
    "import pandas as pd\n",
    "from random import randrange, uniform"
   ]
  },
  {
   "cell_type": "markdown",
   "metadata": {},
   "source": [
    "### Global variables and functions for tuning"
   ]
  },
  {
   "cell_type": "code",
   "execution_count": 3,
   "metadata": {},
   "outputs": [],
   "source": [
    "FEATURES = 3\n",
    "ROWS = 200\n",
    "LOW_RANGE = 0\n",
    "HIGH_RANGE = 10\n",
    "NUMBER_OF_REGIONS = 3\n",
    "SELECTION_X_GENERATOR = ['random_normal_dist','random_normal_range','set_manual_x']\n",
    "SELECTED_GENERATOR = SELECTION_X_GENERATOR[0]\n",
    "APPLY_FEATURE_SCALING = False\n",
    "formula = lambda X: X[:, 0]**2 - X[:, 1]**2 + X[:, 1] - 1"
   ]
  },
  {
   "cell_type": "markdown",
   "metadata": {},
   "source": [
    "### Generating random numbers using normal distribution"
   ]
  },
  {
   "cell_type": "code",
   "execution_count": 4,
   "metadata": {},
   "outputs": [],
   "source": [
    "def rnd_norm():\n",
    "    X = []\n",
    "    for itr in range(FEATURES):\n",
    "        X.append(np.random.normal(size=ROWS))\n",
    "    X = np.asarray(X)\n",
    "    X = X.reshape(ROWS,FEATURES)\n",
    "    return X\n",
    "    "
   ]
  },
  {
   "cell_type": "markdown",
   "metadata": {},
   "source": [
    "### GENERATE NUMBER USING RANGES "
   ]
  },
  {
   "cell_type": "code",
   "execution_count": 5,
   "metadata": {},
   "outputs": [],
   "source": [
    "def rnd_rng():\n",
    "    X = []\n",
    "    for feat_ in range(FEATURES):\n",
    "        temp_ = []\n",
    "        for rows_ in range(ROWS):\n",
    "            temp_.append(uniform(LOW_RANGE, HIGH_RANGE))\n",
    "        X.append(temp_)\n",
    "        temp_ = []\n",
    "    X = np.asarray(X)\n",
    "    X = X.reshape(ROWS,FEATURES)\n",
    "    return X"
   ]
  },
  {
   "cell_type": "markdown",
   "metadata": {},
   "source": [
    "### MANUALLY SET X"
   ]
  },
  {
   "cell_type": "code",
   "execution_count": 6,
   "metadata": {},
   "outputs": [],
   "source": [
    "def mnl_x():\n",
    "    X = [[4.77483186, 3.39440415, 57.05801446, 6.71629158],\n",
    " [6.61347886, 7.2255493,  122.77241787, 7.31532667],\n",
    " [4.5746061,  6.94376097, 1.57398063, 7.61596309],\n",
    " [3.99442041, 7.74271857, -22.18103276, 8.69864701],\n",
    " [7.74195296, 8.66056046, 1000.71418768, 8.66512174],\n",
    " [0.70227095, 8.48112974, 12.18087887, 9.98354661],\n",
    " [3.30624855, 1.28647579, 29.10406468, 8.96630542],\n",
    " [5.7062847,  7.72417331, 56.45891841, 5.15614429],\n",
    " [3.70369596, 1.79230683, 157.60607582, 9.4736015 ],\n",
    " [5.36628365, 9.68201719, 888.00342486, 2.75472882]]\n",
    "    X = np.asarray(X)\n",
    "    return X"
   ]
  },
  {
   "cell_type": "markdown",
   "metadata": {},
   "source": [
    "### SELECT GENERATION METHOD"
   ]
  },
  {
   "cell_type": "code",
   "execution_count": 7,
   "metadata": {},
   "outputs": [],
   "source": [
    "if 'random_normal_dist' == SELECTED_GENERATOR:\n",
    "    X = rnd_norm()\n",
    "elif 'random_normal_range' == SELECTED_GENERATOR:\n",
    "    X = rnd_rng()\n",
    "elif 'set_manual_x' == SELECTED_GENERATOR:\n",
    "    X = mnl_x()"
   ]
  },
  {
   "cell_type": "markdown",
   "metadata": {},
   "source": [
    "### Generating random numbers Y"
   ]
  },
  {
   "cell_type": "code",
   "execution_count": 9,
   "metadata": {},
   "outputs": [],
   "source": [
    "Y = formula(X)"
   ]
  },
  {
   "cell_type": "markdown",
   "metadata": {},
   "source": [
    "### Splitting the dataset into the Training set and Test set"
   ]
  },
  {
   "cell_type": "code",
   "execution_count": 10,
   "metadata": {},
   "outputs": [],
   "source": [
    "from sklearn.model_selection import train_test_split\n",
    "X_train, X_test, y_train, y_test = train_test_split(X, Y, test_size = 0.2, random_state = 0)"
   ]
  },
  {
   "cell_type": "markdown",
   "metadata": {},
   "source": [
    "### Feature Scaling"
   ]
  },
  {
   "cell_type": "code",
   "execution_count": 11,
   "metadata": {},
   "outputs": [],
   "source": [
    "from sklearn.preprocessing import StandardScaler\n",
    "if APPLY_FEATURE_SCALING:\n",
    "    sc = StandardScaler()\n",
    "    X_train = sc.fit_transform(X_train)\n",
    "    X_test = sc.transform(X_test)"
   ]
  },
  {
   "cell_type": "markdown",
   "metadata": {},
   "source": [
    "### Applying PCA"
   ]
  },
  {
   "cell_type": "code",
   "execution_count": 12,
   "metadata": {},
   "outputs": [],
   "source": [
    "from sklearn.decomposition import PCA\n",
    "pca = PCA(n_components = 1)\n",
    "#print(X_train)\n",
    "X_train_pca = pca.fit_transform(X_train)\n",
    "X_test_pca = pca.transform(X_test)\n",
    "explained_variance = pca.explained_variance_ratio_\n",
    "#print(X_train_pca)\n",
    "#print(X_test_pca)\n",
    "# print(np.shape(X_train),np.shape(X_test))\n",
    "#print(explained_variance)"
   ]
  },
  {
   "cell_type": "markdown",
   "metadata": {},
   "source": [
    "### Applying LDA"
   ]
  },
  {
   "cell_type": "code",
   "execution_count": 13,
   "metadata": {},
   "outputs": [],
   "source": [
    "from sklearn.discriminant_analysis import LinearDiscriminantAnalysis as LDA\n",
    "# lda = LDA(n_components = None)\n",
    "# X_train_lda = lda.fit_transform(X_train, y_train)\n",
    "# X_test_lda = lda.transform(X_test)"
   ]
  },
  {
   "cell_type": "markdown",
   "metadata": {},
   "source": [
    "### Applying Kernel PCA"
   ]
  },
  {
   "cell_type": "code",
   "execution_count": 14,
   "metadata": {},
   "outputs": [],
   "source": [
    "from sklearn.decomposition import KernelPCA\n",
    "# kpca = KernelPCA(n_components = 2, kernel = 'rbf')\n",
    "# X_train_pca = kpca.fit_transform(X_train)\n",
    "# X_test_pca = kpca.transform(X_test)"
   ]
  },
  {
   "cell_type": "markdown",
   "metadata": {},
   "source": [
    "### Calculating DV"
   ]
  },
  {
   "cell_type": "code",
   "execution_count": 15,
   "metadata": {},
   "outputs": [
    {
     "name": "stdout",
     "output_type": "stream",
     "text": [
      "{0: [1, 9, 12, 15, 16, 19, 22, 23, 25, 27, 30, 32, 35, 39, 41, 48, 51, 53, 55, 57, 59, 62, 63, 65, 67, 72, 76, 78, 80, 85, 88, 90, 92, 94, 98, 101, 104, 105, 107, 108, 110, 111, 113, 115, 117, 119, 128, 129, 131, 136, 145, 148, 154], 1: [2, 3, 5, 6, 7, 8, 10, 20, 21, 26, 28, 31, 33, 40, 43, 44, 45, 47, 52, 60, 69, 70, 79, 82, 83, 95, 96, 99, 102, 116, 121, 122, 123, 124, 125, 126, 132, 133, 134, 135, 137, 139, 140, 141, 142, 143, 144, 147, 151, 152, 155, 157], 2: [0, 4, 11, 13, 14, 17, 18, 24, 29, 34, 36, 37, 38, 42, 46, 49, 50, 54, 56, 58, 61, 64, 66, 68, 71, 73, 74, 75, 77, 81, 84, 86, 87, 89, 91, 93, 97, 100, 103, 106, 109, 112, 114, 118, 120, 127, 130, 138, 146, 149, 150, 153, 156]}\n"
     ]
    }
   ],
   "source": [
    "# sort X_train_pca and y_train by index\n",
    "sorted_indexes = np.argsort(X_train_pca,axis=0)\n",
    "sorted_x_train_pca = X_train_pca[sorted_indexes]\n",
    "sorted_y_train = y_train[sorted_indexes]\n",
    "\n",
    "# Finding Change of Slope\n",
    "slope1 = []\n",
    "slope2 = []\n",
    "for itr in range(1,len(sorted_x_train_pca)):\n",
    "    slope1.append((sorted_y_train[itr]-sorted_y_train[itr-1])/(sorted_x_train_pca[itr]-sorted_x_train_pca[itr-1]))\n",
    "for itr in range(1,len(slope1)):\n",
    "    slope2.append((slope1[itr]-slope1[itr-1])/(sorted_x_train_pca[itr]-sorted_x_train_pca[itr-1]))\n",
    "\n",
    "# normalize slope2 \n",
    "normalized_slope2 = (slope2-min(slope2))/(max(slope2)-min(slope2))\n",
    "\n",
    "# Calculating Quantiles\n",
    "normalized_slope2 = np.reshape(normalized_slope2,len(normalized_slope2))\n",
    "quantile_ranges = pd.qcut(normalized_slope2,NUMBER_OF_REGIONS,labels=False,retbins=True)\n",
    "quantile_ranges = quantile_ranges[1]\n",
    "\n",
    "# Adding the difficult Vectors\n",
    "difficult_points = {}\n",
    "for q_ind in range(NUMBER_OF_REGIONS):\n",
    "    low = quantile_ranges[q_ind]\n",
    "    high = quantile_ranges[q_ind+1]\n",
    "    difficult_points[q_ind] = []\n",
    "    for n_ind in range(0,len(normalized_slope2)):\n",
    "        if normalized_slope2[n_ind] >= low and normalized_slope2[n_ind] <= high:\n",
    "            difficult_points[q_ind].append(n_ind)\n",
    "print(difficult_points)"
   ]
  },
  {
   "cell_type": "markdown",
   "metadata": {},
   "source": [
    "### Training of converted PCA"
   ]
  },
  {
   "cell_type": "code",
   "execution_count": 16,
   "metadata": {},
   "outputs": [],
   "source": [
    "from gplearn.genetic import SymbolicRegressor\n"
   ]
  },
  {
   "cell_type": "code",
   "execution_count": 17,
   "metadata": {},
   "outputs": [],
   "source": [
    "est_gp = SymbolicRegressor(population_size=200,\n",
    "                           generations=20, stopping_criteria=0.01,\n",
    "                           p_crossover=0.7, p_subtree_mutation=0.1,\n",
    "                           p_hoist_mutation=0.05, p_point_mutation=0.1,\n",
    "                           max_samples=0.9, verbose=1,\n",
    "                           parsimony_coefficient=0.01, random_state=0)"
   ]
  },
  {
   "cell_type": "code",
   "execution_count": 18,
   "metadata": {},
   "outputs": [
    {
     "name": "stderr",
     "output_type": "stream",
     "text": [
      "/anaconda3/lib/python3.6/site-packages/sklearn/utils/validation.py:578: DataConversionWarning: A column-vector y was passed when a 1d array was expected. Please change the shape of y to (n_samples, ), for example using ravel().\n",
      "  y = column_or_1d(y, warn=True)\n"
     ]
    },
    {
     "name": "stdout",
     "output_type": "stream",
     "text": [
      "    |    Population Average   |             Best Individual              |\n",
      "---- ------------------------- ------------------------------------------ ----------\n",
      " Gen   Length          Fitness   Length          Fitness      OOB Fitness  Time Left\n",
      "   0    46.36 361.42354401403026        7 1.5530114564811555 1.3279155394997557      4.26s\n",
      "   1     11.3 2.1449814571210433        7 1.4645813660312463 2.123786353548935      4.77s\n",
      "   2     5.98 2.6618250230268656        7 1.4131397092935032 2.5867612641886235      4.33s\n",
      "   3     2.58 2.849348669230036        1 1.3987103379300407 2.755785864067473      3.51s\n",
      "   4     1.32 1.5601020721261465        1 1.364511278936234 3.0635773950117327      2.86s\n",
      "   5     1.34 1.5955040073548066        1 1.3583875424002438 3.118691023835642      2.41s\n",
      "   6      2.3 1.7897387901203101        1 1.3878125536897128 2.8538659222304235      2.12s\n",
      "   7     1.42 1.6534561153179161        1 1.3859383583391827 2.870733680385195      1.83s\n",
      "   8     1.67 1.798814421750319        1 1.430153709230894 2.4727955223597933      1.61s\n",
      "   9     1.68 1.6628043754985804        1 1.378832773128477 2.9346839472815445      1.39s\n",
      "  10     1.54 1.7072639316587643        1 1.3729508988656087 2.98762081564736      1.20s\n",
      "  11     1.44 1.8197902111196875        1 1.3947143098920305 2.791750116409564      1.03s\n",
      "  12     1.33 1.658609469032826        1 1.3811777205507405 2.913579420481176      0.88s\n",
      "  13     1.56 2.1919262222389007        1 1.3846401215096757 2.8824178118507566      0.75s\n",
      "  14     1.32 1.586948350264445        1 1.4043452551245021 2.7050716093173195      0.63s\n",
      "  15     1.46 1.6698522101088775        1 1.4067411324625785 2.683508713274634      0.50s\n",
      "  16     1.34 1.624196832575434        1 1.391940076594151 2.816718216090479      0.37s\n",
      "  17     1.58 1.8815596281410365        1 1.4069870649534286 2.6812953208569814      0.24s\n",
      "  18      1.3 1.6034096833550422        1 1.3493765972861909 3.1997895298621195      0.12s\n",
      "  19     1.54 1.6054023953705763        1 1.4156319868839962 2.603491023481872      0.00s\n"
     ]
    },
    {
     "data": {
      "text/plain": [
       "SymbolicRegressor(const_range=(-1.0, 1.0),\n",
       "         function_set=('add', 'sub', 'mul', 'div'), generations=20,\n",
       "         init_depth=(2, 6), init_method='half and half', max_samples=0.9,\n",
       "         metric='mean absolute error', n_jobs=1, p_crossover=0.7,\n",
       "         p_hoist_mutation=0.05, p_point_mutation=0.1, p_point_replace=0.05,\n",
       "         p_subtree_mutation=0.1, parsimony_coefficient=0.01,\n",
       "         population_size=200, random_state=0, stopping_criteria=0.01,\n",
       "         tournament_size=20, verbose=1, warm_start=False)"
      ]
     },
     "execution_count": 18,
     "metadata": {},
     "output_type": "execute_result"
    }
   ],
   "source": [
    "final_train_X = np.reshape(sorted_x_train_pca,(len(sorted_x_train_pca),1))\n",
    "final_train_Y = np.reshape(sorted_y_train,(len(sorted_y_train),1))\n",
    "est_gp.fit(final_train_X,final_train_Y)"
   ]
  },
  {
   "cell_type": "code",
   "execution_count": 19,
   "metadata": {},
   "outputs": [
    {
     "name": "stdout",
     "output_type": "stream",
     "text": [
      "-0.667\n"
     ]
    }
   ],
   "source": [
    "print(est_gp._program)"
   ]
  },
  {
   "cell_type": "markdown",
   "metadata": {},
   "source": [
    "### Training of unconverted PCA"
   ]
  },
  {
   "cell_type": "code",
   "execution_count": 28,
   "metadata": {},
   "outputs": [
    {
     "name": "stderr",
     "output_type": "stream",
     "text": [
      "/anaconda3/lib/python3.6/site-packages/sklearn/utils/validation.py:578: DataConversionWarning: A column-vector y was passed when a 1d array was expected. Please change the shape of y to (n_samples, ), for example using ravel().\n",
      "  y = column_or_1d(y, warn=True)\n"
     ]
    },
    {
     "name": "stdout",
     "output_type": "stream",
     "text": [
      "    |    Population Average   |             Best Individual              |\n",
      "---- ------------------------- ------------------------------------------ ----------\n",
      " Gen   Length          Fitness   Length          Fitness      OOB Fitness  Time Left\n",
      "   0     33.4 768.7899027033251        9 1.3260588075470194 1.5326098234895347      3.83s\n",
      "   1     8.42 2.3877529025668456        9 1.2886609818682824 1.8691902545981676      4.19s\n",
      "   2     8.99 2.1382212078498637       17 1.0528173767128024 1.092013531745478      4.37s\n",
      "   3     9.73 2.1242941171236724       23 0.8786627214793072 1.5354577153083542      4.67s\n",
      "   4    11.66 1.8207930031642678       17 0.9144762832729083 1.424311407128667      5.16s\n",
      "   5    11.93 1.8921884834483313       11 0.9326980127651413 1.0462583265142236      5.33s\n",
      "   6     9.94 2.2087883192419566        7 0.9519330807205336 1.832407433008849      5.07s\n",
      "   7     8.82 1.7884369677683893       11 0.8781756993116657 1.5369591475955036      4.77s\n",
      "   8     9.73 3.6264436972890963       11 0.8240106352784609 2.024444723894348      4.40s\n",
      "   9    10.32 3.176736950892563       11 0.8595314859070451 1.704757068237091      4.15s\n",
      "  10    11.15 1.8931830690484721       11 0.8358344319963985 1.9180305534329094      3.86s\n",
      "  11    10.98 1.804204480540551       15 0.8065745280876955 1.1536528170789102      3.48s\n",
      "  12    12.11 1.7505871411009406       11 0.7732260996142973 0.7742652318352932      3.04s\n",
      "  13     12.8 1.7500809669639046       13 0.13045668007820413 0.12923021302887971      2.59s\n",
      "  14    11.33 1.622460336728222       13 0.13020614748570697 0.13148500636135413      2.16s\n",
      "  15    12.58 1.7227087632279252       13 0.1301821387423221 0.1317010850518179      1.75s\n",
      "  16    12.73 1.9668107371943808       13 0.13002324870871862 0.13313109535424944      1.33s\n",
      "  17    13.56 3.4998318464824716       13 0.1301280187741779 0.13218816476511544      0.90s\n",
      "  18    13.49 3.8383029476777613       13 0.13009636948862022 0.13247300833513484      0.46s\n",
      "  19    12.75 5.092287603331762       13 0.1301418056581261 0.13206408280958187      0.00s\n"
     ]
    },
    {
     "data": {
      "text/plain": [
       "SymbolicRegressor(const_range=(-1.0, 1.0),\n",
       "         function_set=('add', 'sub', 'mul', 'div'), generations=20,\n",
       "         init_depth=(2, 6), init_method='half and half', max_samples=0.9,\n",
       "         metric='mean absolute error', n_jobs=1, p_crossover=0.7,\n",
       "         p_hoist_mutation=0.05, p_point_mutation=0.1, p_point_replace=0.05,\n",
       "         p_subtree_mutation=0.1, parsimony_coefficient=0.01,\n",
       "         population_size=200, random_state=0, stopping_criteria=0.01,\n",
       "         tournament_size=20, verbose=1, warm_start=False)"
      ]
     },
     "execution_count": 28,
     "metadata": {},
     "output_type": "execute_result"
    }
   ],
   "source": [
    "est_gp = SymbolicRegressor(population_size=200,\n",
    "                           generations=20, stopping_criteria=0.01,\n",
    "                           p_crossover=0.7, p_subtree_mutation=0.1,\n",
    "                           p_hoist_mutation=0.05, p_point_mutation=0.1,\n",
    "                           max_samples=0.9, verbose=1,\n",
    "                           parsimony_coefficient=0.01, random_state=0)\n",
    "temp_y_train = np.reshape(y_train,(len(y_train),1))\n",
    "est_gp.fit(X_train,temp_y_train)"
   ]
  },
  {
   "cell_type": "code",
   "execution_count": 29,
   "metadata": {},
   "outputs": [
    {
     "name": "stdout",
     "output_type": "stream",
     "text": [
      "sub(add(mul(X0, X0), -0.643), mul(sub(X1, 0.353), add(X1, -0.643)))\n"
     ]
    }
   ],
   "source": [
    "print(est_gp._program)"
   ]
  },
  {
   "cell_type": "code",
   "execution_count": null,
   "metadata": {},
   "outputs": [],
   "source": []
  }
 ],
 "metadata": {
  "kernelspec": {
   "display_name": "Python 3",
   "language": "python",
   "name": "python3"
  },
  "language_info": {
   "codemirror_mode": {
    "name": "ipython",
    "version": 3
   },
   "file_extension": ".py",
   "mimetype": "text/x-python",
   "name": "python",
   "nbconvert_exporter": "python",
   "pygments_lexer": "ipython3",
   "version": "3.6.5"
  }
 },
 "nbformat": 4,
 "nbformat_minor": 1
}

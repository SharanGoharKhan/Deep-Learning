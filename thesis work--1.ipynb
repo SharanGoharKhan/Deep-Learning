{
 "cells": [
  {
   "cell_type": "markdown",
   "metadata": {},
   "source": [
    "# Thesis work--1"
   ]
  },
  {
   "cell_type": "markdown",
   "metadata": {},
   "source": [
    "### Importing the libraries"
   ]
  },
  {
   "cell_type": "code",
   "execution_count": 144,
   "metadata": {},
   "outputs": [],
   "source": [
    "import numpy as np\n",
    "import matplotlib.pyplot as plt\n",
    "import pandas as pd\n",
    "from random import randrange, uniform"
   ]
  },
  {
   "cell_type": "markdown",
   "metadata": {},
   "source": [
    "### Global variables and functions for tuning"
   ]
  },
  {
   "cell_type": "code",
   "execution_count": 145,
   "metadata": {},
   "outputs": [],
   "source": [
    "FEATURES = 4\n",
    "ROWS = 10\n",
    "LOW_RANGE = 0\n",
    "HIGH_RANGE = 10\n",
    "SELECTION_X_GENERATOR = ['random_normal_dist','random_normal_range','set_manual_x']\n",
    "SELECTED_GENERATOR = SELECTION_X_GENERATOR[1]\n",
    "APPLY_FEATURE_SCALING = False\n",
    "formula = lambda X: X[:,2] - X[:,0] + 5*X[:,1]**2 + (abs(X[:,3])*100)**2"
   ]
  },
  {
   "cell_type": "markdown",
   "metadata": {},
   "source": [
    "### Generating random numbers using normal distribution"
   ]
  },
  {
   "cell_type": "code",
   "execution_count": 146,
   "metadata": {},
   "outputs": [],
   "source": [
    "def rnd_norm():\n",
    "    X = []\n",
    "    for itr in range(FEATURES):\n",
    "        X.append(np.random.normal(size=ROWS))\n",
    "    X = np.asarray(X)\n",
    "    X = X.reshape(ROWS,FEATURES)\n",
    "    return X\n",
    "    "
   ]
  },
  {
   "cell_type": "markdown",
   "metadata": {},
   "source": [
    "### GENERATE NUMBER USING RANGES "
   ]
  },
  {
   "cell_type": "code",
   "execution_count": 147,
   "metadata": {},
   "outputs": [],
   "source": [
    "def rnd_rng():\n",
    "    X = []\n",
    "    for feat_ in range(FEATURES):\n",
    "        temp_ = []\n",
    "        for rows_ in range(ROWS):\n",
    "            temp_.append(uniform(LOW_RANGE, HIGH_RANGE))\n",
    "        X.append(temp_)\n",
    "        temp_ = []\n",
    "    X = np.asarray(X)\n",
    "    X = X.reshape(ROWS,FEATURES)\n",
    "    return X"
   ]
  },
  {
   "cell_type": "markdown",
   "metadata": {},
   "source": [
    "### MANUALLY SET X"
   ]
  },
  {
   "cell_type": "code",
   "execution_count": 148,
   "metadata": {},
   "outputs": [],
   "source": [
    "def mnl_x():\n",
    "    X = [[4.77483186, 3.39440415, 57.05801446, 6.71629158],\n",
    " [6.61347886, 7.2255493,  122.77241787, 7.31532667],\n",
    " [4.5746061,  6.94376097, 1.57398063, 7.61596309],\n",
    " [3.99442041, 7.74271857, -22.18103276, 8.69864701],\n",
    " [7.74195296, 8.66056046, 1000.71418768, 8.66512174],\n",
    " [0.70227095, 8.48112974, 12.18087887, 9.98354661],\n",
    " [3.30624855, 1.28647579, 29.10406468, 8.96630542],\n",
    " [5.7062847,  7.72417331, 56.45891841, 5.15614429],\n",
    " [3.70369596, 1.79230683, 157.60607582, 9.4736015 ],\n",
    " [5.36628365, 9.68201719, 888.00342486, 2.75472882]]\n",
    "    X = np.asarray(X)\n",
    "    return X"
   ]
  },
  {
   "cell_type": "markdown",
   "metadata": {},
   "source": [
    "### SELECT GENERATION METHOD"
   ]
  },
  {
   "cell_type": "code",
   "execution_count": 149,
   "metadata": {},
   "outputs": [],
   "source": [
    "if 'random_normal_dist' == SELECTED_GENERATOR:\n",
    "    X = rnd_norm()\n",
    "elif 'random_normal_range' == SELECTED_GENERATOR:\n",
    "    X = rnd_rng()\n",
    "elif 'set_manual_x' == SELECTED_GENERATOR:\n",
    "    X = mnl_x()"
   ]
  },
  {
   "cell_type": "markdown",
   "metadata": {},
   "source": [
    "### Generating random numbers Y"
   ]
  },
  {
   "cell_type": "code",
   "execution_count": 150,
   "metadata": {},
   "outputs": [
    {
     "name": "stdout",
     "output_type": "stream",
     "text": [
      "(10,)\n",
      "[427847.46023991  32214.58915217  67365.61700837 847049.83155207\n",
      "  65541.08960479  97518.17694715 133289.67973698 296317.99202436\n",
      "  32159.95868934 140768.24283422]\n"
     ]
    }
   ],
   "source": [
    "Y = formula(X)\n",
    "print(np.shape(Y))\n",
    "print(Y)"
   ]
  },
  {
   "cell_type": "markdown",
   "metadata": {},
   "source": [
    "### Splitting the dataset into the Training set and Test set"
   ]
  },
  {
   "cell_type": "code",
   "execution_count": 151,
   "metadata": {},
   "outputs": [],
   "source": [
    "from sklearn.model_selection import train_test_split\n",
    "X_train, X_test, y_train, y_test = train_test_split(X, Y, test_size = 0.2, random_state = 0)"
   ]
  },
  {
   "cell_type": "markdown",
   "metadata": {},
   "source": [
    "### Feature Scaling"
   ]
  },
  {
   "cell_type": "code",
   "execution_count": 152,
   "metadata": {},
   "outputs": [],
   "source": [
    "from sklearn.preprocessing import StandardScaler\n",
    "if APPLY_FEATURE_SCALING:\n",
    "    sc = StandardScaler()\n",
    "    X_train = sc.fit_transform(X_train)\n",
    "    X_test = sc.transform(X_test)"
   ]
  },
  {
   "cell_type": "markdown",
   "metadata": {},
   "source": [
    "### Applying PCA"
   ]
  },
  {
   "cell_type": "code",
   "execution_count": 160,
   "metadata": {},
   "outputs": [
    {
     "name": "stdout",
     "output_type": "stream",
     "text": [
      "[[0.53774486 9.49273557 1.2716799  2.55127018]\n",
      " [1.54642689 0.60882226 0.46852903 3.75189908]\n",
      " [3.36575131 1.93161878 3.64738687 1.79431468]\n",
      " [1.21212386 7.72467462 6.32183733 3.64672753]\n",
      " [6.63684924 6.91567964 3.9460461  5.44133761]\n",
      " [3.84910159 7.69052357 5.1389027  9.20191731]\n",
      " [3.94653461 6.67357544 1.93778794 6.5393179 ]\n",
      " [1.28423668 8.48104303 9.61317545 3.1168928 ]]\n",
      "[[-0.4867446 ]\n",
      " [ 6.5765848 ]\n",
      " [ 3.9717073 ]\n",
      " [-2.48111085]\n",
      " [-0.55800107]\n",
      " [-2.6238301 ]\n",
      " [ 0.62245206]\n",
      " [-5.02105753]]\n",
      "[[0.52550755]\n",
      " [1.68436255]]\n",
      "[0.48209874]\n"
     ]
    }
   ],
   "source": [
    "from sklearn.decomposition import PCA\n",
    "pca = PCA(n_components = 1)\n",
    "print(X_train)\n",
    "X_train_pca = pca.fit_transform(X_train)\n",
    "X_test_pca = pca.transform(X_test)\n",
    "explained_variance = pca.explained_variance_ratio_\n",
    "print(X_train_pca)\n",
    "print(X_test_pca)\n",
    "# print(np.shape(X_train),np.shape(X_test))\n",
    "print(explained_variance)"
   ]
  },
  {
   "cell_type": "markdown",
   "metadata": {},
   "source": [
    "### Applying LDA"
   ]
  },
  {
   "cell_type": "code",
   "execution_count": 161,
   "metadata": {},
   "outputs": [],
   "source": [
    "from sklearn.discriminant_analysis import LinearDiscriminantAnalysis as LDA\n",
    "# lda = LDA(n_components = None)\n",
    "# X_train_lda = lda.fit_transform(X_train, y_train)\n",
    "# X_test_lda = lda.transform(X_test)"
   ]
  },
  {
   "cell_type": "markdown",
   "metadata": {},
   "source": [
    "### Applying Kernel PCA"
   ]
  },
  {
   "cell_type": "code",
   "execution_count": 156,
   "metadata": {},
   "outputs": [],
   "source": [
    "from sklearn.decomposition import KernelPCA\n",
    "kpca = KernelPCA(n_components = 2, kernel = 'rbf')\n",
    "X_train_pca = kpca.fit_transform(X_train)\n",
    "X_test_pca = kpca.transform(X_test)"
   ]
  },
  {
   "cell_type": "markdown",
   "metadata": {},
   "source": [
    "### Applying without hard points"
   ]
  },
  {
   "cell_type": "code",
   "execution_count": null,
   "metadata": {},
   "outputs": [],
   "source": [
    "error = 0 \n"
   ]
  }
 ],
 "metadata": {
  "kernelspec": {
   "display_name": "Python 3",
   "language": "python",
   "name": "python3"
  },
  "language_info": {
   "codemirror_mode": {
    "name": "ipython",
    "version": 3
   },
   "file_extension": ".py",
   "mimetype": "text/x-python",
   "name": "python",
   "nbconvert_exporter": "python",
   "pygments_lexer": "ipython3",
   "version": "3.6.5"
  }
 },
 "nbformat": 4,
 "nbformat_minor": 1
}

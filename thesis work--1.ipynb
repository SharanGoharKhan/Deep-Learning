{
 "cells": [
  {
   "cell_type": "markdown",
   "metadata": {},
   "source": [
    "# Thesis work--1"
   ]
  },
  {
   "cell_type": "markdown",
   "metadata": {},
   "source": [
    "### Importing the libraries"
   ]
  },
  {
   "cell_type": "code",
   "execution_count": 1,
   "metadata": {},
   "outputs": [],
   "source": [
    "import numpy as np\n",
    "import matplotlib.pyplot as plt\n",
    "import pandas as pd\n",
    "from random import randrange, uniform"
   ]
  },
  {
   "cell_type": "markdown",
   "metadata": {},
   "source": [
    "### Global variables and functions for tuning"
   ]
  },
  {
   "cell_type": "code",
   "execution_count": 2,
   "metadata": {},
   "outputs": [],
   "source": [
    "FEATURES = 4\n",
    "ROWS = 10\n",
    "LOW_RANGE = 0\n",
    "HIGH_RANGE = 10\n",
    "SELECTION_X_GENERATOR = ['random_normal_dist','random_normal_range','set_manual_x']\n",
    "SELECTED_GENERATOR = SELECTION_X_GENERATOR[0]\n",
    "APPLY_FEATURE_SCALING = False\n",
    "formula = lambda X: X[:,2] - X[:,0] + 5*X[:,1]**2 + (abs(X[:,3])*100)**2"
   ]
  },
  {
   "cell_type": "markdown",
   "metadata": {},
   "source": [
    "### Generating random numbers using normal distribution"
   ]
  },
  {
   "cell_type": "code",
   "execution_count": 3,
   "metadata": {},
   "outputs": [],
   "source": [
    "def rnd_norm():\n",
    "    X = []\n",
    "    for itr in range(FEATURES):\n",
    "        X.append(np.random.normal(size=ROWS))\n",
    "    X = np.asarray(X)\n",
    "    X = X.reshape(ROWS,FEATURES)\n",
    "    return X\n",
    "    "
   ]
  },
  {
   "cell_type": "markdown",
   "metadata": {},
   "source": [
    "### GENERATE NUMBER USING RANGES "
   ]
  },
  {
   "cell_type": "code",
   "execution_count": 4,
   "metadata": {},
   "outputs": [],
   "source": [
    "def rnd_rng():\n",
    "    X = []\n",
    "    for feat_ in range(FEATURES):\n",
    "        temp_ = []\n",
    "        for rows_ in range(ROWS):\n",
    "            temp_.append(uniform(LOW_RANGE, HIGH_RANGE))\n",
    "        X.append(temp_)\n",
    "        temp_ = []\n",
    "    X = np.asarray(X)\n",
    "    X = X.reshape(ROWS,FEATURES)\n",
    "    return X"
   ]
  },
  {
   "cell_type": "markdown",
   "metadata": {},
   "source": [
    "### MANUALLY SET X"
   ]
  },
  {
   "cell_type": "code",
   "execution_count": 5,
   "metadata": {},
   "outputs": [],
   "source": [
    "def mnl_x():\n",
    "    X = [[4.77483186, 3.39440415, 57.05801446, 6.71629158],\n",
    " [6.61347886, 7.2255493,  122.77241787, 7.31532667],\n",
    " [4.5746061,  6.94376097, 1.57398063, 7.61596309],\n",
    " [3.99442041, 7.74271857, -22.18103276, 8.69864701],\n",
    " [7.74195296, 8.66056046, 1000.71418768, 8.66512174],\n",
    " [0.70227095, 8.48112974, 12.18087887, 9.98354661],\n",
    " [3.30624855, 1.28647579, 29.10406468, 8.96630542],\n",
    " [5.7062847,  7.72417331, 56.45891841, 5.15614429],\n",
    " [3.70369596, 1.79230683, 157.60607582, 9.4736015 ],\n",
    " [5.36628365, 9.68201719, 888.00342486, 2.75472882]]\n",
    "    X = np.asarray(X)\n",
    "    return X"
   ]
  },
  {
   "cell_type": "markdown",
   "metadata": {},
   "source": [
    "### SELECT GENERATION METHOD"
   ]
  },
  {
   "cell_type": "code",
   "execution_count": 6,
   "metadata": {},
   "outputs": [],
   "source": [
    "if 'random_normal_dist' == SELECTED_GENERATOR:\n",
    "    X = rnd_norm()\n",
    "elif 'random_normal_range' == SELECTED_GENERATOR:\n",
    "    X = rnd_rng()\n",
    "elif 'set_manual_x' == SELECTED_GENERATOR:\n",
    "    X = mnl_x()"
   ]
  },
  {
   "cell_type": "markdown",
   "metadata": {},
   "source": [
    "### Generating random numbers Y"
   ]
  },
  {
   "cell_type": "code",
   "execution_count": 7,
   "metadata": {},
   "outputs": [
    {
     "name": "stdout",
     "output_type": "stream",
     "text": [
      "(10,)\n",
      "[11290.28277328   982.86014465 18985.85169269  5034.63953232\n",
      "  1615.6573557   2977.23164715  1716.53602841 13718.2907906\n",
      "   967.78255613 30205.53968873]\n"
     ]
    }
   ],
   "source": [
    "Y = formula(X)\n",
    "print(np.shape(Y))\n",
    "print(Y)"
   ]
  },
  {
   "cell_type": "markdown",
   "metadata": {},
   "source": [
    "### Splitting the dataset into the Training set and Test set"
   ]
  },
  {
   "cell_type": "code",
   "execution_count": 8,
   "metadata": {},
   "outputs": [],
   "source": [
    "from sklearn.model_selection import train_test_split\n",
    "X_train, X_test, y_train, y_test = train_test_split(X, Y, test_size = 0.2, random_state = 0)"
   ]
  },
  {
   "cell_type": "markdown",
   "metadata": {},
   "source": [
    "### Feature Scaling"
   ]
  },
  {
   "cell_type": "code",
   "execution_count": 9,
   "metadata": {},
   "outputs": [],
   "source": [
    "from sklearn.preprocessing import StandardScaler\n",
    "if APPLY_FEATURE_SCALING:\n",
    "    sc = StandardScaler()\n",
    "    X_train = sc.fit_transform(X_train)\n",
    "    X_test = sc.transform(X_test)"
   ]
  },
  {
   "cell_type": "markdown",
   "metadata": {},
   "source": [
    "### Applying PCA"
   ]
  },
  {
   "cell_type": "code",
   "execution_count": 18,
   "metadata": {},
   "outputs": [
    {
     "name": "stdout",
     "output_type": "stream",
     "text": [
      "[[ 0.27225073]\n",
      " [ 2.45562474]\n",
      " [-2.26129587]\n",
      " [-0.83215731]\n",
      " [ 0.56763211]\n",
      " [-2.39196734]\n",
      " [ 1.07633142]\n",
      " [ 1.11358152]]\n"
     ]
    }
   ],
   "source": [
    "from sklearn.decomposition import PCA\n",
    "pca = PCA(n_components = 1)\n",
    "#print(X_train)\n",
    "X_train_pca = pca.fit_transform(X_train)\n",
    "X_test_pca = pca.transform(X_test)\n",
    "explained_variance = pca.explained_variance_ratio_\n",
    "print(X_train_pca)\n",
    "#print(X_test_pca)\n",
    "# print(np.shape(X_train),np.shape(X_test))\n",
    "#print(explained_variance)"
   ]
  },
  {
   "cell_type": "markdown",
   "metadata": {},
   "source": [
    "### Applying LDA"
   ]
  },
  {
   "cell_type": "code",
   "execution_count": 11,
   "metadata": {},
   "outputs": [],
   "source": [
    "from sklearn.discriminant_analysis import LinearDiscriminantAnalysis as LDA\n",
    "# lda = LDA(n_components = None)\n",
    "# X_train_lda = lda.fit_transform(X_train, y_train)\n",
    "# X_test_lda = lda.transform(X_test)"
   ]
  },
  {
   "cell_type": "markdown",
   "metadata": {},
   "source": [
    "### Applying Kernel PCA"
   ]
  },
  {
   "cell_type": "code",
   "execution_count": 12,
   "metadata": {},
   "outputs": [],
   "source": [
    "from sklearn.decomposition import KernelPCA\n",
    "kpca = KernelPCA(n_components = 2, kernel = 'rbf')\n",
    "X_train_pca = kpca.fit_transform(X_train)\n",
    "X_test_pca = kpca.transform(X_test)"
   ]
  },
  {
   "cell_type": "markdown",
   "metadata": {},
   "source": [
    "### Applying without difficult vector"
   ]
  },
  {
   "cell_type": "code",
   "execution_count": 30,
   "metadata": {},
   "outputs": [
    {
     "name": "stdout",
     "output_type": "stream",
     "text": [
      "797270641.9136169\n"
     ]
    }
   ],
   "source": [
    "# Genrate numpy array having same features given in the state\n",
    "# Number of rows should be equal to rows in test\n",
    "# Each column should repeat the same column value\n",
    "rows_test = len(X_train_pca)\n",
    "transformed_pca = X_train_pca*np.ones((rows_test,FEATURES),dtype=int)\n",
    "# predicted Y\n",
    "predicted_y = formula(transformed_pca)\n",
    "# Calculating the error between the actual and predicted value\n",
    "from sklearn.metrics import mean_squared_error\n",
    "error = mean_squared_error(y_train, predicted_y)\n",
    "print(error)"
   ]
  },
  {
   "cell_type": "markdown",
   "metadata": {},
   "source": [
    "### Applying with difficult vector\n",
    "### Calculating DV"
   ]
  },
  {
   "cell_type": "code",
   "execution_count": 51,
   "metadata": {},
   "outputs": [],
   "source": [
    "# sort X_train_pca and y_train by index\n",
    "sorted_indexes = np.argsort(X_train_pca,axis=0)\n",
    "sorted_x_train_pca = X_train_pca[sorted_indexes]\n",
    "sorted_y_train = y_train[sorted_indexes]"
   ]
  },
  {
   "cell_type": "code",
   "execution_count": 64,
   "metadata": {},
   "outputs": [
    {
     "name": "stdout",
     "output_type": "stream",
     "text": [
      "(6, 1, 1) (8, 1, 1) (8,) (7, 1, 1)\n",
      "[[[-1.29314223]]\n",
      "\n",
      " [[ 0.11411526]]\n",
      "\n",
      " [[ 0.21603053]]\n",
      "\n",
      " [[-0.31188993]]\n",
      "\n",
      " [[ 1.        ]]\n",
      "\n",
      " [[-0.94121302]]]\n"
     ]
    }
   ],
   "source": [
    "# calculating slope\n",
    "m_slope = []\n",
    "m_diff = []\n",
    "m_diff_trans = []\n",
    "max_diff = 0\n",
    "for itr in range(0,len(sorted_x_train_pca)-1):\n",
    "    m_slope.append((y_train[itr+1] - y_train[itr])/(sorted_x_train_pca[itr+1]-sorted_x_train_pca[itr]))\n",
    "for itr in range(1,len(sorted_x_train_pca)-1):\n",
    "    m_diff.append(m_slope[itr]-m_slope[itr-1])\n",
    "max_diff = max(m_diff)\n",
    "m_diff_trans = (m_diff/max_diff)\n",
    "print(np.shape(m_diff_trans),np.shape(sorted_x_train_pca),np.shape(y_train),np.shape(m_slope))\n",
    "print(m_diff_trans)"
   ]
  },
  {
   "cell_type": "markdown",
   "metadata": {},
   "source": [
    "### Sampling techniques"
   ]
  },
  {
   "cell_type": "code",
   "execution_count": null,
   "metadata": {},
   "outputs": [],
   "source": []
  }
 ],
 "metadata": {
  "kernelspec": {
   "display_name": "Python 3",
   "language": "python",
   "name": "python3"
  },
  "language_info": {
   "codemirror_mode": {
    "name": "ipython",
    "version": 3
   },
   "file_extension": ".py",
   "mimetype": "text/x-python",
   "name": "python",
   "nbconvert_exporter": "python",
   "pygments_lexer": "ipython3",
   "version": "3.6.5"
  }
 },
 "nbformat": 4,
 "nbformat_minor": 1
}
